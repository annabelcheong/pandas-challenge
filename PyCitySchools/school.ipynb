{
 "cells": [
  {
   "cell_type": "code",
   "execution_count": 108,
   "metadata": {},
   "outputs": [],
   "source": [
    "#Dependencies\n",
    "import pandas as pd"
   ]
  },
  {
   "cell_type": "code",
   "execution_count": 109,
   "metadata": {},
   "outputs": [
    {
     "output_type": "stream",
     "name": "stdout",
     "text": [
      "../Resources/schools_complete.csv\n"
     ]
    }
   ],
   "source": [
    "#Assign variable to read csv file\n",
    "school_path=\"../Resources/schools_complete.csv\"\n",
    "student_path=\"../Resources/students_complete.csv\"\n",
    "print(school_path)"
   ]
  },
  {
   "cell_type": "code",
   "execution_count": 110,
   "metadata": {},
   "outputs": [],
   "source": [
    "#Create Panda dataframes by reading csv file\n",
    "school_df=pd.read_csv(school_path)\n",
    "student_df=pd.read_csv(student_path)"
   ]
  },
  {
   "cell_type": "code",
   "execution_count": 111,
   "metadata": {},
   "outputs": [
    {
     "output_type": "execute_result",
     "data": {
      "text/plain": [
       "       Student ID       student_name gender grade         school_name  \\\n",
       "0               0       Paul Bradley      M   9th   Huang High School   \n",
       "1               1       Victor Smith      M  12th   Huang High School   \n",
       "2               2    Kevin Rodriguez      M  12th   Huang High School   \n",
       "3               3  Dr. Richard Scott      M  12th   Huang High School   \n",
       "4               4         Bonnie Ray      F   9th   Huang High School   \n",
       "...           ...                ...    ...   ...                 ...   \n",
       "39165       39165       Donna Howard      F  12th  Thomas High School   \n",
       "39166       39166          Dawn Bell      F  10th  Thomas High School   \n",
       "39167       39167     Rebecca Tanner      F   9th  Thomas High School   \n",
       "39168       39168       Desiree Kidd      F  10th  Thomas High School   \n",
       "39169       39169    Carolyn Jackson      F  11th  Thomas High School   \n",
       "\n",
       "       reading_score  math_score  School ID      type  size   budget  \n",
       "0                 66          79          0  District  2917  1910635  \n",
       "1                 94          61          0  District  2917  1910635  \n",
       "2                 90          60          0  District  2917  1910635  \n",
       "3                 67          58          0  District  2917  1910635  \n",
       "4                 97          84          0  District  2917  1910635  \n",
       "...              ...         ...        ...       ...   ...      ...  \n",
       "39165             99          90         14   Charter  1635  1043130  \n",
       "39166             95          70         14   Charter  1635  1043130  \n",
       "39167             73          84         14   Charter  1635  1043130  \n",
       "39168             99          90         14   Charter  1635  1043130  \n",
       "39169             95          75         14   Charter  1635  1043130  \n",
       "\n",
       "[39170 rows x 11 columns]"
      ],
      "text/html": "<div>\n<style scoped>\n    .dataframe tbody tr th:only-of-type {\n        vertical-align: middle;\n    }\n\n    .dataframe tbody tr th {\n        vertical-align: top;\n    }\n\n    .dataframe thead th {\n        text-align: right;\n    }\n</style>\n<table border=\"1\" class=\"dataframe\">\n  <thead>\n    <tr style=\"text-align: right;\">\n      <th></th>\n      <th>Student ID</th>\n      <th>student_name</th>\n      <th>gender</th>\n      <th>grade</th>\n      <th>school_name</th>\n      <th>reading_score</th>\n      <th>math_score</th>\n      <th>School ID</th>\n      <th>type</th>\n      <th>size</th>\n      <th>budget</th>\n    </tr>\n  </thead>\n  <tbody>\n    <tr>\n      <th>0</th>\n      <td>0</td>\n      <td>Paul Bradley</td>\n      <td>M</td>\n      <td>9th</td>\n      <td>Huang High School</td>\n      <td>66</td>\n      <td>79</td>\n      <td>0</td>\n      <td>District</td>\n      <td>2917</td>\n      <td>1910635</td>\n    </tr>\n    <tr>\n      <th>1</th>\n      <td>1</td>\n      <td>Victor Smith</td>\n      <td>M</td>\n      <td>12th</td>\n      <td>Huang High School</td>\n      <td>94</td>\n      <td>61</td>\n      <td>0</td>\n      <td>District</td>\n      <td>2917</td>\n      <td>1910635</td>\n    </tr>\n    <tr>\n      <th>2</th>\n      <td>2</td>\n      <td>Kevin Rodriguez</td>\n      <td>M</td>\n      <td>12th</td>\n      <td>Huang High School</td>\n      <td>90</td>\n      <td>60</td>\n      <td>0</td>\n      <td>District</td>\n      <td>2917</td>\n      <td>1910635</td>\n    </tr>\n    <tr>\n      <th>3</th>\n      <td>3</td>\n      <td>Dr. Richard Scott</td>\n      <td>M</td>\n      <td>12th</td>\n      <td>Huang High School</td>\n      <td>67</td>\n      <td>58</td>\n      <td>0</td>\n      <td>District</td>\n      <td>2917</td>\n      <td>1910635</td>\n    </tr>\n    <tr>\n      <th>4</th>\n      <td>4</td>\n      <td>Bonnie Ray</td>\n      <td>F</td>\n      <td>9th</td>\n      <td>Huang High School</td>\n      <td>97</td>\n      <td>84</td>\n      <td>0</td>\n      <td>District</td>\n      <td>2917</td>\n      <td>1910635</td>\n    </tr>\n    <tr>\n      <th>...</th>\n      <td>...</td>\n      <td>...</td>\n      <td>...</td>\n      <td>...</td>\n      <td>...</td>\n      <td>...</td>\n      <td>...</td>\n      <td>...</td>\n      <td>...</td>\n      <td>...</td>\n      <td>...</td>\n    </tr>\n    <tr>\n      <th>39165</th>\n      <td>39165</td>\n      <td>Donna Howard</td>\n      <td>F</td>\n      <td>12th</td>\n      <td>Thomas High School</td>\n      <td>99</td>\n      <td>90</td>\n      <td>14</td>\n      <td>Charter</td>\n      <td>1635</td>\n      <td>1043130</td>\n    </tr>\n    <tr>\n      <th>39166</th>\n      <td>39166</td>\n      <td>Dawn Bell</td>\n      <td>F</td>\n      <td>10th</td>\n      <td>Thomas High School</td>\n      <td>95</td>\n      <td>70</td>\n      <td>14</td>\n      <td>Charter</td>\n      <td>1635</td>\n      <td>1043130</td>\n    </tr>\n    <tr>\n      <th>39167</th>\n      <td>39167</td>\n      <td>Rebecca Tanner</td>\n      <td>F</td>\n      <td>9th</td>\n      <td>Thomas High School</td>\n      <td>73</td>\n      <td>84</td>\n      <td>14</td>\n      <td>Charter</td>\n      <td>1635</td>\n      <td>1043130</td>\n    </tr>\n    <tr>\n      <th>39168</th>\n      <td>39168</td>\n      <td>Desiree Kidd</td>\n      <td>F</td>\n      <td>10th</td>\n      <td>Thomas High School</td>\n      <td>99</td>\n      <td>90</td>\n      <td>14</td>\n      <td>Charter</td>\n      <td>1635</td>\n      <td>1043130</td>\n    </tr>\n    <tr>\n      <th>39169</th>\n      <td>39169</td>\n      <td>Carolyn Jackson</td>\n      <td>F</td>\n      <td>11th</td>\n      <td>Thomas High School</td>\n      <td>95</td>\n      <td>75</td>\n      <td>14</td>\n      <td>Charter</td>\n      <td>1635</td>\n      <td>1043130</td>\n    </tr>\n  </tbody>\n</table>\n<p>39170 rows × 11 columns</p>\n</div>"
     },
     "metadata": {},
     "execution_count": 111
    }
   ],
   "source": [
    "#Merge 2 tables provided;student info table, school table; complete_df\n",
    "complete_df=pd.merge(student_df, school_df, how=\"left\", on=[\"school_name\",\"school_name\"])\n",
    "complete_df\n"
   ]
  },
  {
   "cell_type": "code",
   "execution_count": 112,
   "metadata": {},
   "outputs": [
    {
     "output_type": "execute_result",
     "data": {
      "text/plain": [
       "              school_name  Student ID  Average Reading Score  \\\n",
       "0      Bailey High School     20358.5              81.033963   \n",
       "1     Cabrera High School     16941.5              83.975780   \n",
       "2    Figueroa High School      4391.0              81.158020   \n",
       "3        Ford High School     36165.0              80.746258   \n",
       "4     Griffin High School     12995.5              83.816757   \n",
       "5   Hernandez High School      9944.0              80.934412   \n",
       "6      Holden High School     23060.0              83.814988   \n",
       "7       Huang High School      1458.0              81.182722   \n",
       "8     Johnson High School     32415.0              80.966394   \n",
       "9        Pena High School     23754.5              84.044699   \n",
       "10  Rodriguez High School     28035.0              80.744686   \n",
       "11    Shelton High School      6746.0              83.725724   \n",
       "12     Thomas High School     38352.0              83.848930   \n",
       "13     Wilson High School     14871.0              83.989488   \n",
       "14     Wright High School     25135.5              83.955000   \n",
       "\n",
       "    Average Math Score  School ID    size     budget  \n",
       "0            77.048432        7.0  4976.0  3124928.0  \n",
       "1            83.061895        6.0  1858.0  1081356.0  \n",
       "2            76.711767        1.0  2949.0  1884411.0  \n",
       "3            77.102592       13.0  2739.0  1763916.0  \n",
       "4            83.351499        4.0  1468.0   917500.0  \n",
       "5            77.289752        3.0  4635.0  3022020.0  \n",
       "6            83.803279        8.0   427.0   248087.0  \n",
       "7            76.629414        0.0  2917.0  1910635.0  \n",
       "8            77.072464       12.0  4761.0  3094650.0  \n",
       "9            83.839917        9.0   962.0   585858.0  \n",
       "10           76.842711       11.0  3999.0  2547363.0  \n",
       "11           83.359455        2.0  1761.0  1056600.0  \n",
       "12           83.418349       14.0  1635.0  1043130.0  \n",
       "13           83.274201        5.0  2283.0  1319574.0  \n",
       "14           83.682222       10.0  1800.0  1049400.0  "
      ],
      "text/html": "<div>\n<style scoped>\n    .dataframe tbody tr th:only-of-type {\n        vertical-align: middle;\n    }\n\n    .dataframe tbody tr th {\n        vertical-align: top;\n    }\n\n    .dataframe thead th {\n        text-align: right;\n    }\n</style>\n<table border=\"1\" class=\"dataframe\">\n  <thead>\n    <tr style=\"text-align: right;\">\n      <th></th>\n      <th>school_name</th>\n      <th>Student ID</th>\n      <th>Average Reading Score</th>\n      <th>Average Math Score</th>\n      <th>School ID</th>\n      <th>size</th>\n      <th>budget</th>\n    </tr>\n  </thead>\n  <tbody>\n    <tr>\n      <th>0</th>\n      <td>Bailey High School</td>\n      <td>20358.5</td>\n      <td>81.033963</td>\n      <td>77.048432</td>\n      <td>7.0</td>\n      <td>4976.0</td>\n      <td>3124928.0</td>\n    </tr>\n    <tr>\n      <th>1</th>\n      <td>Cabrera High School</td>\n      <td>16941.5</td>\n      <td>83.975780</td>\n      <td>83.061895</td>\n      <td>6.0</td>\n      <td>1858.0</td>\n      <td>1081356.0</td>\n    </tr>\n    <tr>\n      <th>2</th>\n      <td>Figueroa High School</td>\n      <td>4391.0</td>\n      <td>81.158020</td>\n      <td>76.711767</td>\n      <td>1.0</td>\n      <td>2949.0</td>\n      <td>1884411.0</td>\n    </tr>\n    <tr>\n      <th>3</th>\n      <td>Ford High School</td>\n      <td>36165.0</td>\n      <td>80.746258</td>\n      <td>77.102592</td>\n      <td>13.0</td>\n      <td>2739.0</td>\n      <td>1763916.0</td>\n    </tr>\n    <tr>\n      <th>4</th>\n      <td>Griffin High School</td>\n      <td>12995.5</td>\n      <td>83.816757</td>\n      <td>83.351499</td>\n      <td>4.0</td>\n      <td>1468.0</td>\n      <td>917500.0</td>\n    </tr>\n    <tr>\n      <th>5</th>\n      <td>Hernandez High School</td>\n      <td>9944.0</td>\n      <td>80.934412</td>\n      <td>77.289752</td>\n      <td>3.0</td>\n      <td>4635.0</td>\n      <td>3022020.0</td>\n    </tr>\n    <tr>\n      <th>6</th>\n      <td>Holden High School</td>\n      <td>23060.0</td>\n      <td>83.814988</td>\n      <td>83.803279</td>\n      <td>8.0</td>\n      <td>427.0</td>\n      <td>248087.0</td>\n    </tr>\n    <tr>\n      <th>7</th>\n      <td>Huang High School</td>\n      <td>1458.0</td>\n      <td>81.182722</td>\n      <td>76.629414</td>\n      <td>0.0</td>\n      <td>2917.0</td>\n      <td>1910635.0</td>\n    </tr>\n    <tr>\n      <th>8</th>\n      <td>Johnson High School</td>\n      <td>32415.0</td>\n      <td>80.966394</td>\n      <td>77.072464</td>\n      <td>12.0</td>\n      <td>4761.0</td>\n      <td>3094650.0</td>\n    </tr>\n    <tr>\n      <th>9</th>\n      <td>Pena High School</td>\n      <td>23754.5</td>\n      <td>84.044699</td>\n      <td>83.839917</td>\n      <td>9.0</td>\n      <td>962.0</td>\n      <td>585858.0</td>\n    </tr>\n    <tr>\n      <th>10</th>\n      <td>Rodriguez High School</td>\n      <td>28035.0</td>\n      <td>80.744686</td>\n      <td>76.842711</td>\n      <td>11.0</td>\n      <td>3999.0</td>\n      <td>2547363.0</td>\n    </tr>\n    <tr>\n      <th>11</th>\n      <td>Shelton High School</td>\n      <td>6746.0</td>\n      <td>83.725724</td>\n      <td>83.359455</td>\n      <td>2.0</td>\n      <td>1761.0</td>\n      <td>1056600.0</td>\n    </tr>\n    <tr>\n      <th>12</th>\n      <td>Thomas High School</td>\n      <td>38352.0</td>\n      <td>83.848930</td>\n      <td>83.418349</td>\n      <td>14.0</td>\n      <td>1635.0</td>\n      <td>1043130.0</td>\n    </tr>\n    <tr>\n      <th>13</th>\n      <td>Wilson High School</td>\n      <td>14871.0</td>\n      <td>83.989488</td>\n      <td>83.274201</td>\n      <td>5.0</td>\n      <td>2283.0</td>\n      <td>1319574.0</td>\n    </tr>\n    <tr>\n      <th>14</th>\n      <td>Wright High School</td>\n      <td>25135.5</td>\n      <td>83.955000</td>\n      <td>83.682222</td>\n      <td>10.0</td>\n      <td>1800.0</td>\n      <td>1049400.0</td>\n    </tr>\n  </tbody>\n</table>\n</div>"
     },
     "metadata": {},
     "execution_count": 112
    }
   ],
   "source": [
    "#SUMMARY - summary_p1_mean_df\n",
    "##Columns required: school_name, average math score, average reading score \n",
    "\n",
    "#groupby per school and find mean \n",
    "summary_p1_df=complete_df.groupby([\"school_name\"])\n",
    "\n",
    "summary_p1_mean_df=summary_p1_df.mean()\n",
    "\n",
    "#Rename coluuns\n",
    "summary_p1_mean_df=summary_p1_mean_df.rename(columns={\"reading_score\":\"Average Reading Score\",\"math_score\":\"Average Math Score\"})\n",
    "\n",
    "#reset index to ensure school_name is a column\n",
    "summary_p1_mean_df.reset_index(inplace=True)\n",
    "summary_p1_mean_df"
   ]
  },
  {
   "source": [
    "#Reading the 2 csv files for information\n",
    "\n",
    "# Print column headings of dataframes\n",
    "print(school_df.columns)\n",
    "print(\"\")\n",
    "\n",
    "print(student_df.columns)\n",
    "print(\"\")\n",
    "\n",
    "#Print first 5 rows of the school and student dataframes\n",
    "print(f\"school_df\\n{school_df.head()}\\n\\n--------------------------------------------------------------\\n\")\n",
    "\n",
    "print(f\"student_df\\n{student_df.head()}\\n\")\n",
    "\n",
    "#Print total number of schools, total number of students\n",
    "print(f\"Total items in school_df:{len(school_df)}\")\n",
    "print(f\"Total items in student_df:{len(student_df)}\")"
   ],
   "cell_type": "code",
   "metadata": {},
   "execution_count": 113,
   "outputs": [
    {
     "output_type": "stream",
     "name": "stdout",
     "text": [
      "Index(['School ID', 'school_name', 'type', 'size', 'budget'], dtype='object')\n\nIndex(['Student ID', 'student_name', 'gender', 'grade', 'school_name',\n       'reading_score', 'math_score'],\n      dtype='object')\n\nschool_df\n   School ID            school_name      type  size   budget\n0          0      Huang High School  District  2917  1910635\n1          1   Figueroa High School  District  2949  1884411\n2          2    Shelton High School   Charter  1761  1056600\n3          3  Hernandez High School  District  4635  3022020\n4          4    Griffin High School   Charter  1468   917500\n\n--------------------------------------------------------------\n\nstudent_df\n   Student ID       student_name gender grade        school_name  \\\n0           0       Paul Bradley      M   9th  Huang High School   \n1           1       Victor Smith      M  12th  Huang High School   \n2           2    Kevin Rodriguez      M  12th  Huang High School   \n3           3  Dr. Richard Scott      M  12th  Huang High School   \n4           4         Bonnie Ray      F   9th  Huang High School   \n\n   reading_score  math_score  \n0             66          79  \n1             94          61  \n2             90          60  \n3             67          58  \n4             97          84  \n\nTotal items in school_df:15\nTotal items in student_df:39170\n"
     ]
    }
   ]
  },
  {
   "cell_type": "code",
   "execution_count": 114,
   "metadata": {},
   "outputs": [
    {
     "output_type": "stream",
     "name": "stdout",
     "text": [
      "DISTRICT SUMMARY\n----------------\nTotal Schools: 15\nTotal Students: 39170\nTotal Budget: $24,649,428\nAverage Math Score: 79.0\nAverage Reading Score: 81.9\n"
     ]
    }
   ],
   "source": [
    "#OUTPUTS FOR DISTRICT SUMMARY: Total Schools, Total Students, Total Budget, Average Math Schore, Average Reading Score\n",
    "print(\"DISTRICT SUMMARY\\n----------------\")\n",
    "\n",
    "#Total Number of Schools (via count) \n",
    "total_schools=school_df[\"school_name\"].count()\n",
    "print(f\"Total Schools: {total_schools}\")\n",
    "\n",
    "#Total Number of Students (via sum)\n",
    "total_students=school_df[\"size\"].sum()\n",
    "print(f\"Total Students: {total_students}\")\n",
    "\n",
    "#Total Budget (via sum)\n",
    "total_budget=school_df[\"budget\"].sum()\n",
    "print(f\"Total Budget: ${total_budget:,}\")\n",
    "\n",
    "#Average Maths Score\n",
    "##TEST: avg_math_score=student_df[\"math_score\"].sum()/total_students\n",
    "avg_math_score=student_df[\"math_score\"].mean()\n",
    "print(f\"Average Math Score: {avg_math_score:.1f}\")\n",
    "\n",
    "#Average Reading Score\n",
    "##TEST: avg_reading_score=student_df[\"reading_score\"].sum()/total_students\n",
    "avg_reading_score=student_df[\"reading_score\"].mean()\n",
    "print(f\"Average Reading Score: {avg_reading_score:.1f}\")\n"
   ]
  },
  {
   "cell_type": "code",
   "execution_count": 115,
   "metadata": {},
   "outputs": [
    {
     "output_type": "stream",
     "name": "stdout",
     "text": [
      "Percentage Students Passing Maths: 74.98%\nPercentage Students Passing Reading: 85.81%\nPercentage Students Passing Both: 65.17%\n"
     ]
    }
   ],
   "source": [
    "#OUTPUTS FOR DISTRICT SUMMARY: Percent Students Passing Math, Percent Students Passing Reading, Percent Students Passing Both\n",
    "\n",
    "#Percentage Passing Math (The percentage of students that passed Math)\n",
    "students_pass_math=student_df[student_df[\"math_score\"]>=70].count()[\"student_name\"]\n",
    "#print(students_pass_math)\n",
    "\n",
    "# TEST to get an idea of min, max, median and avg score: \n",
    "#print(student_df.describe())\n",
    "\n",
    "percent_pass_math=students_pass_math/total_students*100\n",
    "print(f\"Percentage Students Passing Maths: {percent_pass_math:.2f}%\")\n",
    "\n",
    "#Percentage passing Reading (The percentage of students that passed Reading)\n",
    "students_pass_reading=student_df[student_df[\"reading_score\"]>=70].count()[\"student_name\"]\n",
    "percent_pass_reading=students_pass_reading/total_students*100\n",
    "print(f\"Percentage Students Passing Reading: {percent_pass_reading:.2f}%\")\n",
    "\n",
    "#Number of students that passed Math and Reading\n",
    "students_pass_both=(student_df[(student_df[\"math_score\"]>=70) & (student_df[\"reading_score\"]>=70)]).count()[\"student_name\"]\n",
    "\n",
    "#Percent of students that passed Math and Reading\n",
    "percent_pass_both=students_pass_both/total_students*100\n",
    "print(f\"Percentage Students Passing Both: {percent_pass_both:.2f}%\")"
   ]
  },
  {
   "cell_type": "code",
   "execution_count": 116,
   "metadata": {},
   "outputs": [
    {
     "output_type": "execute_result",
     "data": {
      "text/plain": [
       "   Total Schools  Total Students Total Budget  Average Math Score  \\\n",
       "0             15           39170  $24,649,428           78.985371   \n",
       "\n",
       "   Average Reading Score  % Passing Math  % Passing Reading  %Overall Passing  \n",
       "0               81.87784       74.980853          85.805463         65.172326  "
      ],
      "text/html": "<div>\n<style scoped>\n    .dataframe tbody tr th:only-of-type {\n        vertical-align: middle;\n    }\n\n    .dataframe tbody tr th {\n        vertical-align: top;\n    }\n\n    .dataframe thead th {\n        text-align: right;\n    }\n</style>\n<table border=\"1\" class=\"dataframe\">\n  <thead>\n    <tr style=\"text-align: right;\">\n      <th></th>\n      <th>Total Schools</th>\n      <th>Total Students</th>\n      <th>Total Budget</th>\n      <th>Average Math Score</th>\n      <th>Average Reading Score</th>\n      <th>% Passing Math</th>\n      <th>% Passing Reading</th>\n      <th>%Overall Passing</th>\n    </tr>\n  </thead>\n  <tbody>\n    <tr>\n      <th>0</th>\n      <td>15</td>\n      <td>39170</td>\n      <td>$24,649,428</td>\n      <td>78.985371</td>\n      <td>81.87784</td>\n      <td>74.980853</td>\n      <td>85.805463</td>\n      <td>65.172326</td>\n    </tr>\n  </tbody>\n</table>\n</div>"
     },
     "metadata": {},
     "execution_count": 116
    }
   ],
   "source": [
    "#DISTRICT SUMMARY TABLE\n",
    "\n",
    "total_budget_print=total_budget\n",
    "dis_summary_df=pd.DataFrame({\"Total Schools\":[total_schools],\"Total Students\": [total_students],\"Total Budget\":[total_budget],\"Average Math Score\":[avg_math_score],\"Average Reading Score\":[avg_reading_score],\"% Passing Math\":[percent_pass_math],\"% Passing Reading\":[percent_pass_reading],\"%Overall Passing\":[percent_pass_both]})\n",
    "dis_summary_df\n",
    "dis_summary_df[\"Total Budget\"]=dis_summary_df[\"Total Budget\"].map(\"${:,}\".format)\n",
    "dis_summary_df"
   ]
  },
  {
   "cell_type": "code",
   "execution_count": 117,
   "metadata": {},
   "outputs": [
    {
     "output_type": "stream",
     "name": "stdout",
     "text": [
      "bool_math_df \n",
      "        Student ID       student_name gender grade         school_name  \\\n",
      "0               0       Paul Bradley      M   9th   Huang High School   \n",
      "1               1       Victor Smith      M  12th   Huang High School   \n",
      "2               2    Kevin Rodriguez      M  12th   Huang High School   \n",
      "3               3  Dr. Richard Scott      M  12th   Huang High School   \n",
      "4               4         Bonnie Ray      F   9th   Huang High School   \n",
      "...           ...                ...    ...   ...                 ...   \n",
      "39165       39165       Donna Howard      F  12th  Thomas High School   \n",
      "39166       39166          Dawn Bell      F  10th  Thomas High School   \n",
      "39167       39167     Rebecca Tanner      F   9th  Thomas High School   \n",
      "39168       39168       Desiree Kidd      F  10th  Thomas High School   \n",
      "39169       39169    Carolyn Jackson      F  11th  Thomas High School   \n",
      "\n",
      "       reading_score  math_score  School ID      type  size   budget  \\\n",
      "0                 66          79          0  District  2917  1910635   \n",
      "1                 94          61          0  District  2917  1910635   \n",
      "2                 90          60          0  District  2917  1910635   \n",
      "3                 67          58          0  District  2917  1910635   \n",
      "4                 97          84          0  District  2917  1910635   \n",
      "...              ...         ...        ...       ...   ...      ...   \n",
      "39165             99          90         14   Charter  1635  1043130   \n",
      "39166             95          70         14   Charter  1635  1043130   \n",
      "39167             73          84         14   Charter  1635  1043130   \n",
      "39168             99          90         14   Charter  1635  1043130   \n",
      "39169             95          75         14   Charter  1635  1043130   \n",
      "\n",
      "       bool_math_pass  \n",
      "0                True  \n",
      "1               False  \n",
      "2               False  \n",
      "3               False  \n",
      "4                True  \n",
      "...               ...  \n",
      "39165            True  \n",
      "39166            True  \n",
      "39167            True  \n",
      "39168            True  \n",
      "39169            True  \n",
      "\n",
      "[39170 rows x 12 columns]\n",
      "math_groupby_df \n",
      "               school_name  bool_math_pass\n",
      "0      Bailey High School            3318\n",
      "1     Cabrera High School            1749\n",
      "2    Figueroa High School            1946\n",
      "3        Ford High School            1871\n",
      "4     Griffin High School            1371\n",
      "5   Hernandez High School            3094\n",
      "6      Holden High School             395\n",
      "7       Huang High School            1916\n",
      "8     Johnson High School            3145\n",
      "9        Pena High School             910\n",
      "10  Rodriguez High School            2654\n",
      "11    Shelton High School            1653\n",
      "12     Thomas High School            1525\n",
      "13     Wilson High School            2143\n",
      "14     Wright High School            1680\n"
     ]
    }
   ],
   "source": [
    "#This section groupby the school_name. The columns are : 1) total students that passed math; math_groupby_df 2) total students that passed reading;reading_groupby_df\n",
    "# With 2 columns: math_reading_groupby_df\n",
    "\n",
    "######MATH PASS (BOOLEAN) GROUPBY SCHOOL NAME#####\n",
    "#bool_df is the table with columns of math_score_pass\n",
    "\n",
    "#make a copy of complete_df to ensure complete_df remains unchanged and use new df 'bool_math_df'\n",
    "bool_math_df=complete_df.copy()\n",
    "\n",
    "#filter for only rows where math score is more that 70% (pass mark)\n",
    "bool_math_df[\"bool_math_pass\"]=bool_math_df[\"math_score\"]>=70\n",
    "\n",
    "###TEST to print bool_math_df\n",
    "print(f\"bool_math_df \\n {bool_math_df}\")\n",
    "\n",
    "#Retain a copy with all the column headings\n",
    "bool_math1_df=bool_math_df.copy()\n",
    "\n",
    "#delete columns\n",
    "bool_math1_df=bool_math_df.drop(columns=[\"Student ID\",\"gender\",\"grade\",\"School ID\", \"type\",\"size\",\"budget\",\"reading_score\",\"math_score\",\"student_name\"])\n",
    "bool_math1_df\n",
    "\n",
    "###TEST to ensure complete_df is unchanged: \n",
    "#print(f\"complete_df \\n {complete_df}\")\n",
    "\n",
    "bool_math_pass_df=bool_math1_df[bool_math1_df.bool_math_pass==True]\n",
    "bool_math_pass_df\n",
    "math_groupby_df=bool_math_pass_df.groupby([\"school_name\"]).count()\n",
    "\n",
    "#number of students that passed math grouped by school\n",
    "math_groupby_df\n",
    "\n",
    "#reset index to ensure school_name is a column\n",
    "math_groupby_df.reset_index(inplace=True)\n",
    "print(f\"math_groupby_df \\n {math_groupby_df}\")"
   ]
  },
  {
   "cell_type": "code",
   "execution_count": 118,
   "metadata": {},
   "outputs": [
    {
     "output_type": "stream",
     "name": "stdout",
     "text": [
      "reading_groupby_df \n               school_name  bool_reading_pass\n0      Bailey High School               4077\n1     Cabrera High School               1803\n2    Figueroa High School               2381\n3        Ford High School               2172\n4     Griffin High School               1426\n5   Hernandez High School               3748\n6      Holden High School                411\n7       Huang High School               2372\n8     Johnson High School               3867\n9        Pena High School                923\n10  Rodriguez High School               3208\n11    Shelton High School               1688\n12     Thomas High School               1591\n13     Wilson High School               2204\n14     Wright High School               1739\n"
     ]
    }
   ],
   "source": [
    "######READING PASS (BOOLEAN) GROUPBY SCHOOL NAME#####\n",
    "\n",
    "#make a copy of complete_df to ensure complete_df remains unchanged and use new df 'bool_reading_df'\n",
    "bool_reading_df=complete_df.copy()\n",
    "\n",
    "#filter for only rows where reading score is more that 70% (pass mark)\n",
    "bool_reading_df[\"bool_reading_pass\"]=bool_reading_df[\"reading_score\"]>=70\n",
    "###TEST to print bool_reading_df\n",
    "#print(bool_reading_df)\n",
    "\n",
    "#Retain a copy with all the column headings\n",
    "bool_reading1_df=bool_reading_df.copy()\n",
    "\n",
    "#deletes columns\n",
    "bool_reading1_df=bool_reading_df.drop(columns=[\"Student ID\",\"gender\",\"grade\",\"School ID\", \"type\",\"size\",\"budget\",\"reading_score\",\"math_score\",\"student_name\"])\n",
    "bool_reading1_df\n",
    "\n",
    "#Filter for only trues (students who passed reading)\n",
    "bool_reading_pass_df=bool_reading1_df[bool_reading1_df.bool_reading_pass==True]\n",
    "bool_reading_pass_df\n",
    "\n",
    "#group by school_name and count the trues\n",
    "reading_groupby_df=bool_reading_pass_df.groupby([\"school_name\"]).count()\n",
    "\n",
    "#number of students that passed reading grouped by school\n",
    "reading_groupby_df\n",
    "\n",
    "#reset index to ensure school_name is a column\n",
    "reading_groupby_df.reset_index(inplace=True)\n",
    "print(f\"reading_groupby_df \\n {reading_groupby_df}\")\n"
   ]
  },
  {
   "cell_type": "code",
   "execution_count": 119,
   "metadata": {},
   "outputs": [
    {
     "output_type": "stream",
     "name": "stdout",
     "text": [
      "both_groupby_df \n               school_name  bool_both_pass\n0      Bailey High School            2719\n1     Cabrera High School            1697\n2    Figueroa High School            1569\n3        Ford High School            1487\n4     Griffin High School            1330\n5   Hernandez High School            2481\n6      Holden High School             381\n7       Huang High School            1561\n8     Johnson High School            2549\n9        Pena High School             871\n10  Rodriguez High School            2119\n11    Shelton High School            1583\n12     Thomas High School            1487\n13     Wilson High School            2068\n14     Wright High School            1626\n"
     ]
    }
   ],
   "source": [
    "##### BOTH SUBJECTS PASSING: MATH AND READING PASS (BOOLEAN) GROUPBY SCHOOL NAME#####\n",
    "bool_both_df=complete_df.copy()\n",
    "bool_both_df[\"bool_both_pass\"]=(bool_both_df[\"math_score\"]>=70) & (bool_both_df[\"reading_score\"]>=70)\n",
    "\n",
    "##TEST to print bool_both_df\n",
    "#print(bool_both_df)\n",
    "bool_both1_df=bool_both_df.copy()\n",
    "\n",
    "#deletes columns\n",
    "bool_both1_df=bool_both_df.drop(columns=[\"Student ID\",\"gender\",\"grade\",\"School ID\", \"type\",\"budget\",\"reading_score\",\"math_score\",\"student_name\",\"size\"])\n",
    "bool_both1_df\n",
    "\n",
    "#Filter for only trues (students who passed both reading and math)\n",
    "bool_both_pass_df=bool_both1_df[bool_both1_df.bool_both_pass==True]\n",
    "bool_both_pass_df\n",
    "\n",
    "#group by school_name and count the trues\n",
    "both_groupby_df=bool_both_pass_df.groupby([\"school_name\"]).count()\n",
    "\n",
    "#number of students that passed both reading and math grouped by school\n",
    "both_groupby_df\n",
    "\n",
    "#reset index to ensure school_name is a column\n",
    "both_groupby_df.reset_index(inplace=True)\n",
    "print(f\"both_groupby_df \\n {both_groupby_df}\")"
   ]
  },
  {
   "cell_type": "code",
   "execution_count": 120,
   "metadata": {},
   "outputs": [
    {
     "output_type": "execute_result",
     "data": {
      "text/plain": [
       "              school_name  bool_math_pass  bool_reading_pass  bool_both_pass\n",
       "0      Bailey High School            3318               4077            2719\n",
       "1     Cabrera High School            1749               1803            1697\n",
       "2    Figueroa High School            1946               2381            1569\n",
       "3        Ford High School            1871               2172            1487\n",
       "4     Griffin High School            1371               1426            1330\n",
       "5   Hernandez High School            3094               3748            2481\n",
       "6      Holden High School             395                411             381\n",
       "7       Huang High School            1916               2372            1561\n",
       "8     Johnson High School            3145               3867            2549\n",
       "9        Pena High School             910                923             871\n",
       "10  Rodriguez High School            2654               3208            2119\n",
       "11    Shelton High School            1653               1688            1583\n",
       "12     Thomas High School            1525               1591            1487\n",
       "13     Wilson High School            2143               2204            2068\n",
       "14     Wright High School            1680               1739            1626"
      ],
      "text/html": "<div>\n<style scoped>\n    .dataframe tbody tr th:only-of-type {\n        vertical-align: middle;\n    }\n\n    .dataframe tbody tr th {\n        vertical-align: top;\n    }\n\n    .dataframe thead th {\n        text-align: right;\n    }\n</style>\n<table border=\"1\" class=\"dataframe\">\n  <thead>\n    <tr style=\"text-align: right;\">\n      <th></th>\n      <th>school_name</th>\n      <th>bool_math_pass</th>\n      <th>bool_reading_pass</th>\n      <th>bool_both_pass</th>\n    </tr>\n  </thead>\n  <tbody>\n    <tr>\n      <th>0</th>\n      <td>Bailey High School</td>\n      <td>3318</td>\n      <td>4077</td>\n      <td>2719</td>\n    </tr>\n    <tr>\n      <th>1</th>\n      <td>Cabrera High School</td>\n      <td>1749</td>\n      <td>1803</td>\n      <td>1697</td>\n    </tr>\n    <tr>\n      <th>2</th>\n      <td>Figueroa High School</td>\n      <td>1946</td>\n      <td>2381</td>\n      <td>1569</td>\n    </tr>\n    <tr>\n      <th>3</th>\n      <td>Ford High School</td>\n      <td>1871</td>\n      <td>2172</td>\n      <td>1487</td>\n    </tr>\n    <tr>\n      <th>4</th>\n      <td>Griffin High School</td>\n      <td>1371</td>\n      <td>1426</td>\n      <td>1330</td>\n    </tr>\n    <tr>\n      <th>5</th>\n      <td>Hernandez High School</td>\n      <td>3094</td>\n      <td>3748</td>\n      <td>2481</td>\n    </tr>\n    <tr>\n      <th>6</th>\n      <td>Holden High School</td>\n      <td>395</td>\n      <td>411</td>\n      <td>381</td>\n    </tr>\n    <tr>\n      <th>7</th>\n      <td>Huang High School</td>\n      <td>1916</td>\n      <td>2372</td>\n      <td>1561</td>\n    </tr>\n    <tr>\n      <th>8</th>\n      <td>Johnson High School</td>\n      <td>3145</td>\n      <td>3867</td>\n      <td>2549</td>\n    </tr>\n    <tr>\n      <th>9</th>\n      <td>Pena High School</td>\n      <td>910</td>\n      <td>923</td>\n      <td>871</td>\n    </tr>\n    <tr>\n      <th>10</th>\n      <td>Rodriguez High School</td>\n      <td>2654</td>\n      <td>3208</td>\n      <td>2119</td>\n    </tr>\n    <tr>\n      <th>11</th>\n      <td>Shelton High School</td>\n      <td>1653</td>\n      <td>1688</td>\n      <td>1583</td>\n    </tr>\n    <tr>\n      <th>12</th>\n      <td>Thomas High School</td>\n      <td>1525</td>\n      <td>1591</td>\n      <td>1487</td>\n    </tr>\n    <tr>\n      <th>13</th>\n      <td>Wilson High School</td>\n      <td>2143</td>\n      <td>2204</td>\n      <td>2068</td>\n    </tr>\n    <tr>\n      <th>14</th>\n      <td>Wright High School</td>\n      <td>1680</td>\n      <td>1739</td>\n      <td>1626</td>\n    </tr>\n  </tbody>\n</table>\n</div>"
     },
     "metadata": {},
     "execution_count": 120
    }
   ],
   "source": [
    "#################################################################################\n",
    "#Merge dfs together for bool_math_pass and bool_reading_pass columns\n",
    "math_reading_groupby_df=pd.merge(math_groupby_df,reading_groupby_df, on=\"school_name\" ,how=\"outer\")\n",
    "math_reading_groupby_df\n",
    "\n",
    "#Merge math_reading_groupby_df to both_groupby_df\n",
    "all_groupby_df=pd.merge(math_reading_groupby_df,both_groupby_df, on=\"school_name\", how=\"outer\")\n",
    "all_groupby_df\n",
    "\n",
    "#Use this df to merge to summary_v2_df "
   ]
  },
  {
   "cell_type": "code",
   "execution_count": 121,
   "metadata": {},
   "outputs": [
    {
     "output_type": "execute_result",
     "data": {
      "text/plain": [
       "              school_name School Type  Total Students  Total School Budget\n",
       "0       Huang High School    District            2917              1910635\n",
       "1    Figueroa High School    District            2949              1884411\n",
       "2     Shelton High School     Charter            1761              1056600\n",
       "3   Hernandez High School    District            4635              3022020\n",
       "4     Griffin High School     Charter            1468               917500\n",
       "5      Wilson High School     Charter            2283              1319574\n",
       "6     Cabrera High School     Charter            1858              1081356\n",
       "7      Bailey High School    District            4976              3124928\n",
       "8      Holden High School     Charter             427               248087\n",
       "9        Pena High School     Charter             962               585858\n",
       "10     Wright High School     Charter            1800              1049400\n",
       "11  Rodriguez High School    District            3999              2547363\n",
       "12    Johnson High School    District            4761              3094650\n",
       "13       Ford High School    District            2739              1763916\n",
       "14     Thomas High School     Charter            1635              1043130"
      ],
      "text/html": "<div>\n<style scoped>\n    .dataframe tbody tr th:only-of-type {\n        vertical-align: middle;\n    }\n\n    .dataframe tbody tr th {\n        vertical-align: top;\n    }\n\n    .dataframe thead th {\n        text-align: right;\n    }\n</style>\n<table border=\"1\" class=\"dataframe\">\n  <thead>\n    <tr style=\"text-align: right;\">\n      <th></th>\n      <th>school_name</th>\n      <th>School Type</th>\n      <th>Total Students</th>\n      <th>Total School Budget</th>\n    </tr>\n  </thead>\n  <tbody>\n    <tr>\n      <th>0</th>\n      <td>Huang High School</td>\n      <td>District</td>\n      <td>2917</td>\n      <td>1910635</td>\n    </tr>\n    <tr>\n      <th>1</th>\n      <td>Figueroa High School</td>\n      <td>District</td>\n      <td>2949</td>\n      <td>1884411</td>\n    </tr>\n    <tr>\n      <th>2</th>\n      <td>Shelton High School</td>\n      <td>Charter</td>\n      <td>1761</td>\n      <td>1056600</td>\n    </tr>\n    <tr>\n      <th>3</th>\n      <td>Hernandez High School</td>\n      <td>District</td>\n      <td>4635</td>\n      <td>3022020</td>\n    </tr>\n    <tr>\n      <th>4</th>\n      <td>Griffin High School</td>\n      <td>Charter</td>\n      <td>1468</td>\n      <td>917500</td>\n    </tr>\n    <tr>\n      <th>5</th>\n      <td>Wilson High School</td>\n      <td>Charter</td>\n      <td>2283</td>\n      <td>1319574</td>\n    </tr>\n    <tr>\n      <th>6</th>\n      <td>Cabrera High School</td>\n      <td>Charter</td>\n      <td>1858</td>\n      <td>1081356</td>\n    </tr>\n    <tr>\n      <th>7</th>\n      <td>Bailey High School</td>\n      <td>District</td>\n      <td>4976</td>\n      <td>3124928</td>\n    </tr>\n    <tr>\n      <th>8</th>\n      <td>Holden High School</td>\n      <td>Charter</td>\n      <td>427</td>\n      <td>248087</td>\n    </tr>\n    <tr>\n      <th>9</th>\n      <td>Pena High School</td>\n      <td>Charter</td>\n      <td>962</td>\n      <td>585858</td>\n    </tr>\n    <tr>\n      <th>10</th>\n      <td>Wright High School</td>\n      <td>Charter</td>\n      <td>1800</td>\n      <td>1049400</td>\n    </tr>\n    <tr>\n      <th>11</th>\n      <td>Rodriguez High School</td>\n      <td>District</td>\n      <td>3999</td>\n      <td>2547363</td>\n    </tr>\n    <tr>\n      <th>12</th>\n      <td>Johnson High School</td>\n      <td>District</td>\n      <td>4761</td>\n      <td>3094650</td>\n    </tr>\n    <tr>\n      <th>13</th>\n      <td>Ford High School</td>\n      <td>District</td>\n      <td>2739</td>\n      <td>1763916</td>\n    </tr>\n    <tr>\n      <th>14</th>\n      <td>Thomas High School</td>\n      <td>Charter</td>\n      <td>1635</td>\n      <td>1043130</td>\n    </tr>\n  </tbody>\n</table>\n</div>"
     },
     "metadata": {},
     "execution_count": 121
    }
   ],
   "source": [
    "#SUMMARY - school_df\n",
    "\n",
    "#Rename coluuns\n",
    "school_df=school_df.rename(columns={\"size\":\"Total Students\",\"type\":\"School Type\",\"budget\":\"Total School Budget\"})\n",
    "school_df\n",
    "\n",
    "#delete column\n",
    "school_df=school_df.drop(columns=[\"School ID\"])\n",
    "school_df"
   ]
  },
  {
   "cell_type": "code",
   "execution_count": 122,
   "metadata": {},
   "outputs": [
    {
     "output_type": "execute_result",
     "data": {
      "text/plain": [
       "              school_name  Student ID  Average Reading Score  \\\n",
       "0      Bailey High School     20358.5              81.033963   \n",
       "1     Cabrera High School     16941.5              83.975780   \n",
       "2    Figueroa High School      4391.0              81.158020   \n",
       "3        Ford High School     36165.0              80.746258   \n",
       "4     Griffin High School     12995.5              83.816757   \n",
       "5   Hernandez High School      9944.0              80.934412   \n",
       "6      Holden High School     23060.0              83.814988   \n",
       "7       Huang High School      1458.0              81.182722   \n",
       "8     Johnson High School     32415.0              80.966394   \n",
       "9        Pena High School     23754.5              84.044699   \n",
       "10  Rodriguez High School     28035.0              80.744686   \n",
       "11    Shelton High School      6746.0              83.725724   \n",
       "12     Thomas High School     38352.0              83.848930   \n",
       "13     Wilson High School     14871.0              83.989488   \n",
       "14     Wright High School     25135.5              83.955000   \n",
       "\n",
       "    Average Math Score  School ID    size     budget  \n",
       "0            77.048432        7.0  4976.0  3124928.0  \n",
       "1            83.061895        6.0  1858.0  1081356.0  \n",
       "2            76.711767        1.0  2949.0  1884411.0  \n",
       "3            77.102592       13.0  2739.0  1763916.0  \n",
       "4            83.351499        4.0  1468.0   917500.0  \n",
       "5            77.289752        3.0  4635.0  3022020.0  \n",
       "6            83.803279        8.0   427.0   248087.0  \n",
       "7            76.629414        0.0  2917.0  1910635.0  \n",
       "8            77.072464       12.0  4761.0  3094650.0  \n",
       "9            83.839917        9.0   962.0   585858.0  \n",
       "10           76.842711       11.0  3999.0  2547363.0  \n",
       "11           83.359455        2.0  1761.0  1056600.0  \n",
       "12           83.418349       14.0  1635.0  1043130.0  \n",
       "13           83.274201        5.0  2283.0  1319574.0  \n",
       "14           83.682222       10.0  1800.0  1049400.0  "
      ],
      "text/html": "<div>\n<style scoped>\n    .dataframe tbody tr th:only-of-type {\n        vertical-align: middle;\n    }\n\n    .dataframe tbody tr th {\n        vertical-align: top;\n    }\n\n    .dataframe thead th {\n        text-align: right;\n    }\n</style>\n<table border=\"1\" class=\"dataframe\">\n  <thead>\n    <tr style=\"text-align: right;\">\n      <th></th>\n      <th>school_name</th>\n      <th>Student ID</th>\n      <th>Average Reading Score</th>\n      <th>Average Math Score</th>\n      <th>School ID</th>\n      <th>size</th>\n      <th>budget</th>\n    </tr>\n  </thead>\n  <tbody>\n    <tr>\n      <th>0</th>\n      <td>Bailey High School</td>\n      <td>20358.5</td>\n      <td>81.033963</td>\n      <td>77.048432</td>\n      <td>7.0</td>\n      <td>4976.0</td>\n      <td>3124928.0</td>\n    </tr>\n    <tr>\n      <th>1</th>\n      <td>Cabrera High School</td>\n      <td>16941.5</td>\n      <td>83.975780</td>\n      <td>83.061895</td>\n      <td>6.0</td>\n      <td>1858.0</td>\n      <td>1081356.0</td>\n    </tr>\n    <tr>\n      <th>2</th>\n      <td>Figueroa High School</td>\n      <td>4391.0</td>\n      <td>81.158020</td>\n      <td>76.711767</td>\n      <td>1.0</td>\n      <td>2949.0</td>\n      <td>1884411.0</td>\n    </tr>\n    <tr>\n      <th>3</th>\n      <td>Ford High School</td>\n      <td>36165.0</td>\n      <td>80.746258</td>\n      <td>77.102592</td>\n      <td>13.0</td>\n      <td>2739.0</td>\n      <td>1763916.0</td>\n    </tr>\n    <tr>\n      <th>4</th>\n      <td>Griffin High School</td>\n      <td>12995.5</td>\n      <td>83.816757</td>\n      <td>83.351499</td>\n      <td>4.0</td>\n      <td>1468.0</td>\n      <td>917500.0</td>\n    </tr>\n    <tr>\n      <th>5</th>\n      <td>Hernandez High School</td>\n      <td>9944.0</td>\n      <td>80.934412</td>\n      <td>77.289752</td>\n      <td>3.0</td>\n      <td>4635.0</td>\n      <td>3022020.0</td>\n    </tr>\n    <tr>\n      <th>6</th>\n      <td>Holden High School</td>\n      <td>23060.0</td>\n      <td>83.814988</td>\n      <td>83.803279</td>\n      <td>8.0</td>\n      <td>427.0</td>\n      <td>248087.0</td>\n    </tr>\n    <tr>\n      <th>7</th>\n      <td>Huang High School</td>\n      <td>1458.0</td>\n      <td>81.182722</td>\n      <td>76.629414</td>\n      <td>0.0</td>\n      <td>2917.0</td>\n      <td>1910635.0</td>\n    </tr>\n    <tr>\n      <th>8</th>\n      <td>Johnson High School</td>\n      <td>32415.0</td>\n      <td>80.966394</td>\n      <td>77.072464</td>\n      <td>12.0</td>\n      <td>4761.0</td>\n      <td>3094650.0</td>\n    </tr>\n    <tr>\n      <th>9</th>\n      <td>Pena High School</td>\n      <td>23754.5</td>\n      <td>84.044699</td>\n      <td>83.839917</td>\n      <td>9.0</td>\n      <td>962.0</td>\n      <td>585858.0</td>\n    </tr>\n    <tr>\n      <th>10</th>\n      <td>Rodriguez High School</td>\n      <td>28035.0</td>\n      <td>80.744686</td>\n      <td>76.842711</td>\n      <td>11.0</td>\n      <td>3999.0</td>\n      <td>2547363.0</td>\n    </tr>\n    <tr>\n      <th>11</th>\n      <td>Shelton High School</td>\n      <td>6746.0</td>\n      <td>83.725724</td>\n      <td>83.359455</td>\n      <td>2.0</td>\n      <td>1761.0</td>\n      <td>1056600.0</td>\n    </tr>\n    <tr>\n      <th>12</th>\n      <td>Thomas High School</td>\n      <td>38352.0</td>\n      <td>83.848930</td>\n      <td>83.418349</td>\n      <td>14.0</td>\n      <td>1635.0</td>\n      <td>1043130.0</td>\n    </tr>\n    <tr>\n      <th>13</th>\n      <td>Wilson High School</td>\n      <td>14871.0</td>\n      <td>83.989488</td>\n      <td>83.274201</td>\n      <td>5.0</td>\n      <td>2283.0</td>\n      <td>1319574.0</td>\n    </tr>\n    <tr>\n      <th>14</th>\n      <td>Wright High School</td>\n      <td>25135.5</td>\n      <td>83.955000</td>\n      <td>83.682222</td>\n      <td>10.0</td>\n      <td>1800.0</td>\n      <td>1049400.0</td>\n    </tr>\n  </tbody>\n</table>\n</div>"
     },
     "metadata": {},
     "execution_count": 122
    }
   ],
   "source": [
    "summary_p1_mean_df"
   ]
  },
  {
   "cell_type": "code",
   "execution_count": 123,
   "metadata": {},
   "outputs": [
    {
     "output_type": "execute_result",
     "data": {
      "text/plain": [
       "              school_name School Type  Total Students  Total School Budget  \\\n",
       "0       Huang High School    District            2917              1910635   \n",
       "1    Figueroa High School    District            2949              1884411   \n",
       "2     Shelton High School     Charter            1761              1056600   \n",
       "3   Hernandez High School    District            4635              3022020   \n",
       "4     Griffin High School     Charter            1468               917500   \n",
       "5      Wilson High School     Charter            2283              1319574   \n",
       "6     Cabrera High School     Charter            1858              1081356   \n",
       "7      Bailey High School    District            4976              3124928   \n",
       "8      Holden High School     Charter             427               248087   \n",
       "9        Pena High School     Charter             962               585858   \n",
       "10     Wright High School     Charter            1800              1049400   \n",
       "11  Rodriguez High School    District            3999              2547363   \n",
       "12    Johnson High School    District            4761              3094650   \n",
       "13       Ford High School    District            2739              1763916   \n",
       "14     Thomas High School     Charter            1635              1043130   \n",
       "\n",
       "    Average Reading Score  Average Math Score  \n",
       "0               81.182722           76.629414  \n",
       "1               81.158020           76.711767  \n",
       "2               83.725724           83.359455  \n",
       "3               80.934412           77.289752  \n",
       "4               83.816757           83.351499  \n",
       "5               83.989488           83.274201  \n",
       "6               83.975780           83.061895  \n",
       "7               81.033963           77.048432  \n",
       "8               83.814988           83.803279  \n",
       "9               84.044699           83.839917  \n",
       "10              83.955000           83.682222  \n",
       "11              80.744686           76.842711  \n",
       "12              80.966394           77.072464  \n",
       "13              80.746258           77.102592  \n",
       "14              83.848930           83.418349  "
      ],
      "text/html": "<div>\n<style scoped>\n    .dataframe tbody tr th:only-of-type {\n        vertical-align: middle;\n    }\n\n    .dataframe tbody tr th {\n        vertical-align: top;\n    }\n\n    .dataframe thead th {\n        text-align: right;\n    }\n</style>\n<table border=\"1\" class=\"dataframe\">\n  <thead>\n    <tr style=\"text-align: right;\">\n      <th></th>\n      <th>school_name</th>\n      <th>School Type</th>\n      <th>Total Students</th>\n      <th>Total School Budget</th>\n      <th>Average Reading Score</th>\n      <th>Average Math Score</th>\n    </tr>\n  </thead>\n  <tbody>\n    <tr>\n      <th>0</th>\n      <td>Huang High School</td>\n      <td>District</td>\n      <td>2917</td>\n      <td>1910635</td>\n      <td>81.182722</td>\n      <td>76.629414</td>\n    </tr>\n    <tr>\n      <th>1</th>\n      <td>Figueroa High School</td>\n      <td>District</td>\n      <td>2949</td>\n      <td>1884411</td>\n      <td>81.158020</td>\n      <td>76.711767</td>\n    </tr>\n    <tr>\n      <th>2</th>\n      <td>Shelton High School</td>\n      <td>Charter</td>\n      <td>1761</td>\n      <td>1056600</td>\n      <td>83.725724</td>\n      <td>83.359455</td>\n    </tr>\n    <tr>\n      <th>3</th>\n      <td>Hernandez High School</td>\n      <td>District</td>\n      <td>4635</td>\n      <td>3022020</td>\n      <td>80.934412</td>\n      <td>77.289752</td>\n    </tr>\n    <tr>\n      <th>4</th>\n      <td>Griffin High School</td>\n      <td>Charter</td>\n      <td>1468</td>\n      <td>917500</td>\n      <td>83.816757</td>\n      <td>83.351499</td>\n    </tr>\n    <tr>\n      <th>5</th>\n      <td>Wilson High School</td>\n      <td>Charter</td>\n      <td>2283</td>\n      <td>1319574</td>\n      <td>83.989488</td>\n      <td>83.274201</td>\n    </tr>\n    <tr>\n      <th>6</th>\n      <td>Cabrera High School</td>\n      <td>Charter</td>\n      <td>1858</td>\n      <td>1081356</td>\n      <td>83.975780</td>\n      <td>83.061895</td>\n    </tr>\n    <tr>\n      <th>7</th>\n      <td>Bailey High School</td>\n      <td>District</td>\n      <td>4976</td>\n      <td>3124928</td>\n      <td>81.033963</td>\n      <td>77.048432</td>\n    </tr>\n    <tr>\n      <th>8</th>\n      <td>Holden High School</td>\n      <td>Charter</td>\n      <td>427</td>\n      <td>248087</td>\n      <td>83.814988</td>\n      <td>83.803279</td>\n    </tr>\n    <tr>\n      <th>9</th>\n      <td>Pena High School</td>\n      <td>Charter</td>\n      <td>962</td>\n      <td>585858</td>\n      <td>84.044699</td>\n      <td>83.839917</td>\n    </tr>\n    <tr>\n      <th>10</th>\n      <td>Wright High School</td>\n      <td>Charter</td>\n      <td>1800</td>\n      <td>1049400</td>\n      <td>83.955000</td>\n      <td>83.682222</td>\n    </tr>\n    <tr>\n      <th>11</th>\n      <td>Rodriguez High School</td>\n      <td>District</td>\n      <td>3999</td>\n      <td>2547363</td>\n      <td>80.744686</td>\n      <td>76.842711</td>\n    </tr>\n    <tr>\n      <th>12</th>\n      <td>Johnson High School</td>\n      <td>District</td>\n      <td>4761</td>\n      <td>3094650</td>\n      <td>80.966394</td>\n      <td>77.072464</td>\n    </tr>\n    <tr>\n      <th>13</th>\n      <td>Ford High School</td>\n      <td>District</td>\n      <td>2739</td>\n      <td>1763916</td>\n      <td>80.746258</td>\n      <td>77.102592</td>\n    </tr>\n    <tr>\n      <th>14</th>\n      <td>Thomas High School</td>\n      <td>Charter</td>\n      <td>1635</td>\n      <td>1043130</td>\n      <td>83.848930</td>\n      <td>83.418349</td>\n    </tr>\n  </tbody>\n</table>\n</div>"
     },
     "metadata": {},
     "execution_count": 123
    }
   ],
   "source": [
    "###SUMMARY - VERSION 1 , summary_v1_df\n",
    "summary_v1_df=pd.merge(school_df,summary_p1_mean_df, on=\"school_name\" ,how=\"outer\")\n",
    "summary_v1_df\n",
    "\n",
    "#delete columns\n",
    "summary_v1_df=summary_v1_df.drop(columns=[\"Student ID\", \"School ID\", \"size\", \"budget\"])\n",
    "summary_v1_df"
   ]
  },
  {
   "cell_type": "code",
   "execution_count": 124,
   "metadata": {},
   "outputs": [
    {
     "output_type": "execute_result",
     "data": {
      "text/plain": [
       "              school_name School Type  Total Students  Total School Budget  \\\n",
       "0       Huang High School    District            2917              1910635   \n",
       "1    Figueroa High School    District            2949              1884411   \n",
       "2     Shelton High School     Charter            1761              1056600   \n",
       "3   Hernandez High School    District            4635              3022020   \n",
       "4     Griffin High School     Charter            1468               917500   \n",
       "5      Wilson High School     Charter            2283              1319574   \n",
       "6     Cabrera High School     Charter            1858              1081356   \n",
       "7      Bailey High School    District            4976              3124928   \n",
       "8      Holden High School     Charter             427               248087   \n",
       "9        Pena High School     Charter             962               585858   \n",
       "10     Wright High School     Charter            1800              1049400   \n",
       "11  Rodriguez High School    District            3999              2547363   \n",
       "12    Johnson High School    District            4761              3094650   \n",
       "13       Ford High School    District            2739              1763916   \n",
       "14     Thomas High School     Charter            1635              1043130   \n",
       "\n",
       "    Average Reading Score  Average Math Score  bool_math_pass  \\\n",
       "0               81.182722           76.629414            1916   \n",
       "1               81.158020           76.711767            1946   \n",
       "2               83.725724           83.359455            1653   \n",
       "3               80.934412           77.289752            3094   \n",
       "4               83.816757           83.351499            1371   \n",
       "5               83.989488           83.274201            2143   \n",
       "6               83.975780           83.061895            1749   \n",
       "7               81.033963           77.048432            3318   \n",
       "8               83.814988           83.803279             395   \n",
       "9               84.044699           83.839917             910   \n",
       "10              83.955000           83.682222            1680   \n",
       "11              80.744686           76.842711            2654   \n",
       "12              80.966394           77.072464            3145   \n",
       "13              80.746258           77.102592            1871   \n",
       "14              83.848930           83.418349            1525   \n",
       "\n",
       "    bool_reading_pass  bool_both_pass  \n",
       "0                2372            1561  \n",
       "1                2381            1569  \n",
       "2                1688            1583  \n",
       "3                3748            2481  \n",
       "4                1426            1330  \n",
       "5                2204            2068  \n",
       "6                1803            1697  \n",
       "7                4077            2719  \n",
       "8                 411             381  \n",
       "9                 923             871  \n",
       "10               1739            1626  \n",
       "11               3208            2119  \n",
       "12               3867            2549  \n",
       "13               2172            1487  \n",
       "14               1591            1487  "
      ],
      "text/html": "<div>\n<style scoped>\n    .dataframe tbody tr th:only-of-type {\n        vertical-align: middle;\n    }\n\n    .dataframe tbody tr th {\n        vertical-align: top;\n    }\n\n    .dataframe thead th {\n        text-align: right;\n    }\n</style>\n<table border=\"1\" class=\"dataframe\">\n  <thead>\n    <tr style=\"text-align: right;\">\n      <th></th>\n      <th>school_name</th>\n      <th>School Type</th>\n      <th>Total Students</th>\n      <th>Total School Budget</th>\n      <th>Average Reading Score</th>\n      <th>Average Math Score</th>\n      <th>bool_math_pass</th>\n      <th>bool_reading_pass</th>\n      <th>bool_both_pass</th>\n    </tr>\n  </thead>\n  <tbody>\n    <tr>\n      <th>0</th>\n      <td>Huang High School</td>\n      <td>District</td>\n      <td>2917</td>\n      <td>1910635</td>\n      <td>81.182722</td>\n      <td>76.629414</td>\n      <td>1916</td>\n      <td>2372</td>\n      <td>1561</td>\n    </tr>\n    <tr>\n      <th>1</th>\n      <td>Figueroa High School</td>\n      <td>District</td>\n      <td>2949</td>\n      <td>1884411</td>\n      <td>81.158020</td>\n      <td>76.711767</td>\n      <td>1946</td>\n      <td>2381</td>\n      <td>1569</td>\n    </tr>\n    <tr>\n      <th>2</th>\n      <td>Shelton High School</td>\n      <td>Charter</td>\n      <td>1761</td>\n      <td>1056600</td>\n      <td>83.725724</td>\n      <td>83.359455</td>\n      <td>1653</td>\n      <td>1688</td>\n      <td>1583</td>\n    </tr>\n    <tr>\n      <th>3</th>\n      <td>Hernandez High School</td>\n      <td>District</td>\n      <td>4635</td>\n      <td>3022020</td>\n      <td>80.934412</td>\n      <td>77.289752</td>\n      <td>3094</td>\n      <td>3748</td>\n      <td>2481</td>\n    </tr>\n    <tr>\n      <th>4</th>\n      <td>Griffin High School</td>\n      <td>Charter</td>\n      <td>1468</td>\n      <td>917500</td>\n      <td>83.816757</td>\n      <td>83.351499</td>\n      <td>1371</td>\n      <td>1426</td>\n      <td>1330</td>\n    </tr>\n    <tr>\n      <th>5</th>\n      <td>Wilson High School</td>\n      <td>Charter</td>\n      <td>2283</td>\n      <td>1319574</td>\n      <td>83.989488</td>\n      <td>83.274201</td>\n      <td>2143</td>\n      <td>2204</td>\n      <td>2068</td>\n    </tr>\n    <tr>\n      <th>6</th>\n      <td>Cabrera High School</td>\n      <td>Charter</td>\n      <td>1858</td>\n      <td>1081356</td>\n      <td>83.975780</td>\n      <td>83.061895</td>\n      <td>1749</td>\n      <td>1803</td>\n      <td>1697</td>\n    </tr>\n    <tr>\n      <th>7</th>\n      <td>Bailey High School</td>\n      <td>District</td>\n      <td>4976</td>\n      <td>3124928</td>\n      <td>81.033963</td>\n      <td>77.048432</td>\n      <td>3318</td>\n      <td>4077</td>\n      <td>2719</td>\n    </tr>\n    <tr>\n      <th>8</th>\n      <td>Holden High School</td>\n      <td>Charter</td>\n      <td>427</td>\n      <td>248087</td>\n      <td>83.814988</td>\n      <td>83.803279</td>\n      <td>395</td>\n      <td>411</td>\n      <td>381</td>\n    </tr>\n    <tr>\n      <th>9</th>\n      <td>Pena High School</td>\n      <td>Charter</td>\n      <td>962</td>\n      <td>585858</td>\n      <td>84.044699</td>\n      <td>83.839917</td>\n      <td>910</td>\n      <td>923</td>\n      <td>871</td>\n    </tr>\n    <tr>\n      <th>10</th>\n      <td>Wright High School</td>\n      <td>Charter</td>\n      <td>1800</td>\n      <td>1049400</td>\n      <td>83.955000</td>\n      <td>83.682222</td>\n      <td>1680</td>\n      <td>1739</td>\n      <td>1626</td>\n    </tr>\n    <tr>\n      <th>11</th>\n      <td>Rodriguez High School</td>\n      <td>District</td>\n      <td>3999</td>\n      <td>2547363</td>\n      <td>80.744686</td>\n      <td>76.842711</td>\n      <td>2654</td>\n      <td>3208</td>\n      <td>2119</td>\n    </tr>\n    <tr>\n      <th>12</th>\n      <td>Johnson High School</td>\n      <td>District</td>\n      <td>4761</td>\n      <td>3094650</td>\n      <td>80.966394</td>\n      <td>77.072464</td>\n      <td>3145</td>\n      <td>3867</td>\n      <td>2549</td>\n    </tr>\n    <tr>\n      <th>13</th>\n      <td>Ford High School</td>\n      <td>District</td>\n      <td>2739</td>\n      <td>1763916</td>\n      <td>80.746258</td>\n      <td>77.102592</td>\n      <td>1871</td>\n      <td>2172</td>\n      <td>1487</td>\n    </tr>\n    <tr>\n      <th>14</th>\n      <td>Thomas High School</td>\n      <td>Charter</td>\n      <td>1635</td>\n      <td>1043130</td>\n      <td>83.848930</td>\n      <td>83.418349</td>\n      <td>1525</td>\n      <td>1591</td>\n      <td>1487</td>\n    </tr>\n  </tbody>\n</table>\n</div>"
     },
     "metadata": {},
     "execution_count": 124
    }
   ],
   "source": [
    "summary_v2_df=pd.merge(summary_v1_df,all_groupby_df, on=\"school_name\",how=\"outer\")\n",
    "summary_v2_df"
   ]
  },
  {
   "cell_type": "code",
   "execution_count": 125,
   "metadata": {},
   "outputs": [
    {
     "output_type": "execute_result",
     "data": {
      "text/plain": [
       "                      School Type  Total Students Total School Budget  \\\n",
       "school_name                                                             \n",
       "Bailey High School       District            4976       $3,124,928.00   \n",
       "Cabrera High School       Charter            1858       $1,081,356.00   \n",
       "Figueroa High School     District            2949       $1,884,411.00   \n",
       "Ford High School         District            2739       $1,763,916.00   \n",
       "Griffin High School       Charter            1468         $917,500.00   \n",
       "Hernandez High School    District            4635       $3,022,020.00   \n",
       "Holden High School        Charter             427         $248,087.00   \n",
       "Huang High School        District            2917       $1,910,635.00   \n",
       "Johnson High School      District            4761       $3,094,650.00   \n",
       "Pena High School          Charter             962         $585,858.00   \n",
       "Rodriguez High School    District            3999       $2,547,363.00   \n",
       "Shelton High School       Charter            1761       $1,056,600.00   \n",
       "Thomas High School        Charter            1635       $1,043,130.00   \n",
       "Wilson High School        Charter            2283       $1,319,574.00   \n",
       "Wright High School        Charter            1800       $1,049,400.00   \n",
       "\n",
       "                       Average Reading Score  Average Math Score  \\\n",
       "school_name                                                        \n",
       "Bailey High School                 81.033963           77.048432   \n",
       "Cabrera High School                83.975780           83.061895   \n",
       "Figueroa High School               81.158020           76.711767   \n",
       "Ford High School                   80.746258           77.102592   \n",
       "Griffin High School                83.816757           83.351499   \n",
       "Hernandez High School              80.934412           77.289752   \n",
       "Holden High School                 83.814988           83.803279   \n",
       "Huang High School                  81.182722           76.629414   \n",
       "Johnson High School                80.966394           77.072464   \n",
       "Pena High School                   84.044699           83.839917   \n",
       "Rodriguez High School              80.744686           76.842711   \n",
       "Shelton High School                83.725724           83.359455   \n",
       "Thomas High School                 83.848930           83.418349   \n",
       "Wilson High School                 83.989488           83.274201   \n",
       "Wright High School                 83.955000           83.682222   \n",
       "\n",
       "                       % Passing Math  % Passing Reading  % Overall Passing  \n",
       "school_name                                                                  \n",
       "Bailey High School          66.680064          81.933280          54.642283  \n",
       "Cabrera High School         94.133477          97.039828          91.334769  \n",
       "Figueroa High School        65.988471          80.739234          53.204476  \n",
       "Ford High School            68.309602          79.299014          54.289887  \n",
       "Griffin High School         93.392371          97.138965          90.599455  \n",
       "Hernandez High School       66.752967          80.862999          53.527508  \n",
       "Holden High School          92.505855          96.252927          89.227166  \n",
       "Huang High School           65.683922          81.316421          53.513884  \n",
       "Johnson High School         66.057551          81.222432          53.539172  \n",
       "Pena High School            94.594595          95.945946          90.540541  \n",
       "Rodriguez High School       66.366592          80.220055          52.988247  \n",
       "Shelton High School         93.867121          95.854628          89.892107  \n",
       "Thomas High School          93.272171          97.308869          90.948012  \n",
       "Wilson High School          93.867718          96.539641          90.582567  \n",
       "Wright High School          93.333333          96.611111          90.333333  "
      ],
      "text/html": "<div>\n<style scoped>\n    .dataframe tbody tr th:only-of-type {\n        vertical-align: middle;\n    }\n\n    .dataframe tbody tr th {\n        vertical-align: top;\n    }\n\n    .dataframe thead th {\n        text-align: right;\n    }\n</style>\n<table border=\"1\" class=\"dataframe\">\n  <thead>\n    <tr style=\"text-align: right;\">\n      <th></th>\n      <th>School Type</th>\n      <th>Total Students</th>\n      <th>Total School Budget</th>\n      <th>Average Reading Score</th>\n      <th>Average Math Score</th>\n      <th>% Passing Math</th>\n      <th>% Passing Reading</th>\n      <th>% Overall Passing</th>\n    </tr>\n    <tr>\n      <th>school_name</th>\n      <th></th>\n      <th></th>\n      <th></th>\n      <th></th>\n      <th></th>\n      <th></th>\n      <th></th>\n      <th></th>\n    </tr>\n  </thead>\n  <tbody>\n    <tr>\n      <th>Bailey High School</th>\n      <td>District</td>\n      <td>4976</td>\n      <td>$3,124,928.00</td>\n      <td>81.033963</td>\n      <td>77.048432</td>\n      <td>66.680064</td>\n      <td>81.933280</td>\n      <td>54.642283</td>\n    </tr>\n    <tr>\n      <th>Cabrera High School</th>\n      <td>Charter</td>\n      <td>1858</td>\n      <td>$1,081,356.00</td>\n      <td>83.975780</td>\n      <td>83.061895</td>\n      <td>94.133477</td>\n      <td>97.039828</td>\n      <td>91.334769</td>\n    </tr>\n    <tr>\n      <th>Figueroa High School</th>\n      <td>District</td>\n      <td>2949</td>\n      <td>$1,884,411.00</td>\n      <td>81.158020</td>\n      <td>76.711767</td>\n      <td>65.988471</td>\n      <td>80.739234</td>\n      <td>53.204476</td>\n    </tr>\n    <tr>\n      <th>Ford High School</th>\n      <td>District</td>\n      <td>2739</td>\n      <td>$1,763,916.00</td>\n      <td>80.746258</td>\n      <td>77.102592</td>\n      <td>68.309602</td>\n      <td>79.299014</td>\n      <td>54.289887</td>\n    </tr>\n    <tr>\n      <th>Griffin High School</th>\n      <td>Charter</td>\n      <td>1468</td>\n      <td>$917,500.00</td>\n      <td>83.816757</td>\n      <td>83.351499</td>\n      <td>93.392371</td>\n      <td>97.138965</td>\n      <td>90.599455</td>\n    </tr>\n    <tr>\n      <th>Hernandez High School</th>\n      <td>District</td>\n      <td>4635</td>\n      <td>$3,022,020.00</td>\n      <td>80.934412</td>\n      <td>77.289752</td>\n      <td>66.752967</td>\n      <td>80.862999</td>\n      <td>53.527508</td>\n    </tr>\n    <tr>\n      <th>Holden High School</th>\n      <td>Charter</td>\n      <td>427</td>\n      <td>$248,087.00</td>\n      <td>83.814988</td>\n      <td>83.803279</td>\n      <td>92.505855</td>\n      <td>96.252927</td>\n      <td>89.227166</td>\n    </tr>\n    <tr>\n      <th>Huang High School</th>\n      <td>District</td>\n      <td>2917</td>\n      <td>$1,910,635.00</td>\n      <td>81.182722</td>\n      <td>76.629414</td>\n      <td>65.683922</td>\n      <td>81.316421</td>\n      <td>53.513884</td>\n    </tr>\n    <tr>\n      <th>Johnson High School</th>\n      <td>District</td>\n      <td>4761</td>\n      <td>$3,094,650.00</td>\n      <td>80.966394</td>\n      <td>77.072464</td>\n      <td>66.057551</td>\n      <td>81.222432</td>\n      <td>53.539172</td>\n    </tr>\n    <tr>\n      <th>Pena High School</th>\n      <td>Charter</td>\n      <td>962</td>\n      <td>$585,858.00</td>\n      <td>84.044699</td>\n      <td>83.839917</td>\n      <td>94.594595</td>\n      <td>95.945946</td>\n      <td>90.540541</td>\n    </tr>\n    <tr>\n      <th>Rodriguez High School</th>\n      <td>District</td>\n      <td>3999</td>\n      <td>$2,547,363.00</td>\n      <td>80.744686</td>\n      <td>76.842711</td>\n      <td>66.366592</td>\n      <td>80.220055</td>\n      <td>52.988247</td>\n    </tr>\n    <tr>\n      <th>Shelton High School</th>\n      <td>Charter</td>\n      <td>1761</td>\n      <td>$1,056,600.00</td>\n      <td>83.725724</td>\n      <td>83.359455</td>\n      <td>93.867121</td>\n      <td>95.854628</td>\n      <td>89.892107</td>\n    </tr>\n    <tr>\n      <th>Thomas High School</th>\n      <td>Charter</td>\n      <td>1635</td>\n      <td>$1,043,130.00</td>\n      <td>83.848930</td>\n      <td>83.418349</td>\n      <td>93.272171</td>\n      <td>97.308869</td>\n      <td>90.948012</td>\n    </tr>\n    <tr>\n      <th>Wilson High School</th>\n      <td>Charter</td>\n      <td>2283</td>\n      <td>$1,319,574.00</td>\n      <td>83.989488</td>\n      <td>83.274201</td>\n      <td>93.867718</td>\n      <td>96.539641</td>\n      <td>90.582567</td>\n    </tr>\n    <tr>\n      <th>Wright High School</th>\n      <td>Charter</td>\n      <td>1800</td>\n      <td>$1,049,400.00</td>\n      <td>83.955000</td>\n      <td>83.682222</td>\n      <td>93.333333</td>\n      <td>96.611111</td>\n      <td>90.333333</td>\n    </tr>\n  </tbody>\n</table>\n</div>"
     },
     "metadata": {},
     "execution_count": 125
    }
   ],
   "source": [
    "#Add % Passing Math column \n",
    "summary_v2_df[\"% Passing Math\"]=summary_v2_df[\"bool_math_pass\"]/summary_v2_df[\"Total Students\"]*100\n",
    "\n",
    "#Add % Passing Reading column\n",
    "summary_v2_df[\"% Passing Reading\"]=summary_v2_df[\"bool_reading_pass\"]/summary_v2_df[\"Total Students\"]*100\n",
    "\n",
    "#Add % Passing Both (Math and Reading) column\n",
    "summary_v2_df[\"% Overall Passing\"]=summary_v2_df[\"bool_both_pass\"]/summary_v2_df[\"Total Students\"]*100\n",
    "\n",
    "#Drop columns\n",
    "summary_v2_df=summary_v2_df.drop(columns=[\"bool_math_pass\",\"bool_reading_pass\",\"bool_both_pass\"])\n",
    "\n",
    "#make school name the index\n",
    "summary_v2_df=summary_v2_df.set_index(\"school_name\")\n",
    "\n",
    "#Sort school_name by alphabetical order\n",
    "summary_v2_df=summary_v2_df.sort_values(by=\"school_name\",ascending=True)\n",
    "summary_v2_df\n",
    "\n",
    "#Format the Total School Budget column with $ and ,\n",
    "summary_v2_df[\"Total School Budget\"]=summary_v2_df[\"Total School Budget\"].map(\"${:,.2f}\".format)\n",
    "summary_v2_df\n"
   ]
  },
  {
   "cell_type": "code",
   "execution_count": 126,
   "metadata": {},
   "outputs": [
    {
     "output_type": "execute_result",
     "data": {
      "text/plain": [
       "                    School Type  Total Students Total School Budget  \\\n",
       "school_name                                                           \n",
       "Cabrera High School     Charter            1858       $1,081,356.00   \n",
       "Thomas High School      Charter            1635       $1,043,130.00   \n",
       "Griffin High School     Charter            1468         $917,500.00   \n",
       "Wilson High School      Charter            2283       $1,319,574.00   \n",
       "Pena High School        Charter             962         $585,858.00   \n",
       "\n",
       "                     Average Reading Score  Average Math Score  \\\n",
       "school_name                                                      \n",
       "Cabrera High School              83.975780           83.061895   \n",
       "Thomas High School               83.848930           83.418349   \n",
       "Griffin High School              83.816757           83.351499   \n",
       "Wilson High School               83.989488           83.274201   \n",
       "Pena High School                 84.044699           83.839917   \n",
       "\n",
       "                     % Passing Math  % Passing Reading  % Overall Passing  \n",
       "school_name                                                                \n",
       "Cabrera High School       94.133477          97.039828          91.334769  \n",
       "Thomas High School        93.272171          97.308869          90.948012  \n",
       "Griffin High School       93.392371          97.138965          90.599455  \n",
       "Wilson High School        93.867718          96.539641          90.582567  \n",
       "Pena High School          94.594595          95.945946          90.540541  "
      ],
      "text/html": "<div>\n<style scoped>\n    .dataframe tbody tr th:only-of-type {\n        vertical-align: middle;\n    }\n\n    .dataframe tbody tr th {\n        vertical-align: top;\n    }\n\n    .dataframe thead th {\n        text-align: right;\n    }\n</style>\n<table border=\"1\" class=\"dataframe\">\n  <thead>\n    <tr style=\"text-align: right;\">\n      <th></th>\n      <th>School Type</th>\n      <th>Total Students</th>\n      <th>Total School Budget</th>\n      <th>Average Reading Score</th>\n      <th>Average Math Score</th>\n      <th>% Passing Math</th>\n      <th>% Passing Reading</th>\n      <th>% Overall Passing</th>\n    </tr>\n    <tr>\n      <th>school_name</th>\n      <th></th>\n      <th></th>\n      <th></th>\n      <th></th>\n      <th></th>\n      <th></th>\n      <th></th>\n      <th></th>\n    </tr>\n  </thead>\n  <tbody>\n    <tr>\n      <th>Cabrera High School</th>\n      <td>Charter</td>\n      <td>1858</td>\n      <td>$1,081,356.00</td>\n      <td>83.975780</td>\n      <td>83.061895</td>\n      <td>94.133477</td>\n      <td>97.039828</td>\n      <td>91.334769</td>\n    </tr>\n    <tr>\n      <th>Thomas High School</th>\n      <td>Charter</td>\n      <td>1635</td>\n      <td>$1,043,130.00</td>\n      <td>83.848930</td>\n      <td>83.418349</td>\n      <td>93.272171</td>\n      <td>97.308869</td>\n      <td>90.948012</td>\n    </tr>\n    <tr>\n      <th>Griffin High School</th>\n      <td>Charter</td>\n      <td>1468</td>\n      <td>$917,500.00</td>\n      <td>83.816757</td>\n      <td>83.351499</td>\n      <td>93.392371</td>\n      <td>97.138965</td>\n      <td>90.599455</td>\n    </tr>\n    <tr>\n      <th>Wilson High School</th>\n      <td>Charter</td>\n      <td>2283</td>\n      <td>$1,319,574.00</td>\n      <td>83.989488</td>\n      <td>83.274201</td>\n      <td>93.867718</td>\n      <td>96.539641</td>\n      <td>90.582567</td>\n    </tr>\n    <tr>\n      <th>Pena High School</th>\n      <td>Charter</td>\n      <td>962</td>\n      <td>$585,858.00</td>\n      <td>84.044699</td>\n      <td>83.839917</td>\n      <td>94.594595</td>\n      <td>95.945946</td>\n      <td>90.540541</td>\n    </tr>\n  </tbody>\n</table>\n</div>"
     },
     "metadata": {},
     "execution_count": 126
    }
   ],
   "source": [
    "#sort and display top 5 performing schools by % Overall Passing\n",
    "\n",
    "top_overall_schools_df=summary_v2_df.sort_values(by=\"% Overall Passing\", ascending=False)\n",
    "top_overall_schools_df.head(5)"
   ]
  },
  {
   "cell_type": "code",
   "execution_count": 127,
   "metadata": {},
   "outputs": [
    {
     "output_type": "execute_result",
     "data": {
      "text/plain": [
       "                      School Type  Total Students Total School Budget  \\\n",
       "school_name                                                             \n",
       "Rodriguez High School    District            3999       $2,547,363.00   \n",
       "Figueroa High School     District            2949       $1,884,411.00   \n",
       "Huang High School        District            2917       $1,910,635.00   \n",
       "Hernandez High School    District            4635       $3,022,020.00   \n",
       "Johnson High School      District            4761       $3,094,650.00   \n",
       "\n",
       "                       Average Reading Score  Average Math Score  \\\n",
       "school_name                                                        \n",
       "Rodriguez High School              80.744686           76.842711   \n",
       "Figueroa High School               81.158020           76.711767   \n",
       "Huang High School                  81.182722           76.629414   \n",
       "Hernandez High School              80.934412           77.289752   \n",
       "Johnson High School                80.966394           77.072464   \n",
       "\n",
       "                       % Passing Math  % Passing Reading  % Overall Passing  \n",
       "school_name                                                                  \n",
       "Rodriguez High School       66.366592          80.220055          52.988247  \n",
       "Figueroa High School        65.988471          80.739234          53.204476  \n",
       "Huang High School           65.683922          81.316421          53.513884  \n",
       "Hernandez High School       66.752967          80.862999          53.527508  \n",
       "Johnson High School         66.057551          81.222432          53.539172  "
      ],
      "text/html": "<div>\n<style scoped>\n    .dataframe tbody tr th:only-of-type {\n        vertical-align: middle;\n    }\n\n    .dataframe tbody tr th {\n        vertical-align: top;\n    }\n\n    .dataframe thead th {\n        text-align: right;\n    }\n</style>\n<table border=\"1\" class=\"dataframe\">\n  <thead>\n    <tr style=\"text-align: right;\">\n      <th></th>\n      <th>School Type</th>\n      <th>Total Students</th>\n      <th>Total School Budget</th>\n      <th>Average Reading Score</th>\n      <th>Average Math Score</th>\n      <th>% Passing Math</th>\n      <th>% Passing Reading</th>\n      <th>% Overall Passing</th>\n    </tr>\n    <tr>\n      <th>school_name</th>\n      <th></th>\n      <th></th>\n      <th></th>\n      <th></th>\n      <th></th>\n      <th></th>\n      <th></th>\n      <th></th>\n    </tr>\n  </thead>\n  <tbody>\n    <tr>\n      <th>Rodriguez High School</th>\n      <td>District</td>\n      <td>3999</td>\n      <td>$2,547,363.00</td>\n      <td>80.744686</td>\n      <td>76.842711</td>\n      <td>66.366592</td>\n      <td>80.220055</td>\n      <td>52.988247</td>\n    </tr>\n    <tr>\n      <th>Figueroa High School</th>\n      <td>District</td>\n      <td>2949</td>\n      <td>$1,884,411.00</td>\n      <td>81.158020</td>\n      <td>76.711767</td>\n      <td>65.988471</td>\n      <td>80.739234</td>\n      <td>53.204476</td>\n    </tr>\n    <tr>\n      <th>Huang High School</th>\n      <td>District</td>\n      <td>2917</td>\n      <td>$1,910,635.00</td>\n      <td>81.182722</td>\n      <td>76.629414</td>\n      <td>65.683922</td>\n      <td>81.316421</td>\n      <td>53.513884</td>\n    </tr>\n    <tr>\n      <th>Hernandez High School</th>\n      <td>District</td>\n      <td>4635</td>\n      <td>$3,022,020.00</td>\n      <td>80.934412</td>\n      <td>77.289752</td>\n      <td>66.752967</td>\n      <td>80.862999</td>\n      <td>53.527508</td>\n    </tr>\n    <tr>\n      <th>Johnson High School</th>\n      <td>District</td>\n      <td>4761</td>\n      <td>$3,094,650.00</td>\n      <td>80.966394</td>\n      <td>77.072464</td>\n      <td>66.057551</td>\n      <td>81.222432</td>\n      <td>53.539172</td>\n    </tr>\n  </tbody>\n</table>\n</div>"
     },
     "metadata": {},
     "execution_count": 127
    }
   ],
   "source": [
    "#sort and display bottom 5 performing schools by % Overall Passing\n",
    "\n",
    "bottom_overall_schools_df=summary_v2_df.sort_values(by=\"% Overall Passing\", ascending=True)\n",
    "bottom_overall_schools_df.head(5)"
   ]
  },
  {
   "cell_type": "code",
   "execution_count": 128,
   "metadata": {},
   "outputs": [
    {
     "output_type": "stream",
     "name": "stdout",
     "text": [
      "                      9th Grade Reading Score  9th Grade Math Score\nschool_name                                                        \nBailey High School                  81.303155             77.083676\nCabrera High School                 83.676136             83.094697\nFigueroa High School                81.198598             76.403037\n                      10th Grade Reading Score  10th Grade Math Score\nschool_name                                                          \nBailey High School                   80.907183              76.996772\nCabrera High School                  84.253219              83.154506\nFigueroa High School                 81.408912              76.539974\n                      11th Grade Reading Score  11th Grade Math Score\nschool_name                                                          \nBailey High School                   80.945643              77.515588\nCabrera High School                  83.788382              82.765560\nFigueroa High School                 80.640339              76.884344\n                      12th Grade Reading Score  12th Grade Math Score\nschool_name                                                          \nBailey High School                   80.912451              76.492218\nCabrera High School                  84.287958              83.277487\nFigueroa High School                 81.384863              77.151369\n"
     ]
    }
   ],
   "source": [
    "#####MATH SCORES BY GRADE: GROUPBY SCHOOL, output dataframes: g9_groupby_avg_df, g10_groupby_avg_df, g11_groupby_avg_df, g12_groupby_avg_df\n",
    "\n",
    "##9th Grade##\n",
    "#Use student_df as the raw data starting point\n",
    "student_g9_df=student_df.copy()\n",
    "\n",
    "#Set condition to filter list to only Grade 9\n",
    "condition=student_g9_df[\"grade\"]==\"9th\"\n",
    "\n",
    "student_g9_df=student_g9_df[condition]\n",
    "student_g9_df\n",
    "\n",
    "#groupby grade\n",
    "student_g9_groupby_df=student_g9_df.groupby([\"school_name\"])\n",
    "#get average based on group by school_name\n",
    "g9_groupby_avg_df=student_g9_groupby_df.mean()\n",
    "g9_groupby_avg_df\n",
    "\n",
    "#clean up data columns and rename columns\n",
    "#Drop columns\n",
    "g9_groupby_avg_df=g9_groupby_avg_df.drop(columns=[\"Student ID\"])\n",
    "#rename columns\n",
    "g9_groupby_avg_df=g9_groupby_avg_df.rename(columns={\"reading_score\":\"9th Grade Reading Score\",\"math_score\":\"9th Grade Math Score\"})\n",
    "print(g9_groupby_avg_df.head(3))\n",
    "\n",
    "\n",
    "##10th Grade##\n",
    "#Use student_df as the raw data starting point\n",
    "student_g10_df=student_df.copy()\n",
    "\n",
    "#Set condition to filter list to only Grade 10\n",
    "condition=student_g10_df[\"grade\"]==\"10th\"\n",
    "\n",
    "student_g10_df=student_g10_df[condition]\n",
    "student_g10_df\n",
    "\n",
    "#groupby grade\n",
    "student_g10_groupby_df=student_g10_df.groupby([\"school_name\"])\n",
    "#get average based on group by school_name\n",
    "g10_groupby_avg_df=student_g10_groupby_df.mean()\n",
    "g10_groupby_avg_df\n",
    "\n",
    "#clean up data columns and rename columns\n",
    "#Drop columns\n",
    "g10_groupby_avg_df=g10_groupby_avg_df.drop(columns=[\"Student ID\"])\n",
    "#rename columns\n",
    "g10_groupby_avg_df=g10_groupby_avg_df.rename(columns={\"reading_score\":\"10th Grade Reading Score\",\"math_score\":\"10th Grade Math Score\"})\n",
    "print(g10_groupby_avg_df.head(3))\n",
    "\n",
    "\n",
    "\n",
    "##11th Grade##\n",
    "#Use student_df as the raw data starting point\n",
    "student_g11_df=student_df.copy()\n",
    "\n",
    "#Set condition to filter list to only Grade 11\n",
    "condition=student_g11_df[\"grade\"]==\"11th\"\n",
    "\n",
    "student_g11_df=student_g11_df[condition]\n",
    "student_g11_df\n",
    "\n",
    "#groupby grade\n",
    "student_g11_groupby_df=student_g11_df.groupby([\"school_name\"])\n",
    "#get average based on group by school_name\n",
    "g11_groupby_avg_df=student_g11_groupby_df.mean()\n",
    "g11_groupby_avg_df\n",
    "\n",
    "#clean up data columns and rename columns\n",
    "#Drop columns\n",
    "g11_groupby_avg_df=g11_groupby_avg_df.drop(columns=[\"Student ID\"])\n",
    "#rename columns\n",
    "g11_groupby_avg_df=g11_groupby_avg_df.rename(columns={\"reading_score\":\"11th Grade Reading Score\",\"math_score\":\"11th Grade Math Score\"})\n",
    "print(g11_groupby_avg_df.head(3))\n",
    "\n",
    "\n",
    "##12th Grade##\n",
    "#Use student_df as the raw data starting point\n",
    "student_g12_df=student_df.copy()\n",
    "\n",
    "#Set condition to filter list to only Grade 12\n",
    "condition=student_g12_df[\"grade\"]==\"12th\"\n",
    "\n",
    "student_g12_df=student_g12_df[condition]\n",
    "student_g12_df\n",
    "\n",
    "#groupby grade\n",
    "student_g12_groupby_df=student_g12_df.groupby([\"school_name\"])\n",
    "#get average based on group by school_name\n",
    "g12_groupby_avg_df=student_g12_groupby_df.mean()\n",
    "g12_groupby_avg_df\n",
    "\n",
    "#clean up data columns and rename columns\n",
    "#Drop columns\n",
    "g12_groupby_avg_df=g12_groupby_avg_df.drop(columns=[\"Student ID\"])\n",
    "#rename columns\n",
    "g12_groupby_avg_df=g12_groupby_avg_df.rename(columns={\"reading_score\":\"12th Grade Reading Score\",\"math_score\":\"12th Grade Math Score\"})\n",
    "print(g12_groupby_avg_df.head(3))\n"
   ]
  },
  {
   "cell_type": "code",
   "execution_count": 129,
   "metadata": {},
   "outputs": [
    {
     "output_type": "stream",
     "name": "stdout",
     "text": [
      "                      9th Grade Reading Score  9th Grade Math Score  \\\nschool_name                                                           \nBailey High School                  81.303155             77.083676   \nCabrera High School                 83.676136             83.094697   \nFigueroa High School                81.198598             76.403037   \n\n                      10th Grade Reading Score  10th Grade Math Score  \\\nschool_name                                                             \nBailey High School                   80.907183              76.996772   \nCabrera High School                  84.253219              83.154506   \nFigueroa High School                 81.408912              76.539974   \n\n                      11th Grade Reading Score  11th Grade Math Score  \\\nschool_name                                                             \nBailey High School                   80.945643              77.515588   \nCabrera High School                  83.788382              82.765560   \nFigueroa High School                 80.640339              76.884344   \n\n                      12th Grade Reading Score  12th Grade Math Score  \nschool_name                                                            \nBailey High School                   80.912451              76.492218  \nCabrera High School                  84.287958              83.277487  \nFigueroa High School                 81.384863              77.151369  \n"
     ]
    }
   ],
   "source": [
    "#MATH AND READING SCORES BY GRADE: MERGING DATAFRAMES, on school_name: g9_groupby_avg_df, g10_groupby_avg_df, g11_groupby_avg_df, g12_groupby_avg_df\n",
    "\n",
    "g9_10_avg_df=pd.merge(g9_groupby_avg_df,g10_groupby_avg_df,on=\"school_name\")\n",
    "g9_10_11_avg_df=pd.merge(g9_10_avg_df,g11_groupby_avg_df,on=\"school_name\")\n",
    "g9_10_11_12_avg_df=pd.merge(g9_10_11_avg_df,g12_groupby_avg_df,on=\"school_name\")\n",
    "##TEST print all averages of Math and Reading for all grades, grouped by school name\n",
    "print(g9_10_11_12_avg_df.head(3))\n",
    "\n"
   ]
  },
  {
   "cell_type": "code",
   "execution_count": 130,
   "metadata": {},
   "outputs": [
    {
     "output_type": "stream",
     "name": "stdout",
     "text": [
      "MATH SCORES BY GRADE \n                              9th       10th       11th       12th\nschool_name                                                      \nBailey High School     77.083676  76.996772  77.515588  76.492218\nCabrera High School    83.094697  83.154506  82.765560  83.277487\nFigueroa High School   76.403037  76.539974  76.884344  77.151369\nFord High School       77.361345  77.672316  76.918058  76.179963\nGriffin High School    82.044010  84.229064  83.842105  83.356164\nHernandez High School  77.438495  77.337408  77.136029  77.186567\nHolden High School     83.787402  83.429825  85.000000  82.855422\nHuang High School      77.027251  75.908735  76.446602  77.225641\nJohnson High School    77.187857  76.691117  77.491653  76.863248\nPena High School       83.625455  83.372000  84.328125  84.121547\nRodriguez High School  76.859966  76.612500  76.395626  77.690748\nShelton High School    83.420755  82.917411  83.383495  83.778976\nThomas High School     83.590022  83.087886  83.498795  83.497041\nWilson High School     83.085578  83.724422  83.195326  83.035794\nWright High School     83.264706  84.010288  83.836782  83.644986\n"
     ]
    }
   ],
   "source": [
    "###MATH SCORE BY GRADE### This is the final table\n",
    "\n",
    "#copy math and reading avg score df\n",
    "math_avg_score_grouped_df=g9_10_11_12_avg_df.copy()\n",
    "\n",
    "#Drop Columns\n",
    "math_avg_score_grouped_df=math_avg_score_grouped_df.drop(columns=[\"9th Grade Reading Score\",\"10th Grade Reading Score\",\"11th Grade Reading Score\",\"12th Grade Reading Score\"])\n",
    "math_avg_score_grouped_df\n",
    "\n",
    "#Rename Columns as per solutions\n",
    "math_avg_score_grouped_df=math_avg_score_grouped_df.rename(columns={\"9th Grade Math Score\":\"9th\",\"10th Grade Math Score\":\"10th\",\"11th Grade Math Score\":\"11th\",\"12th Grade Math Score\":\"12th\"})\n",
    "\n",
    "print(f\"MATH SCORES BY GRADE \\n {math_avg_score_grouped_df}\")"
   ]
  },
  {
   "cell_type": "code",
   "execution_count": 131,
   "metadata": {},
   "outputs": [
    {
     "output_type": "stream",
     "name": "stdout",
     "text": [
      "READING SCORES BY GRADE \n                              9th       10th       11th       12th\nschool_name                                                      \nBailey High School     81.303155  80.907183  80.945643  80.912451\nCabrera High School    83.676136  84.253219  83.788382  84.287958\nFigueroa High School   81.198598  81.408912  80.640339  81.384863\nFord High School       80.632653  81.262712  80.403642  80.662338\nGriffin High School    83.369193  83.706897  84.288089  84.013699\nHernandez High School  80.866860  80.660147  81.396140  80.857143\nHolden High School     83.677165  83.324561  83.815534  84.698795\nHuang High School      81.290284  81.512386  81.417476  80.305983\nJohnson High School    81.260714  80.773431  80.616027  81.227564\nPena High School       83.807273  83.612000  84.335938  84.591160\nRodriguez High School  80.993127  80.629808  80.864811  80.376426\nShelton High School    84.122642  83.441964  84.373786  82.781671\nThomas High School     83.728850  84.254157  83.585542  83.831361\nWilson High School     83.939778  84.021452  83.764608  84.317673\nWright High School     83.833333  83.812757  84.156322  84.073171\n"
     ]
    }
   ],
   "source": [
    "##READING SCORE BY GRADE### This is the final table\n",
    "\n",
    "#copy reading and reading avg score df\n",
    "reading_avg_score_grouped_df=g9_10_11_12_avg_df.copy()\n",
    "\n",
    "#Drop Columns\n",
    "reading_avg_score_grouped_df=reading_avg_score_grouped_df.drop(columns=[\"9th Grade Math Score\",\"10th Grade Math Score\",\"11th Grade Math Score\",\"12th Grade Math Score\"])\n",
    "reading_avg_score_grouped_df\n",
    "\n",
    "#Rename Columns as per solutions\n",
    "reading_avg_score_grouped_df=reading_avg_score_grouped_df.rename(columns={\"9th Grade Reading Score\":\"9th\",\"10th Grade Reading Score\":\"10th\",\"11th Grade Reading Score\":\"11th\",\"12th Grade Reading Score\":\"12th\"})\n",
    "\n",
    "print(f\"READING SCORES BY GRADE \\n {reading_avg_score_grouped_df}\")"
   ]
  },
  {
   "cell_type": "code",
   "execution_count": 132,
   "metadata": {},
   "outputs": [
    {
     "output_type": "execute_result",
     "data": {
      "text/plain": [
       "              school_name  bool_reading_pass\n",
       "1       Huang High School               True\n",
       "2       Huang High School               True\n",
       "4       Huang High School               True\n",
       "5       Huang High School               True\n",
       "6       Huang High School               True\n",
       "...                   ...                ...\n",
       "39165  Thomas High School               True\n",
       "39166  Thomas High School               True\n",
       "39167  Thomas High School               True\n",
       "39168  Thomas High School               True\n",
       "39169  Thomas High School               True\n",
       "\n",
       "[33610 rows x 2 columns]"
      ],
      "text/html": "<div>\n<style scoped>\n    .dataframe tbody tr th:only-of-type {\n        vertical-align: middle;\n    }\n\n    .dataframe tbody tr th {\n        vertical-align: top;\n    }\n\n    .dataframe thead th {\n        text-align: right;\n    }\n</style>\n<table border=\"1\" class=\"dataframe\">\n  <thead>\n    <tr style=\"text-align: right;\">\n      <th></th>\n      <th>school_name</th>\n      <th>bool_reading_pass</th>\n    </tr>\n  </thead>\n  <tbody>\n    <tr>\n      <th>1</th>\n      <td>Huang High School</td>\n      <td>True</td>\n    </tr>\n    <tr>\n      <th>2</th>\n      <td>Huang High School</td>\n      <td>True</td>\n    </tr>\n    <tr>\n      <th>4</th>\n      <td>Huang High School</td>\n      <td>True</td>\n    </tr>\n    <tr>\n      <th>5</th>\n      <td>Huang High School</td>\n      <td>True</td>\n    </tr>\n    <tr>\n      <th>6</th>\n      <td>Huang High School</td>\n      <td>True</td>\n    </tr>\n    <tr>\n      <th>...</th>\n      <td>...</td>\n      <td>...</td>\n    </tr>\n    <tr>\n      <th>39165</th>\n      <td>Thomas High School</td>\n      <td>True</td>\n    </tr>\n    <tr>\n      <th>39166</th>\n      <td>Thomas High School</td>\n      <td>True</td>\n    </tr>\n    <tr>\n      <th>39167</th>\n      <td>Thomas High School</td>\n      <td>True</td>\n    </tr>\n    <tr>\n      <th>39168</th>\n      <td>Thomas High School</td>\n      <td>True</td>\n    </tr>\n    <tr>\n      <th>39169</th>\n      <td>Thomas High School</td>\n      <td>True</td>\n    </tr>\n  </tbody>\n</table>\n<p>33610 rows × 2 columns</p>\n</div>"
     },
     "metadata": {},
     "execution_count": 132
    }
   ],
   "source": [
    "bool_reading_pass_df"
   ]
  },
  {
   "cell_type": "code",
   "execution_count": 133,
   "metadata": {},
   "outputs": [
    {
     "output_type": "stream",
     "name": "stdout",
     "text": [
      "   Student ID     student_name gender grade        school_name  reading_score  \\\n",
      "0           0     Paul Bradley      M   9th  Huang High School             66   \n",
      "1           1     Victor Smith      M  12th  Huang High School             94   \n",
      "2           2  Kevin Rodriguez      M  12th  Huang High School             90   \n",
      "\n",
      "   math_score  School ID      type  size   budget  bool_math_pass  \n",
      "0          79          0  District  2917  1910635            True  \n",
      "1          61          0  District  2917  1910635           False  \n",
      "2          60          0  District  2917  1910635           False  \n"
     ]
    },
    {
     "output_type": "execute_result",
     "data": {
      "text/plain": [
       "                        Student ID  reading_score  math_score  School ID  \\\n",
       "Spending Range Group                                                       \n",
       "<$584                 18925.615578      83.964039   83.363065   6.906250   \n",
       "$585-629              16920.783790      82.312643   79.982873   5.768954   \n",
       "$630-644              25333.198993      81.301007   77.821056   9.312401   \n",
       "$645-675              16622.369934      81.005604   77.049297   5.769268   \n",
       "\n",
       "                             size        budget  bool_math_pass  \\\n",
       "Spending Range Group                                              \n",
       "<$584                 1898.018530  1.101853e+06        0.937029   \n",
       "$585-629              3375.386168  2.107647e+06        0.791099   \n",
       "$630-644              3079.310016  1.967931e+06        0.706236   \n",
       "$645-675              4276.718509  2.786812e+06        0.662308   \n",
       "\n",
       "                      bool_reading_pass  bool_both_pass  budget per student  \n",
       "Spending Range Group                                                         \n",
       "<$584                          0.966866        0.906407          580.781564  \n",
       "$585-629                       0.885131        0.709392          620.146831  \n",
       "$630-644                       0.826002        0.588412          639.358771  \n",
       "$645-675                       0.811094        0.535288          651.937383  "
      ],
      "text/html": "<div>\n<style scoped>\n    .dataframe tbody tr th:only-of-type {\n        vertical-align: middle;\n    }\n\n    .dataframe tbody tr th {\n        vertical-align: top;\n    }\n\n    .dataframe thead th {\n        text-align: right;\n    }\n</style>\n<table border=\"1\" class=\"dataframe\">\n  <thead>\n    <tr style=\"text-align: right;\">\n      <th></th>\n      <th>Student ID</th>\n      <th>reading_score</th>\n      <th>math_score</th>\n      <th>School ID</th>\n      <th>size</th>\n      <th>budget</th>\n      <th>bool_math_pass</th>\n      <th>bool_reading_pass</th>\n      <th>bool_both_pass</th>\n      <th>budget per student</th>\n    </tr>\n    <tr>\n      <th>Spending Range Group</th>\n      <th></th>\n      <th></th>\n      <th></th>\n      <th></th>\n      <th></th>\n      <th></th>\n      <th></th>\n      <th></th>\n      <th></th>\n      <th></th>\n    </tr>\n  </thead>\n  <tbody>\n    <tr>\n      <th>&lt;$584</th>\n      <td>18925.615578</td>\n      <td>83.964039</td>\n      <td>83.363065</td>\n      <td>6.906250</td>\n      <td>1898.018530</td>\n      <td>1.101853e+06</td>\n      <td>0.937029</td>\n      <td>0.966866</td>\n      <td>0.906407</td>\n      <td>580.781564</td>\n    </tr>\n    <tr>\n      <th>$585-629</th>\n      <td>16920.783790</td>\n      <td>82.312643</td>\n      <td>79.982873</td>\n      <td>5.768954</td>\n      <td>3375.386168</td>\n      <td>2.107647e+06</td>\n      <td>0.791099</td>\n      <td>0.885131</td>\n      <td>0.709392</td>\n      <td>620.146831</td>\n    </tr>\n    <tr>\n      <th>$630-644</th>\n      <td>25333.198993</td>\n      <td>81.301007</td>\n      <td>77.821056</td>\n      <td>9.312401</td>\n      <td>3079.310016</td>\n      <td>1.967931e+06</td>\n      <td>0.706236</td>\n      <td>0.826002</td>\n      <td>0.588412</td>\n      <td>639.358771</td>\n    </tr>\n    <tr>\n      <th>$645-675</th>\n      <td>16622.369934</td>\n      <td>81.005604</td>\n      <td>77.049297</td>\n      <td>5.769268</td>\n      <td>4276.718509</td>\n      <td>2.786812e+06</td>\n      <td>0.662308</td>\n      <td>0.811094</td>\n      <td>0.535288</td>\n      <td>651.937383</td>\n    </tr>\n  </tbody>\n</table>\n</div>"
     },
     "metadata": {},
     "execution_count": 133
    }
   ],
   "source": [
    "#Scores by School Spending\n",
    "#Use previous dataframes created which lists all students, all trues for pass on the subjects: bool_math_pass_df, bool_reading_pass_df, bool_both_pass_df\n",
    "\n",
    "# print(complete_df.head(3))\n",
    "print(bool_math_df.head(3))\n",
    "# print(bool_reading_df.head(3))\n",
    "# print(bool_both_df.head(3))\n",
    "\n",
    "avg_complete_df=complete_df.copy()\n",
    "\n",
    "#add columns which are different - add bool_mass_pass column\n",
    "cols=bool_math_df.columns.difference(avg_complete_df.columns)\n",
    "\n",
    "avg_complete_df=avg_complete_df.join(bool_math_df[cols])\n",
    "avg_complete_df\n",
    "\n",
    "#add columns which are different - add bool_reading_pass column\n",
    "cols1=bool_reading_df.columns.difference(avg_complete_df.columns)\n",
    "\n",
    "avg_complete_df=avg_complete_df.join(bool_reading_df[cols1])\n",
    "avg_complete_df\n",
    "\n",
    "#add columns which are different - add bool_both_pass column\n",
    "cols2=bool_both_df.columns.difference(avg_complete_df.columns)\n",
    "\n",
    "avg_complete_df=avg_complete_df.join(bool_both_df[cols2])\n",
    "avg_complete_df\n",
    "\n",
    "\n",
    "avg_complete_df[\"budget per student\"]=avg_complete_df[\"budget\"]/avg_complete_df[\"size\"]\n",
    "\n",
    "# #Add % Passing Math column \n",
    "# avg_complete_df=pd.merge(avg_complete_df,bool_math_pass_df,on=\"index\")\n",
    "# avg_complete_df\n",
    "\n",
    "#Binning Spending Ranges per Student\n",
    "bins=[0,584,629,644,675]\n",
    "group_names=[\"<$584\",\"$585-629\",\"$630-644\",\"$645-675\"]\n",
    "\n",
    "avg_complete_df[\"Spending Range Group\"]=pd.cut(avg_complete_df[\"budget per student\"], bins, labels=group_names, include_lowest=True)\n",
    "\n",
    "#Groupby the Spending Range Group\n",
    "avg_complete_df=avg_complete_df.groupby([\"Spending Range Group\"])\n",
    "avg_complete_df=avg_complete_df.mean()\n",
    "avg_complete_df\n",
    "\n"
   ]
  },
  {
   "cell_type": "code",
   "execution_count": 134,
   "metadata": {},
   "outputs": [],
   "source": [
    "#AVERAGE SPENDING RANGES PER STUDENT"
   ]
  }
 ],
 "metadata": {
  "kernelspec": {
   "name": "python3",
   "display_name": "Python 3.6.10 64-bit",
   "metadata": {
    "interpreter": {
     "hash": "e7fc2354c13015bdfad1755b4a48a3eeb5cb703f1c2bff07599d6953b8d3ca77"
    }
   }
  },
  "language_info": {
   "codemirror_mode": {
    "name": "ipython",
    "version": 3
   },
   "file_extension": ".py",
   "mimetype": "text/x-python",
   "name": "python",
   "nbconvert_exporter": "python",
   "pygments_lexer": "ipython3",
   "version": "3.6.10-final"
  }
 },
 "nbformat": 4,
 "nbformat_minor": 4
}