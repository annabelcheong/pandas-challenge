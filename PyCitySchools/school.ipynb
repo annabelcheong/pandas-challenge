{
 "cells": [
  {
   "cell_type": "code",
   "execution_count": 306,
   "metadata": {},
   "outputs": [],
   "source": [
    "#Dependencies\n",
    "import pandas as pd"
   ]
  },
  {
   "cell_type": "code",
   "execution_count": 307,
   "metadata": {},
   "outputs": [
    {
     "output_type": "stream",
     "name": "stdout",
     "text": [
      "../Resources/schools_complete.csv\n"
     ]
    }
   ],
   "source": [
    "#Assign variable to read csv file\n",
    "school_path=\"../Resources/schools_complete.csv\"\n",
    "student_path=\"../Resources/students_complete.csv\"\n",
    "print(school_path)"
   ]
  },
  {
   "cell_type": "code",
   "execution_count": 308,
   "metadata": {},
   "outputs": [],
   "source": [
    "#Create Panda dataframes by reading csv file\n",
    "school_df=pd.read_csv(school_path)\n",
    "student_df=pd.read_csv(student_path)"
   ]
  },
  {
   "cell_type": "code",
   "execution_count": 309,
   "metadata": {},
   "outputs": [
    {
     "output_type": "execute_result",
     "data": {
      "text/plain": [
       "       Student ID       student_name gender grade         school_name  \\\n",
       "0               0       Paul Bradley      M   9th   Huang High School   \n",
       "1               1       Victor Smith      M  12th   Huang High School   \n",
       "2               2    Kevin Rodriguez      M  12th   Huang High School   \n",
       "3               3  Dr. Richard Scott      M  12th   Huang High School   \n",
       "4               4         Bonnie Ray      F   9th   Huang High School   \n",
       "...           ...                ...    ...   ...                 ...   \n",
       "39165       39165       Donna Howard      F  12th  Thomas High School   \n",
       "39166       39166          Dawn Bell      F  10th  Thomas High School   \n",
       "39167       39167     Rebecca Tanner      F   9th  Thomas High School   \n",
       "39168       39168       Desiree Kidd      F  10th  Thomas High School   \n",
       "39169       39169    Carolyn Jackson      F  11th  Thomas High School   \n",
       "\n",
       "       reading_score  math_score  School ID      type  size   budget  \n",
       "0                 66          79          0  District  2917  1910635  \n",
       "1                 94          61          0  District  2917  1910635  \n",
       "2                 90          60          0  District  2917  1910635  \n",
       "3                 67          58          0  District  2917  1910635  \n",
       "4                 97          84          0  District  2917  1910635  \n",
       "...              ...         ...        ...       ...   ...      ...  \n",
       "39165             99          90         14   Charter  1635  1043130  \n",
       "39166             95          70         14   Charter  1635  1043130  \n",
       "39167             73          84         14   Charter  1635  1043130  \n",
       "39168             99          90         14   Charter  1635  1043130  \n",
       "39169             95          75         14   Charter  1635  1043130  \n",
       "\n",
       "[39170 rows x 11 columns]"
      ],
      "text/html": "<div>\n<style scoped>\n    .dataframe tbody tr th:only-of-type {\n        vertical-align: middle;\n    }\n\n    .dataframe tbody tr th {\n        vertical-align: top;\n    }\n\n    .dataframe thead th {\n        text-align: right;\n    }\n</style>\n<table border=\"1\" class=\"dataframe\">\n  <thead>\n    <tr style=\"text-align: right;\">\n      <th></th>\n      <th>Student ID</th>\n      <th>student_name</th>\n      <th>gender</th>\n      <th>grade</th>\n      <th>school_name</th>\n      <th>reading_score</th>\n      <th>math_score</th>\n      <th>School ID</th>\n      <th>type</th>\n      <th>size</th>\n      <th>budget</th>\n    </tr>\n  </thead>\n  <tbody>\n    <tr>\n      <th>0</th>\n      <td>0</td>\n      <td>Paul Bradley</td>\n      <td>M</td>\n      <td>9th</td>\n      <td>Huang High School</td>\n      <td>66</td>\n      <td>79</td>\n      <td>0</td>\n      <td>District</td>\n      <td>2917</td>\n      <td>1910635</td>\n    </tr>\n    <tr>\n      <th>1</th>\n      <td>1</td>\n      <td>Victor Smith</td>\n      <td>M</td>\n      <td>12th</td>\n      <td>Huang High School</td>\n      <td>94</td>\n      <td>61</td>\n      <td>0</td>\n      <td>District</td>\n      <td>2917</td>\n      <td>1910635</td>\n    </tr>\n    <tr>\n      <th>2</th>\n      <td>2</td>\n      <td>Kevin Rodriguez</td>\n      <td>M</td>\n      <td>12th</td>\n      <td>Huang High School</td>\n      <td>90</td>\n      <td>60</td>\n      <td>0</td>\n      <td>District</td>\n      <td>2917</td>\n      <td>1910635</td>\n    </tr>\n    <tr>\n      <th>3</th>\n      <td>3</td>\n      <td>Dr. Richard Scott</td>\n      <td>M</td>\n      <td>12th</td>\n      <td>Huang High School</td>\n      <td>67</td>\n      <td>58</td>\n      <td>0</td>\n      <td>District</td>\n      <td>2917</td>\n      <td>1910635</td>\n    </tr>\n    <tr>\n      <th>4</th>\n      <td>4</td>\n      <td>Bonnie Ray</td>\n      <td>F</td>\n      <td>9th</td>\n      <td>Huang High School</td>\n      <td>97</td>\n      <td>84</td>\n      <td>0</td>\n      <td>District</td>\n      <td>2917</td>\n      <td>1910635</td>\n    </tr>\n    <tr>\n      <th>...</th>\n      <td>...</td>\n      <td>...</td>\n      <td>...</td>\n      <td>...</td>\n      <td>...</td>\n      <td>...</td>\n      <td>...</td>\n      <td>...</td>\n      <td>...</td>\n      <td>...</td>\n      <td>...</td>\n    </tr>\n    <tr>\n      <th>39165</th>\n      <td>39165</td>\n      <td>Donna Howard</td>\n      <td>F</td>\n      <td>12th</td>\n      <td>Thomas High School</td>\n      <td>99</td>\n      <td>90</td>\n      <td>14</td>\n      <td>Charter</td>\n      <td>1635</td>\n      <td>1043130</td>\n    </tr>\n    <tr>\n      <th>39166</th>\n      <td>39166</td>\n      <td>Dawn Bell</td>\n      <td>F</td>\n      <td>10th</td>\n      <td>Thomas High School</td>\n      <td>95</td>\n      <td>70</td>\n      <td>14</td>\n      <td>Charter</td>\n      <td>1635</td>\n      <td>1043130</td>\n    </tr>\n    <tr>\n      <th>39167</th>\n      <td>39167</td>\n      <td>Rebecca Tanner</td>\n      <td>F</td>\n      <td>9th</td>\n      <td>Thomas High School</td>\n      <td>73</td>\n      <td>84</td>\n      <td>14</td>\n      <td>Charter</td>\n      <td>1635</td>\n      <td>1043130</td>\n    </tr>\n    <tr>\n      <th>39168</th>\n      <td>39168</td>\n      <td>Desiree Kidd</td>\n      <td>F</td>\n      <td>10th</td>\n      <td>Thomas High School</td>\n      <td>99</td>\n      <td>90</td>\n      <td>14</td>\n      <td>Charter</td>\n      <td>1635</td>\n      <td>1043130</td>\n    </tr>\n    <tr>\n      <th>39169</th>\n      <td>39169</td>\n      <td>Carolyn Jackson</td>\n      <td>F</td>\n      <td>11th</td>\n      <td>Thomas High School</td>\n      <td>95</td>\n      <td>75</td>\n      <td>14</td>\n      <td>Charter</td>\n      <td>1635</td>\n      <td>1043130</td>\n    </tr>\n  </tbody>\n</table>\n<p>39170 rows × 11 columns</p>\n</div>"
     },
     "metadata": {},
     "execution_count": 309
    }
   ],
   "source": [
    "#Merge 2 tables provided;student info table, school table\n",
    "complete_df=pd.merge(student_df, school_df, how=\"left\", on=[\"school_name\",\"school_name\"])\n",
    "complete_df"
   ]
  },
  {
   "source": [
    "#Reading the csv file for information\n",
    "\n",
    "# Print headings of dataframes, first 5 rows of the school and student dataframes\n",
    "print(school_df.columns)\n",
    "print(student_df.columns)\n",
    "\n",
    "print(f\"{school_df.head()}\\n\\n------------------------------------------------------\\n\\n\")\n",
    "print(student_df.head())\n",
    "\n",
    "print(f\"Total items in school_df:{len(school_df)}\")\n",
    "print(f\"Total items in student_df:{len(student_df)}\")"
   ],
   "cell_type": "code",
   "metadata": {},
   "execution_count": 310,
   "outputs": [
    {
     "output_type": "stream",
     "name": "stdout",
     "text": [
      "Index(['School ID', 'school_name', 'type', 'size', 'budget'], dtype='object')\n",
      "Index(['Student ID', 'student_name', 'gender', 'grade', 'school_name',\n",
      "       'reading_score', 'math_score'],\n",
      "      dtype='object')\n",
      "   School ID            school_name      type  size   budget\n",
      "0          0      Huang High School  District  2917  1910635\n",
      "1          1   Figueroa High School  District  2949  1884411\n",
      "2          2    Shelton High School   Charter  1761  1056600\n",
      "3          3  Hernandez High School  District  4635  3022020\n",
      "4          4    Griffin High School   Charter  1468   917500\n",
      "\n",
      "------------------------------------------------------\n",
      "\n",
      "\n",
      "   Student ID       student_name gender grade        school_name  \\\n",
      "0           0       Paul Bradley      M   9th  Huang High School   \n",
      "1           1       Victor Smith      M  12th  Huang High School   \n",
      "2           2    Kevin Rodriguez      M  12th  Huang High School   \n",
      "3           3  Dr. Richard Scott      M  12th  Huang High School   \n",
      "4           4         Bonnie Ray      F   9th  Huang High School   \n",
      "\n",
      "   reading_score  math_score  \n",
      "0             66          79  \n",
      "1             94          61  \n",
      "2             90          60  \n",
      "3             67          58  \n",
      "4             97          84  \n",
      "Total items in school_df:15\n",
      "Total items in student_df:39170\n"
     ]
    }
   ]
  },
  {
   "cell_type": "code",
   "execution_count": 311,
   "metadata": {},
   "outputs": [
    {
     "output_type": "stream",
     "name": "stdout",
     "text": [
      "DISTRICT SUMMARY\n----------------\nTotal Schools: 15\nTotal Students: 39170\nTotal Budget: $24,649,428\n"
     ]
    }
   ],
   "source": [
    "#DISTRICT SUMMARY#\n",
    "print(\"DISTRICT SUMMARY\\n----------------\")\n",
    "\n",
    "#Count the total number of schools and assign to total_schools variable\n",
    "total_schools=school_df[\"school_name\"].count()\n",
    "print(f\"Total Schools: {total_schools}\")\n",
    "\n",
    "#Sum total number of students\n",
    "total_students=school_df[\"size\"].sum()\n",
    "print(f\"Total Students: {total_students}\")\n",
    "\n",
    "#Sum total budget\n",
    "total_budget=school_df[\"budget\"].sum()\n",
    "print(f\"Total Budget: ${total_budget:,}\")\n"
   ]
  },
  {
   "cell_type": "code",
   "execution_count": 312,
   "metadata": {},
   "outputs": [
    {
     "output_type": "stream",
     "name": "stdout",
     "text": [
      "Average Math Score: 79.0\nAverage Reading Score: 81.9\n"
     ]
    }
   ],
   "source": [
    "#Average Maths Score\n",
    "##TEST: avg_math_score=student_df[\"math_score\"].sum()/total_students\n",
    "avg_math_score=student_df[\"math_score\"].mean()\n",
    "print(f\"Average Math Score: {avg_math_score:.1f}\")\n",
    "\n",
    "#Average Reading Score\n",
    "##TEST: avg_reading_score=student_df[\"reading_score\"].sum()/total_students\n",
    "avg_reading_score=student_df[\"reading_score\"].mean()\n",
    "print(f\"Average Reading Score: {avg_reading_score:.1f}\")"
   ]
  },
  {
   "cell_type": "code",
   "execution_count": 313,
   "metadata": {},
   "outputs": [
    {
     "output_type": "stream",
     "name": "stdout",
     "text": [
      "Percentage Students Passing Maths: 74.98%\nPercentage Students Passing Reading: 85.81%\nPercentage Students Passing Both: 65.17%\n"
     ]
    }
   ],
   "source": [
    "#Percentage Passing Math (The percentage of students that passed Math)\n",
    "students_pass_math=student_df[student_df[\"math_score\"]>=70].count()[\"student_name\"]\n",
    "#print(students_pass_math)\n",
    "\n",
    "#count_student_name_path_math\n",
    "#ssstudents_pass_math=student_df.loc[student_df[\"math_score\"]>=70,:]\n",
    "\n",
    "# TEST to get an idea of min, max, median and avg score: \n",
    "#print(student_df.describe())\n",
    "\n",
    "percent_pass_math=students_pass_math/total_students*100\n",
    "print(f\"Percentage Students Passing Maths: {percent_pass_math:.2f}%\")\n",
    "\n",
    "#Percentage passing Reading (The percentage of students that passed Reading)\n",
    "students_pass_reading=student_df[student_df[\"reading_score\"]>=70].count()[\"student_name\"]\n",
    "percent_pass_reading=students_pass_reading/total_students*100\n",
    "print(f\"Percentage Students Passing Reading: {percent_pass_reading:.2f}%\")\n",
    "\n",
    "#Percentage passing Math and Reading\n",
    "#students_pass_both=(student_df[student_df[\"math_score\"]>=70].count() student_df[student_df[\"reading_score\"]>=70].count())[\"student_name\"]\n",
    "\n",
    "students_pass_both=(student_df[(student_df[\"math_score\"]>=70) & (student_df[\"reading_score\"]>=70)]).count()[\"student_name\"]\n",
    "#print(students_pass_both)\n",
    "percent_pass_both=students_pass_both/total_students*100\n",
    "print(f\"Percentage Students Passing Both: {percent_pass_both:.2f}%\")\n",
    "\n",
    "#percent_pass_both=students_pass_both/total_students*100\n",
    "#print(f\"Percentage Overall Passing: {percent_pass_both:.2f}%\")\n",
    "\n",
    "\n",
    "\n"
   ]
  },
  {
   "cell_type": "code",
   "execution_count": 316,
   "metadata": {},
   "outputs": [
    {
     "output_type": "execute_result",
     "data": {
      "text/plain": [
       "   Total Schools  Total Students Total Budget  Average Math Score  \\\n",
       "0             15           39170  $24,649,428           78.985371   \n",
       "\n",
       "   Average Reading Score  % Passing Math  % Passing Reading  %Overall Passing  \n",
       "0               81.87784       74.980853          85.805463         65.172326  "
      ],
      "text/html": "<div>\n<style scoped>\n    .dataframe tbody tr th:only-of-type {\n        vertical-align: middle;\n    }\n\n    .dataframe tbody tr th {\n        vertical-align: top;\n    }\n\n    .dataframe thead th {\n        text-align: right;\n    }\n</style>\n<table border=\"1\" class=\"dataframe\">\n  <thead>\n    <tr style=\"text-align: right;\">\n      <th></th>\n      <th>Total Schools</th>\n      <th>Total Students</th>\n      <th>Total Budget</th>\n      <th>Average Math Score</th>\n      <th>Average Reading Score</th>\n      <th>% Passing Math</th>\n      <th>% Passing Reading</th>\n      <th>%Overall Passing</th>\n    </tr>\n  </thead>\n  <tbody>\n    <tr>\n      <th>0</th>\n      <td>15</td>\n      <td>39170</td>\n      <td>$24,649,428</td>\n      <td>78.985371</td>\n      <td>81.87784</td>\n      <td>74.980853</td>\n      <td>85.805463</td>\n      <td>65.172326</td>\n    </tr>\n  </tbody>\n</table>\n</div>"
     },
     "metadata": {},
     "execution_count": 316
    }
   ],
   "source": [
    "#DISTRICT SUMMARY TABLE\n",
    "\n",
    "total_budget_print=total_budget\n",
    "dis_summary_df=pd.DataFrame({\"Total Schools\":[total_schools],\"Total Students\": [total_students],\"Total Budget\":[total_budget],\"Average Math Score\":[avg_math_score],\"Average Reading Score\":[avg_reading_score],\"% Passing Math\":[percent_pass_math],\"% Passing Reading\":[percent_pass_reading],\"%Overall Passing\":[percent_pass_both]})\n",
    "dis_summary_df\n",
    "dis_summary_df[\"Total Budget\"]=dis_summary_df[\"Total Budget\"].map(\"${:,}\".format)\n",
    "dis_summary_df"
   ]
  },
  {
   "cell_type": "code",
   "execution_count": 315,
   "metadata": {},
   "outputs": [
    {
     "output_type": "execute_result",
     "data": {
      "text/plain": [
       "                       Student ID  reading_score  math_score\n",
       "school_name                                                 \n",
       "Bailey High School        20358.5      81.033963   77.048432\n",
       "Cabrera High School       16941.5      83.975780   83.061895\n",
       "Figueroa High School       4391.0      81.158020   76.711767\n",
       "Ford High School          36165.0      80.746258   77.102592\n",
       "Griffin High School       12995.5      83.816757   83.351499\n",
       "Hernandez High School      9944.0      80.934412   77.289752\n",
       "Holden High School        23060.0      83.814988   83.803279\n",
       "Huang High School          1458.0      81.182722   76.629414\n",
       "Johnson High School       32415.0      80.966394   77.072464\n",
       "Pena High School          23754.5      84.044699   83.839917\n",
       "Rodriguez High School     28035.0      80.744686   76.842711\n",
       "Shelton High School        6746.0      83.725724   83.359455\n",
       "Thomas High School        38352.0      83.848930   83.418349\n",
       "Wilson High School        14871.0      83.989488   83.274201\n",
       "Wright High School        25135.5      83.955000   83.682222"
      ],
      "text/html": "<div>\n<style scoped>\n    .dataframe tbody tr th:only-of-type {\n        vertical-align: middle;\n    }\n\n    .dataframe tbody tr th {\n        vertical-align: top;\n    }\n\n    .dataframe thead th {\n        text-align: right;\n    }\n</style>\n<table border=\"1\" class=\"dataframe\">\n  <thead>\n    <tr style=\"text-align: right;\">\n      <th></th>\n      <th>Student ID</th>\n      <th>reading_score</th>\n      <th>math_score</th>\n    </tr>\n    <tr>\n      <th>school_name</th>\n      <th></th>\n      <th></th>\n      <th></th>\n    </tr>\n  </thead>\n  <tbody>\n    <tr>\n      <th>Bailey High School</th>\n      <td>20358.5</td>\n      <td>81.033963</td>\n      <td>77.048432</td>\n    </tr>\n    <tr>\n      <th>Cabrera High School</th>\n      <td>16941.5</td>\n      <td>83.975780</td>\n      <td>83.061895</td>\n    </tr>\n    <tr>\n      <th>Figueroa High School</th>\n      <td>4391.0</td>\n      <td>81.158020</td>\n      <td>76.711767</td>\n    </tr>\n    <tr>\n      <th>Ford High School</th>\n      <td>36165.0</td>\n      <td>80.746258</td>\n      <td>77.102592</td>\n    </tr>\n    <tr>\n      <th>Griffin High School</th>\n      <td>12995.5</td>\n      <td>83.816757</td>\n      <td>83.351499</td>\n    </tr>\n    <tr>\n      <th>Hernandez High School</th>\n      <td>9944.0</td>\n      <td>80.934412</td>\n      <td>77.289752</td>\n    </tr>\n    <tr>\n      <th>Holden High School</th>\n      <td>23060.0</td>\n      <td>83.814988</td>\n      <td>83.803279</td>\n    </tr>\n    <tr>\n      <th>Huang High School</th>\n      <td>1458.0</td>\n      <td>81.182722</td>\n      <td>76.629414</td>\n    </tr>\n    <tr>\n      <th>Johnson High School</th>\n      <td>32415.0</td>\n      <td>80.966394</td>\n      <td>77.072464</td>\n    </tr>\n    <tr>\n      <th>Pena High School</th>\n      <td>23754.5</td>\n      <td>84.044699</td>\n      <td>83.839917</td>\n    </tr>\n    <tr>\n      <th>Rodriguez High School</th>\n      <td>28035.0</td>\n      <td>80.744686</td>\n      <td>76.842711</td>\n    </tr>\n    <tr>\n      <th>Shelton High School</th>\n      <td>6746.0</td>\n      <td>83.725724</td>\n      <td>83.359455</td>\n    </tr>\n    <tr>\n      <th>Thomas High School</th>\n      <td>38352.0</td>\n      <td>83.848930</td>\n      <td>83.418349</td>\n    </tr>\n    <tr>\n      <th>Wilson High School</th>\n      <td>14871.0</td>\n      <td>83.989488</td>\n      <td>83.274201</td>\n    </tr>\n    <tr>\n      <th>Wright High School</th>\n      <td>25135.5</td>\n      <td>83.955000</td>\n      <td>83.682222</td>\n    </tr>\n  </tbody>\n</table>\n</div>"
     },
     "metadata": {},
     "execution_count": 315
    }
   ],
   "source": [
    "student_df.groupby([\"school_name\"]).mean()\n",
    "\n",
    "#merge the 2 tables together to get titles 'school type, total students, total school budget'\n",
    "#per student budget =total students per school/total students at the school (add column to original table)"
   ]
  },
  {
   "cell_type": "code",
   "execution_count": null,
   "metadata": {},
   "outputs": [],
   "source": []
  },
  {
   "cell_type": "code",
   "execution_count": null,
   "metadata": {},
   "outputs": [],
   "source": []
  }
 ],
 "metadata": {
  "kernelspec": {
   "name": "python3",
   "display_name": "Python 3.6.10 64-bit",
   "metadata": {
    "interpreter": {
     "hash": "e7fc2354c13015bdfad1755b4a48a3eeb5cb703f1c2bff07599d6953b8d3ca77"
    }
   }
  },
  "language_info": {
   "codemirror_mode": {
    "name": "ipython",
    "version": 3
   },
   "file_extension": ".py",
   "mimetype": "text/x-python",
   "name": "python",
   "nbconvert_exporter": "python",
   "pygments_lexer": "ipython3",
   "version": "3.6.10-final"
  }
 },
 "nbformat": 4,
 "nbformat_minor": 4
}