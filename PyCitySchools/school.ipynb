{
 "cells": [
  {
   "cell_type": "code",
   "execution_count": 271,
   "metadata": {},
   "outputs": [],
   "source": [
    "#Dependencies\n",
    "import pandas as pd"
   ]
  },
  {
   "cell_type": "code",
   "execution_count": 272,
   "metadata": {},
   "outputs": [
    {
     "output_type": "stream",
     "name": "stdout",
     "text": [
      "../Resources/schools_complete.csv\n"
     ]
    }
   ],
   "source": [
    "#Assign variable to read csv file\n",
    "school_path=\"../Resources/schools_complete.csv\"\n",
    "student_path=\"../Resources/students_complete.csv\"\n",
    "print(school_path)"
   ]
  },
  {
   "cell_type": "code",
   "execution_count": 273,
   "metadata": {},
   "outputs": [
    {
     "output_type": "stream",
     "name": "stdout",
     "text": [
      "<_io.TextIOWrapper name='../Resources/schools_complete.csv' mode='r' encoding='UTF-8'>\n"
     ]
    }
   ],
   "source": [
    "with open(\"../Resources/schools_complete.csv\") as f:\n",
    "    print(f)"
   ]
  },
  {
   "cell_type": "code",
   "execution_count": 274,
   "metadata": {},
   "outputs": [],
   "source": [
    "#Create Panda dataframes by reading csv file\n",
    "school_df=pd.read_csv(school_path, encoding=\"utf-8\")\n",
    "student_df=pd.read_csv(student_path, encoding=\"utf-8\")\n",
    "\n"
   ]
  },
  {
   "source": [
    "#Reading the csv file for information\n",
    "\n",
    "# Print headings of dataframes, first 5 rows of the school and student dataframes\n",
    "print(school_df.columns)\n",
    "print(student_df.columns)\n",
    "\n",
    "print(f\"{school_df.head()}\\n\\n------------------------------------------------------\\n\\n\")\n",
    "print(student_df.head())\n",
    "\n",
    "print(f\"Total items in school_df:{len(school_df)}\")\n",
    "print(f\"Total items in student_df:{len(student_df)}\")"
   ],
   "cell_type": "code",
   "metadata": {},
   "execution_count": 275,
   "outputs": [
    {
     "output_type": "stream",
     "name": "stdout",
     "text": [
      "Index(['School ID', 'school_name', 'type', 'size', 'budget'], dtype='object')\nIndex(['Student ID', 'student_name', 'gender', 'grade', 'school_name',\n       'reading_score', 'math_score'],\n      dtype='object')\n   School ID            school_name      type  size   budget\n0          0      Huang High School  District  2917  1910635\n1          1   Figueroa High School  District  2949  1884411\n2          2    Shelton High School   Charter  1761  1056600\n3          3  Hernandez High School  District  4635  3022020\n4          4    Griffin High School   Charter  1468   917500\n\n------------------------------------------------------\n\n\n   Student ID       student_name gender grade        school_name  \\\n0           0       Paul Bradley      M   9th  Huang High School   \n1           1       Victor Smith      M  12th  Huang High School   \n2           2    Kevin Rodriguez      M  12th  Huang High School   \n3           3  Dr. Richard Scott      M  12th  Huang High School   \n4           4         Bonnie Ray      F   9th  Huang High School   \n\n   reading_score  math_score  \n0             66          79  \n1             94          61  \n2             90          60  \n3             67          58  \n4             97          84  \nTotal items in school_df:15\nTotal items in student_df:39170\n"
     ]
    }
   ]
  },
  {
   "cell_type": "code",
   "execution_count": 276,
   "metadata": {},
   "outputs": [
    {
     "output_type": "stream",
     "name": "stdout",
     "text": [
      "DISTRICT SUMMARY\n",
      "----------------\n",
      "Total Schools: 15\n",
      "Total Students: 39170\n",
      "Total Budget: $24649428\n",
      "Average Math Score: 79.0\n",
      "Average Reading Score: 81.9\n",
      "         Student ID  reading_score    math_score\n",
      "count  39170.000000    39170.00000  39170.000000\n",
      "mean   19584.500000       81.87784     78.985371\n",
      "std    11307.549359       10.23958     12.309968\n",
      "min        0.000000       63.00000     55.000000\n",
      "25%     9792.250000       73.00000     69.000000\n",
      "50%    19584.500000       82.00000     79.000000\n",
      "75%    29376.750000       91.00000     89.000000\n",
      "max    39169.000000       99.00000     99.000000\n",
      "Percentage Students Passing Maths: 100.00%\n",
      "Percentage Students Passing Reading: 100.00%\n"
     ]
    }
   ],
   "source": [
    "#DISTRICT SUMMARY#\n",
    "print(\"DISTRICT SUMMARY\\n----------------\")\n",
    "\n",
    "#Count the total number of schools and assign to total_schools variable\n",
    "total_schools=school_df[\"school_name\"].count()\n",
    "print(f\"Total Schools: {total_schools}\")\n",
    "\n",
    "#Sum total number of students\n",
    "total_students=school_df[\"size\"].sum()\n",
    "print(f\"Total Students: {total_students}\")\n",
    "\n",
    "#Sum total budget\n",
    "total_budget=school_df[\"budget\"].sum()\n",
    "print(f\"Total Budget: ${total_budget}\")\n",
    "\n",
    "#Average Maths Score\n",
    "##TEST: avg_math_score=student_df[\"math_score\"].sum()/total_students\n",
    "avg_math_score=student_df.mean()[\"math_score\"]\n",
    "print(f\"Average Math Score: {avg_math_score:.1f}\")\n",
    "\n",
    "#Average Reading Score\n",
    "##TEST: avg_reading_score=student_df[\"reading_score\"].sum()/total_students\n",
    "avg_reading_score=student_df.mean()[\"reading_score\"]\n",
    "print(f\"Average Reading Score: {avg_reading_score:.1f}\")\n",
    "\n",
    "#Percentage Passing Math (The percentage of students that passed Math)\n",
    "students_pass_math=student_df[student_df[\"math_score\"]>=50].count()[\"student_name\"]\n",
    "# TEST to get an idea of min, max, median and avg score: \n",
    "print(student_df.describe())\n",
    "# TEST: print(students_pass_math)\n",
    "percent_pass_math=students_pass_math/total_students*100\n",
    "print(f\"Percentage Students Passing Maths: {percent_pass_math:.2f}%\")\n",
    "\n",
    "#Percentage passing Reading (The percentage of students that passed Reading)\n",
    "students_pass_reading=student_df[student_df[\"reading_score\"]>=50].count()[\"student_name\"]\n",
    "percent_pass_reading=students_pass_reading/total_students*100\n",
    "print(f\"Percentage Students Passing Reading: {percent_pass_reading:.2f}%\")\n",
    "\n",
    "#Percentage passing Math and Reading\n",
    "\n"
   ]
  },
  {
   "cell_type": "code",
   "execution_count": null,
   "metadata": {},
   "outputs": [],
   "source": []
  }
 ],
 "metadata": {
  "kernelspec": {
   "name": "python3",
   "display_name": "Python 3.6.10 64-bit ('PythonData': conda)",
   "metadata": {
    "interpreter": {
     "hash": "e7fc2354c13015bdfad1755b4a48a3eeb5cb703f1c2bff07599d6953b8d3ca77"
    }
   }
  },
  "language_info": {
   "codemirror_mode": {
    "name": "ipython",
    "version": 3
   },
   "file_extension": ".py",
   "mimetype": "text/x-python",
   "name": "python",
   "nbconvert_exporter": "python",
   "pygments_lexer": "ipython3",
   "version": "3.6.10-final"
  }
 },
 "nbformat": 4,
 "nbformat_minor": 4
}