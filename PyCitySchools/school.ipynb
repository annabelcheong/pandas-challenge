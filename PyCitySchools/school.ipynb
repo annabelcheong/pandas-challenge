{
 "cells": [
  {
   "cell_type": "code",
   "execution_count": 165,
   "metadata": {},
   "outputs": [],
   "source": [
    "#Dependencies\n",
    "import pandas as pd"
   ]
  },
  {
   "cell_type": "code",
   "execution_count": 166,
   "metadata": {},
   "outputs": [
    {
     "output_type": "stream",
     "name": "stdout",
     "text": [
      "../Resources/schools_complete.csv\n"
     ]
    }
   ],
   "source": [
    "#Assign variable to read csv file\n",
    "school_path=\"../Resources/schools_complete.csv\"\n",
    "student_path=\"../Resources/students_complete.csv\"\n",
    "print(school_path)"
   ]
  },
  {
   "cell_type": "code",
   "execution_count": 167,
   "metadata": {},
   "outputs": [],
   "source": [
    "#Create Panda dataframes by reading csv file\n",
    "school_df=pd.read_csv(school_path)\n",
    "student_df=pd.read_csv(student_path)"
   ]
  },
  {
   "cell_type": "code",
   "execution_count": 168,
   "metadata": {},
   "outputs": [
    {
     "output_type": "execute_result",
     "data": {
      "text/plain": [
       "       Student ID       student_name gender grade         school_name  \\\n",
       "0               0       Paul Bradley      M   9th   Huang High School   \n",
       "1               1       Victor Smith      M  12th   Huang High School   \n",
       "2               2    Kevin Rodriguez      M  12th   Huang High School   \n",
       "3               3  Dr. Richard Scott      M  12th   Huang High School   \n",
       "4               4         Bonnie Ray      F   9th   Huang High School   \n",
       "...           ...                ...    ...   ...                 ...   \n",
       "39165       39165       Donna Howard      F  12th  Thomas High School   \n",
       "39166       39166          Dawn Bell      F  10th  Thomas High School   \n",
       "39167       39167     Rebecca Tanner      F   9th  Thomas High School   \n",
       "39168       39168       Desiree Kidd      F  10th  Thomas High School   \n",
       "39169       39169    Carolyn Jackson      F  11th  Thomas High School   \n",
       "\n",
       "       reading_score  math_score  School ID      type  size   budget  \n",
       "0                 66          79          0  District  2917  1910635  \n",
       "1                 94          61          0  District  2917  1910635  \n",
       "2                 90          60          0  District  2917  1910635  \n",
       "3                 67          58          0  District  2917  1910635  \n",
       "4                 97          84          0  District  2917  1910635  \n",
       "...              ...         ...        ...       ...   ...      ...  \n",
       "39165             99          90         14   Charter  1635  1043130  \n",
       "39166             95          70         14   Charter  1635  1043130  \n",
       "39167             73          84         14   Charter  1635  1043130  \n",
       "39168             99          90         14   Charter  1635  1043130  \n",
       "39169             95          75         14   Charter  1635  1043130  \n",
       "\n",
       "[39170 rows x 11 columns]"
      ],
      "text/html": "<div>\n<style scoped>\n    .dataframe tbody tr th:only-of-type {\n        vertical-align: middle;\n    }\n\n    .dataframe tbody tr th {\n        vertical-align: top;\n    }\n\n    .dataframe thead th {\n        text-align: right;\n    }\n</style>\n<table border=\"1\" class=\"dataframe\">\n  <thead>\n    <tr style=\"text-align: right;\">\n      <th></th>\n      <th>Student ID</th>\n      <th>student_name</th>\n      <th>gender</th>\n      <th>grade</th>\n      <th>school_name</th>\n      <th>reading_score</th>\n      <th>math_score</th>\n      <th>School ID</th>\n      <th>type</th>\n      <th>size</th>\n      <th>budget</th>\n    </tr>\n  </thead>\n  <tbody>\n    <tr>\n      <th>0</th>\n      <td>0</td>\n      <td>Paul Bradley</td>\n      <td>M</td>\n      <td>9th</td>\n      <td>Huang High School</td>\n      <td>66</td>\n      <td>79</td>\n      <td>0</td>\n      <td>District</td>\n      <td>2917</td>\n      <td>1910635</td>\n    </tr>\n    <tr>\n      <th>1</th>\n      <td>1</td>\n      <td>Victor Smith</td>\n      <td>M</td>\n      <td>12th</td>\n      <td>Huang High School</td>\n      <td>94</td>\n      <td>61</td>\n      <td>0</td>\n      <td>District</td>\n      <td>2917</td>\n      <td>1910635</td>\n    </tr>\n    <tr>\n      <th>2</th>\n      <td>2</td>\n      <td>Kevin Rodriguez</td>\n      <td>M</td>\n      <td>12th</td>\n      <td>Huang High School</td>\n      <td>90</td>\n      <td>60</td>\n      <td>0</td>\n      <td>District</td>\n      <td>2917</td>\n      <td>1910635</td>\n    </tr>\n    <tr>\n      <th>3</th>\n      <td>3</td>\n      <td>Dr. Richard Scott</td>\n      <td>M</td>\n      <td>12th</td>\n      <td>Huang High School</td>\n      <td>67</td>\n      <td>58</td>\n      <td>0</td>\n      <td>District</td>\n      <td>2917</td>\n      <td>1910635</td>\n    </tr>\n    <tr>\n      <th>4</th>\n      <td>4</td>\n      <td>Bonnie Ray</td>\n      <td>F</td>\n      <td>9th</td>\n      <td>Huang High School</td>\n      <td>97</td>\n      <td>84</td>\n      <td>0</td>\n      <td>District</td>\n      <td>2917</td>\n      <td>1910635</td>\n    </tr>\n    <tr>\n      <th>...</th>\n      <td>...</td>\n      <td>...</td>\n      <td>...</td>\n      <td>...</td>\n      <td>...</td>\n      <td>...</td>\n      <td>...</td>\n      <td>...</td>\n      <td>...</td>\n      <td>...</td>\n      <td>...</td>\n    </tr>\n    <tr>\n      <th>39165</th>\n      <td>39165</td>\n      <td>Donna Howard</td>\n      <td>F</td>\n      <td>12th</td>\n      <td>Thomas High School</td>\n      <td>99</td>\n      <td>90</td>\n      <td>14</td>\n      <td>Charter</td>\n      <td>1635</td>\n      <td>1043130</td>\n    </tr>\n    <tr>\n      <th>39166</th>\n      <td>39166</td>\n      <td>Dawn Bell</td>\n      <td>F</td>\n      <td>10th</td>\n      <td>Thomas High School</td>\n      <td>95</td>\n      <td>70</td>\n      <td>14</td>\n      <td>Charter</td>\n      <td>1635</td>\n      <td>1043130</td>\n    </tr>\n    <tr>\n      <th>39167</th>\n      <td>39167</td>\n      <td>Rebecca Tanner</td>\n      <td>F</td>\n      <td>9th</td>\n      <td>Thomas High School</td>\n      <td>73</td>\n      <td>84</td>\n      <td>14</td>\n      <td>Charter</td>\n      <td>1635</td>\n      <td>1043130</td>\n    </tr>\n    <tr>\n      <th>39168</th>\n      <td>39168</td>\n      <td>Desiree Kidd</td>\n      <td>F</td>\n      <td>10th</td>\n      <td>Thomas High School</td>\n      <td>99</td>\n      <td>90</td>\n      <td>14</td>\n      <td>Charter</td>\n      <td>1635</td>\n      <td>1043130</td>\n    </tr>\n    <tr>\n      <th>39169</th>\n      <td>39169</td>\n      <td>Carolyn Jackson</td>\n      <td>F</td>\n      <td>11th</td>\n      <td>Thomas High School</td>\n      <td>95</td>\n      <td>75</td>\n      <td>14</td>\n      <td>Charter</td>\n      <td>1635</td>\n      <td>1043130</td>\n    </tr>\n  </tbody>\n</table>\n<p>39170 rows × 11 columns</p>\n</div>"
     },
     "metadata": {},
     "execution_count": 168
    }
   ],
   "source": [
    "#Merge 2 tables provided;student info table, school table\n",
    "complete_df=pd.merge(student_df, school_df, how=\"left\", on=[\"school_name\",\"school_name\"])\n",
    "complete_df\n"
   ]
  },
  {
   "cell_type": "code",
   "execution_count": 169,
   "metadata": {},
   "outputs": [
    {
     "output_type": "execute_result",
     "data": {
      "text/plain": [
       "              school_name  Student ID  Average Reading Score  \\\n",
       "0      Bailey High School     20358.5              81.033963   \n",
       "1     Cabrera High School     16941.5              83.975780   \n",
       "2    Figueroa High School      4391.0              81.158020   \n",
       "3        Ford High School     36165.0              80.746258   \n",
       "4     Griffin High School     12995.5              83.816757   \n",
       "5   Hernandez High School      9944.0              80.934412   \n",
       "6      Holden High School     23060.0              83.814988   \n",
       "7       Huang High School      1458.0              81.182722   \n",
       "8     Johnson High School     32415.0              80.966394   \n",
       "9        Pena High School     23754.5              84.044699   \n",
       "10  Rodriguez High School     28035.0              80.744686   \n",
       "11    Shelton High School      6746.0              83.725724   \n",
       "12     Thomas High School     38352.0              83.848930   \n",
       "13     Wilson High School     14871.0              83.989488   \n",
       "14     Wright High School     25135.5              83.955000   \n",
       "\n",
       "    Average Math Score  School ID    size     budget  \n",
       "0            77.048432        7.0  4976.0  3124928.0  \n",
       "1            83.061895        6.0  1858.0  1081356.0  \n",
       "2            76.711767        1.0  2949.0  1884411.0  \n",
       "3            77.102592       13.0  2739.0  1763916.0  \n",
       "4            83.351499        4.0  1468.0   917500.0  \n",
       "5            77.289752        3.0  4635.0  3022020.0  \n",
       "6            83.803279        8.0   427.0   248087.0  \n",
       "7            76.629414        0.0  2917.0  1910635.0  \n",
       "8            77.072464       12.0  4761.0  3094650.0  \n",
       "9            83.839917        9.0   962.0   585858.0  \n",
       "10           76.842711       11.0  3999.0  2547363.0  \n",
       "11           83.359455        2.0  1761.0  1056600.0  \n",
       "12           83.418349       14.0  1635.0  1043130.0  \n",
       "13           83.274201        5.0  2283.0  1319574.0  \n",
       "14           83.682222       10.0  1800.0  1049400.0  "
      ],
      "text/html": "<div>\n<style scoped>\n    .dataframe tbody tr th:only-of-type {\n        vertical-align: middle;\n    }\n\n    .dataframe tbody tr th {\n        vertical-align: top;\n    }\n\n    .dataframe thead th {\n        text-align: right;\n    }\n</style>\n<table border=\"1\" class=\"dataframe\">\n  <thead>\n    <tr style=\"text-align: right;\">\n      <th></th>\n      <th>school_name</th>\n      <th>Student ID</th>\n      <th>Average Reading Score</th>\n      <th>Average Math Score</th>\n      <th>School ID</th>\n      <th>size</th>\n      <th>budget</th>\n    </tr>\n  </thead>\n  <tbody>\n    <tr>\n      <th>0</th>\n      <td>Bailey High School</td>\n      <td>20358.5</td>\n      <td>81.033963</td>\n      <td>77.048432</td>\n      <td>7.0</td>\n      <td>4976.0</td>\n      <td>3124928.0</td>\n    </tr>\n    <tr>\n      <th>1</th>\n      <td>Cabrera High School</td>\n      <td>16941.5</td>\n      <td>83.975780</td>\n      <td>83.061895</td>\n      <td>6.0</td>\n      <td>1858.0</td>\n      <td>1081356.0</td>\n    </tr>\n    <tr>\n      <th>2</th>\n      <td>Figueroa High School</td>\n      <td>4391.0</td>\n      <td>81.158020</td>\n      <td>76.711767</td>\n      <td>1.0</td>\n      <td>2949.0</td>\n      <td>1884411.0</td>\n    </tr>\n    <tr>\n      <th>3</th>\n      <td>Ford High School</td>\n      <td>36165.0</td>\n      <td>80.746258</td>\n      <td>77.102592</td>\n      <td>13.0</td>\n      <td>2739.0</td>\n      <td>1763916.0</td>\n    </tr>\n    <tr>\n      <th>4</th>\n      <td>Griffin High School</td>\n      <td>12995.5</td>\n      <td>83.816757</td>\n      <td>83.351499</td>\n      <td>4.0</td>\n      <td>1468.0</td>\n      <td>917500.0</td>\n    </tr>\n    <tr>\n      <th>5</th>\n      <td>Hernandez High School</td>\n      <td>9944.0</td>\n      <td>80.934412</td>\n      <td>77.289752</td>\n      <td>3.0</td>\n      <td>4635.0</td>\n      <td>3022020.0</td>\n    </tr>\n    <tr>\n      <th>6</th>\n      <td>Holden High School</td>\n      <td>23060.0</td>\n      <td>83.814988</td>\n      <td>83.803279</td>\n      <td>8.0</td>\n      <td>427.0</td>\n      <td>248087.0</td>\n    </tr>\n    <tr>\n      <th>7</th>\n      <td>Huang High School</td>\n      <td>1458.0</td>\n      <td>81.182722</td>\n      <td>76.629414</td>\n      <td>0.0</td>\n      <td>2917.0</td>\n      <td>1910635.0</td>\n    </tr>\n    <tr>\n      <th>8</th>\n      <td>Johnson High School</td>\n      <td>32415.0</td>\n      <td>80.966394</td>\n      <td>77.072464</td>\n      <td>12.0</td>\n      <td>4761.0</td>\n      <td>3094650.0</td>\n    </tr>\n    <tr>\n      <th>9</th>\n      <td>Pena High School</td>\n      <td>23754.5</td>\n      <td>84.044699</td>\n      <td>83.839917</td>\n      <td>9.0</td>\n      <td>962.0</td>\n      <td>585858.0</td>\n    </tr>\n    <tr>\n      <th>10</th>\n      <td>Rodriguez High School</td>\n      <td>28035.0</td>\n      <td>80.744686</td>\n      <td>76.842711</td>\n      <td>11.0</td>\n      <td>3999.0</td>\n      <td>2547363.0</td>\n    </tr>\n    <tr>\n      <th>11</th>\n      <td>Shelton High School</td>\n      <td>6746.0</td>\n      <td>83.725724</td>\n      <td>83.359455</td>\n      <td>2.0</td>\n      <td>1761.0</td>\n      <td>1056600.0</td>\n    </tr>\n    <tr>\n      <th>12</th>\n      <td>Thomas High School</td>\n      <td>38352.0</td>\n      <td>83.848930</td>\n      <td>83.418349</td>\n      <td>14.0</td>\n      <td>1635.0</td>\n      <td>1043130.0</td>\n    </tr>\n    <tr>\n      <th>13</th>\n      <td>Wilson High School</td>\n      <td>14871.0</td>\n      <td>83.989488</td>\n      <td>83.274201</td>\n      <td>5.0</td>\n      <td>2283.0</td>\n      <td>1319574.0</td>\n    </tr>\n    <tr>\n      <th>14</th>\n      <td>Wright High School</td>\n      <td>25135.5</td>\n      <td>83.955000</td>\n      <td>83.682222</td>\n      <td>10.0</td>\n      <td>1800.0</td>\n      <td>1049400.0</td>\n    </tr>\n  </tbody>\n</table>\n</div>"
     },
     "metadata": {},
     "execution_count": 169
    }
   ],
   "source": [
    "#SUMMARY - summary_p1_mean_df\n",
    "##average math score, average reading score\n",
    "#groupby per school and find mean \n",
    "\n",
    "summary_p1_df=complete_df.groupby([\"school_name\"])\n",
    "\n",
    "summary_p1_mean_df=summary_p1_df.mean()\n",
    "\n",
    "summary_p1_mean_df\n",
    "\n",
    "#Rename coluuns\n",
    "summary_p1_mean_df=summary_p1_mean_df.rename(columns={\"reading_score\":\"Average Reading Score\",\"math_score\":\"Average Math Score\",})\n",
    "\n",
    "#reset index to ensure school_name is a column\n",
    "summary_p1_mean_df.reset_index(inplace=True)\n",
    "summary_p1_mean_df\n",
    "\n",
    "#add column called school_name\n",
    "#summary_p1_mean_df=summary_p1_mean_df.\n",
    "\n",
    "\n",
    "#delete column\n",
    "#summary_p1_mean_df=summary_p1_mean_df.drop(columns=[\"School ID\"])\n",
    "#school_df\n",
    "\n"
   ]
  },
  {
   "cell_type": "code",
   "execution_count": 170,
   "metadata": {},
   "outputs": [
    {
     "output_type": "execute_result",
     "data": {
      "text/plain": [
       "<pandas.core.groupby.generic.DataFrameGroupBy object at 0x7f87260bea90>"
      ]
     },
     "metadata": {},
     "execution_count": 170
    }
   ],
   "source": [
    "complete_df.groupby([\"school_name\"])"
   ]
  },
  {
   "source": [
    "#Reading the csv file for information\n",
    "\n",
    "# Print headings of dataframes, first 5 rows of the school and student dataframes\n",
    "print(school_df.columns)\n",
    "print(student_df.columns)\n",
    "\n",
    "print(f\"{school_df.head()}\\n\\n------------------------------------------------------\\n\\n\")\n",
    "print(student_df.head())\n",
    "\n",
    "print(f\"Total items in school_df:{len(school_df)}\")\n",
    "print(f\"Total items in student_df:{len(student_df)}\")"
   ],
   "cell_type": "code",
   "metadata": {},
   "execution_count": 171,
   "outputs": [
    {
     "output_type": "stream",
     "name": "stdout",
     "text": [
      "Index(['School ID', 'school_name', 'type', 'size', 'budget'], dtype='object')\nIndex(['Student ID', 'student_name', 'gender', 'grade', 'school_name',\n       'reading_score', 'math_score'],\n      dtype='object')\n   School ID            school_name      type  size   budget\n0          0      Huang High School  District  2917  1910635\n1          1   Figueroa High School  District  2949  1884411\n2          2    Shelton High School   Charter  1761  1056600\n3          3  Hernandez High School  District  4635  3022020\n4          4    Griffin High School   Charter  1468   917500\n\n------------------------------------------------------\n\n\n   Student ID       student_name gender grade        school_name  \\\n0           0       Paul Bradley      M   9th  Huang High School   \n1           1       Victor Smith      M  12th  Huang High School   \n2           2    Kevin Rodriguez      M  12th  Huang High School   \n3           3  Dr. Richard Scott      M  12th  Huang High School   \n4           4         Bonnie Ray      F   9th  Huang High School   \n\n   reading_score  math_score  \n0             66          79  \n1             94          61  \n2             90          60  \n3             67          58  \n4             97          84  \nTotal items in school_df:15\nTotal items in student_df:39170\n"
     ]
    }
   ]
  },
  {
   "cell_type": "code",
   "execution_count": 172,
   "metadata": {},
   "outputs": [
    {
     "output_type": "stream",
     "name": "stdout",
     "text": [
      "DISTRICT SUMMARY\n----------------\nTotal Schools: 15\nTotal Students: 39170\nTotal Budget: $24,649,428\n"
     ]
    }
   ],
   "source": [
    "#DISTRICT SUMMARY#\n",
    "print(\"DISTRICT SUMMARY\\n----------------\")\n",
    "\n",
    "#Count the total number of schools and assign to total_schools variable\n",
    "total_schools=school_df[\"school_name\"].count()\n",
    "print(f\"Total Schools: {total_schools}\")\n",
    "\n",
    "#Sum total number of students\n",
    "total_students=school_df[\"size\"].sum()\n",
    "print(f\"Total Students: {total_students}\")\n",
    "\n",
    "#Sum total budget\n",
    "total_budget=school_df[\"budget\"].sum()\n",
    "print(f\"Total Budget: ${total_budget:,}\")\n"
   ]
  },
  {
   "cell_type": "code",
   "execution_count": 173,
   "metadata": {},
   "outputs": [
    {
     "output_type": "stream",
     "name": "stdout",
     "text": [
      "Average Math Score: 79.0\nAverage Reading Score: 81.9\n"
     ]
    }
   ],
   "source": [
    "#Average Maths Score\n",
    "##TEST: avg_math_score=student_df[\"math_score\"].sum()/total_students\n",
    "avg_math_score=student_df[\"math_score\"].mean()\n",
    "print(f\"Average Math Score: {avg_math_score:.1f}\")\n",
    "\n",
    "#Average Reading Score\n",
    "##TEST: avg_reading_score=student_df[\"reading_score\"].sum()/total_students\n",
    "avg_reading_score=student_df[\"reading_score\"].mean()\n",
    "print(f\"Average Reading Score: {avg_reading_score:.1f}\")"
   ]
  },
  {
   "cell_type": "code",
   "execution_count": 174,
   "metadata": {},
   "outputs": [
    {
     "output_type": "stream",
     "name": "stdout",
     "text": [
      "Percentage Students Passing Maths: 74.98%\nPercentage Students Passing Reading: 85.81%\nPercentage Students Passing Both: 65.17%\n"
     ]
    }
   ],
   "source": [
    "#Percentage Passing Math (The percentage of students that passed Math)\n",
    "students_pass_math=student_df[student_df[\"math_score\"]>=70].count()[\"student_name\"]\n",
    "#print(students_pass_math)\n",
    "\n",
    "#count_student_name_path_math\n",
    "#ssstudents_pass_math=student_df.loc[student_df[\"math_score\"]>=70,:]\n",
    "\n",
    "# TEST to get an idea of min, max, median and avg score: \n",
    "#print(student_df.describe())\n",
    "\n",
    "percent_pass_math=students_pass_math/total_students*100\n",
    "print(f\"Percentage Students Passing Maths: {percent_pass_math:.2f}%\")\n",
    "\n",
    "#Percentage passing Reading (The percentage of students that passed Reading)\n",
    "students_pass_reading=student_df[student_df[\"reading_score\"]>=70].count()[\"student_name\"]\n",
    "percent_pass_reading=students_pass_reading/total_students*100\n",
    "print(f\"Percentage Students Passing Reading: {percent_pass_reading:.2f}%\")\n",
    "\n",
    "#Percentage passing Math and Reading\n",
    "#students_pass_both=(student_df[student_df[\"math_score\"]>=70].count() student_df[student_df[\"reading_score\"]>=70].count())[\"student_name\"]\n",
    "\n",
    "students_pass_both=(student_df[(student_df[\"math_score\"]>=70) & (student_df[\"reading_score\"]>=70)]).count()[\"student_name\"]\n",
    "#print(students_pass_both)\n",
    "percent_pass_both=students_pass_both/total_students*100\n",
    "print(f\"Percentage Students Passing Both: {percent_pass_both:.2f}%\")\n",
    "\n",
    "#percent_pass_both=students_pass_both/total_students*100\n",
    "#print(f\"Percentage Overall Passing: {percent_pass_both:.2f}%\")\n",
    "\n",
    "\n",
    "\n"
   ]
  },
  {
   "cell_type": "code",
   "execution_count": 175,
   "metadata": {},
   "outputs": [
    {
     "output_type": "execute_result",
     "data": {
      "text/plain": [
       "   Total Schools  Total Students Total Budget  Average Math Score  \\\n",
       "0             15           39170  $24,649,428           78.985371   \n",
       "\n",
       "   Average Reading Score  % Passing Math  % Passing Reading  %Overall Passing  \n",
       "0               81.87784       74.980853          85.805463         65.172326  "
      ],
      "text/html": "<div>\n<style scoped>\n    .dataframe tbody tr th:only-of-type {\n        vertical-align: middle;\n    }\n\n    .dataframe tbody tr th {\n        vertical-align: top;\n    }\n\n    .dataframe thead th {\n        text-align: right;\n    }\n</style>\n<table border=\"1\" class=\"dataframe\">\n  <thead>\n    <tr style=\"text-align: right;\">\n      <th></th>\n      <th>Total Schools</th>\n      <th>Total Students</th>\n      <th>Total Budget</th>\n      <th>Average Math Score</th>\n      <th>Average Reading Score</th>\n      <th>% Passing Math</th>\n      <th>% Passing Reading</th>\n      <th>%Overall Passing</th>\n    </tr>\n  </thead>\n  <tbody>\n    <tr>\n      <th>0</th>\n      <td>15</td>\n      <td>39170</td>\n      <td>$24,649,428</td>\n      <td>78.985371</td>\n      <td>81.87784</td>\n      <td>74.980853</td>\n      <td>85.805463</td>\n      <td>65.172326</td>\n    </tr>\n  </tbody>\n</table>\n</div>"
     },
     "metadata": {},
     "execution_count": 175
    }
   ],
   "source": [
    "#DISTRICT SUMMARY TABLE\n",
    "\n",
    "total_budget_print=total_budget\n",
    "dis_summary_df=pd.DataFrame({\"Total Schools\":[total_schools],\"Total Students\": [total_students],\"Total Budget\":[total_budget],\"Average Math Score\":[avg_math_score],\"Average Reading Score\":[avg_reading_score],\"% Passing Math\":[percent_pass_math],\"% Passing Reading\":[percent_pass_reading],\"%Overall Passing\":[percent_pass_both]})\n",
    "dis_summary_df\n",
    "dis_summary_df[\"Total Budget\"]=dis_summary_df[\"Total Budget\"].map(\"${:,}\".format)\n",
    "dis_summary_df"
   ]
  },
  {
   "cell_type": "code",
   "execution_count": 176,
   "metadata": {},
   "outputs": [
    {
     "output_type": "stream",
     "name": "stdout",
     "text": [
      "              school_name  bool_math_pass\n0      Bailey High School            3318\n1     Cabrera High School            1749\n2    Figueroa High School            1946\n3        Ford High School            1871\n4     Griffin High School            1371\n5   Hernandez High School            3094\n6      Holden High School             395\n7       Huang High School            1916\n8     Johnson High School            3145\n9        Pena High School             910\n10  Rodriguez High School            2654\n11    Shelton High School            1653\n12     Thomas High School            1525\n13     Wilson High School            2143\n14     Wright High School            1680\n              school_name  bool_reading_pass\n0      Bailey High School               4077\n1     Cabrera High School               1803\n2    Figueroa High School               2381\n3        Ford High School               2172\n4     Griffin High School               1426\n5   Hernandez High School               3748\n6      Holden High School                411\n7       Huang High School               2372\n8     Johnson High School               3867\n9        Pena High School                923\n10  Rodriguez High School               3208\n11    Shelton High School               1688\n12     Thomas High School               1591\n13     Wilson High School               2204\n14     Wright High School               1739\n"
     ]
    },
    {
     "output_type": "execute_result",
     "data": {
      "text/plain": [
       "              school_name  bool_math_pass  bool_reading_pass\n",
       "0      Bailey High School            3318               4077\n",
       "1     Cabrera High School            1749               1803\n",
       "2    Figueroa High School            1946               2381\n",
       "3        Ford High School            1871               2172\n",
       "4     Griffin High School            1371               1426\n",
       "5   Hernandez High School            3094               3748\n",
       "6      Holden High School             395                411\n",
       "7       Huang High School            1916               2372\n",
       "8     Johnson High School            3145               3867\n",
       "9        Pena High School             910                923\n",
       "10  Rodriguez High School            2654               3208\n",
       "11    Shelton High School            1653               1688\n",
       "12     Thomas High School            1525               1591\n",
       "13     Wilson High School            2143               2204\n",
       "14     Wright High School            1680               1739"
      ],
      "text/html": "<div>\n<style scoped>\n    .dataframe tbody tr th:only-of-type {\n        vertical-align: middle;\n    }\n\n    .dataframe tbody tr th {\n        vertical-align: top;\n    }\n\n    .dataframe thead th {\n        text-align: right;\n    }\n</style>\n<table border=\"1\" class=\"dataframe\">\n  <thead>\n    <tr style=\"text-align: right;\">\n      <th></th>\n      <th>school_name</th>\n      <th>bool_math_pass</th>\n      <th>bool_reading_pass</th>\n    </tr>\n  </thead>\n  <tbody>\n    <tr>\n      <th>0</th>\n      <td>Bailey High School</td>\n      <td>3318</td>\n      <td>4077</td>\n    </tr>\n    <tr>\n      <th>1</th>\n      <td>Cabrera High School</td>\n      <td>1749</td>\n      <td>1803</td>\n    </tr>\n    <tr>\n      <th>2</th>\n      <td>Figueroa High School</td>\n      <td>1946</td>\n      <td>2381</td>\n    </tr>\n    <tr>\n      <th>3</th>\n      <td>Ford High School</td>\n      <td>1871</td>\n      <td>2172</td>\n    </tr>\n    <tr>\n      <th>4</th>\n      <td>Griffin High School</td>\n      <td>1371</td>\n      <td>1426</td>\n    </tr>\n    <tr>\n      <th>5</th>\n      <td>Hernandez High School</td>\n      <td>3094</td>\n      <td>3748</td>\n    </tr>\n    <tr>\n      <th>6</th>\n      <td>Holden High School</td>\n      <td>395</td>\n      <td>411</td>\n    </tr>\n    <tr>\n      <th>7</th>\n      <td>Huang High School</td>\n      <td>1916</td>\n      <td>2372</td>\n    </tr>\n    <tr>\n      <th>8</th>\n      <td>Johnson High School</td>\n      <td>3145</td>\n      <td>3867</td>\n    </tr>\n    <tr>\n      <th>9</th>\n      <td>Pena High School</td>\n      <td>910</td>\n      <td>923</td>\n    </tr>\n    <tr>\n      <th>10</th>\n      <td>Rodriguez High School</td>\n      <td>2654</td>\n      <td>3208</td>\n    </tr>\n    <tr>\n      <th>11</th>\n      <td>Shelton High School</td>\n      <td>1653</td>\n      <td>1688</td>\n    </tr>\n    <tr>\n      <th>12</th>\n      <td>Thomas High School</td>\n      <td>1525</td>\n      <td>1591</td>\n    </tr>\n    <tr>\n      <th>13</th>\n      <td>Wilson High School</td>\n      <td>2143</td>\n      <td>2204</td>\n    </tr>\n    <tr>\n      <th>14</th>\n      <td>Wright High School</td>\n      <td>1680</td>\n      <td>1739</td>\n    </tr>\n  </tbody>\n</table>\n</div>"
     },
     "metadata": {},
     "execution_count": 176
    }
   ],
   "source": [
    "#This section groupby the school_name. The columns are : 1) total students that passed math; math_groupby_df 2) total students that passed reading;reading_groupby_df\n",
    "# With 2 columns: math_reading_groupby_df\n",
    "\n",
    "######MATH PASS (BOOLEAN) GROUPBY SCHOOL NAME#####\n",
    "#bool_df is the table with columns of math_score_pass\n",
    "bool_math_df=complete_df\n",
    "\n",
    "bool_math_df[\"bool_math_pass\"]=bool_math_df[\"math_score\"]>=70\n",
    "bool_math_df\n",
    "\n",
    "#delete columns\n",
    "bool_math_df=bool_math_df.drop(columns=[\"Student ID\",\"gender\",\"grade\",\"School ID\", \"type\",\"size\",\"budget\",\"reading_score\",\"math_score\",\"student_name\"])\n",
    "bool_math_df\n",
    "\n",
    "bool_math_pass_df=bool_math_df[bool_math_df.bool_math_pass==True]\n",
    "bool_math_pass_df\n",
    "math_groupby_df=bool_math_pass_df.groupby([\"school_name\"]).count()\n",
    "\n",
    "#number of students that passed math grouped by school\n",
    "math_groupby_df\n",
    "\n",
    "#reset index to ensure school_name is a column\n",
    "math_groupby_df.reset_index(inplace=True)\n",
    "print(math_groupby_df)\n",
    "\n",
    "\n",
    "######READING PASS (BOOLEAN) GROUPBY SCHOOL NAME#####\n",
    "\n",
    "bool_reading_df=complete_df\n",
    "bool_reading_df[\"bool_reading_pass\"]=bool_reading_df[\"reading_score\"]>=70\n",
    "bool_reading_df\n",
    "\n",
    "#deletes columns\n",
    "bool_reading_df=bool_reading_df.drop(columns=[\"Student ID\",\"gender\",\"grade\",\"School ID\", \"type\",\"size\",\"budget\",\"reading_score\",\"math_score\",\"student_name\",\"bool_math_pass\"])\n",
    "bool_reading_df\n",
    "\n",
    "bool_reading_pass_df=bool_reading_df[bool_reading_df.bool_reading_pass==True]\n",
    "bool_reading_pass_df\n",
    "reading_groupby_df=bool_reading_pass_df.groupby([\"school_name\"]).count()\n",
    "\n",
    "#number of students that passed math grouped by school\n",
    "reading_groupby_df\n",
    "\n",
    "#reset index to ensure school_name is a column\n",
    "reading_groupby_df.reset_index(inplace=True)\n",
    "print(reading_groupby_df)\n",
    "\n",
    "#################################################################################\n",
    "#Merge dfs together for bool_math_pass and bool_reading_pass columns\n",
    "math_reading_groupby_df=pd.merge(math_groupby_df,reading_groupby_df, on=\"school_name\" ,how=\"outer\")\n",
    "math_reading_groupby_df\n",
    "#Use this df to merge to summary_v2_df\n",
    "\n"
   ]
  },
  {
   "cell_type": "code",
   "execution_count": 177,
   "metadata": {},
   "outputs": [
    {
     "output_type": "execute_result",
     "data": {
      "text/plain": [
       "              school_name School Type  Total Students  Total School Budget\n",
       "0       Huang High School    District            2917              1910635\n",
       "1    Figueroa High School    District            2949              1884411\n",
       "2     Shelton High School     Charter            1761              1056600\n",
       "3   Hernandez High School    District            4635              3022020\n",
       "4     Griffin High School     Charter            1468               917500\n",
       "5      Wilson High School     Charter            2283              1319574\n",
       "6     Cabrera High School     Charter            1858              1081356\n",
       "7      Bailey High School    District            4976              3124928\n",
       "8      Holden High School     Charter             427               248087\n",
       "9        Pena High School     Charter             962               585858\n",
       "10     Wright High School     Charter            1800              1049400\n",
       "11  Rodriguez High School    District            3999              2547363\n",
       "12    Johnson High School    District            4761              3094650\n",
       "13       Ford High School    District            2739              1763916\n",
       "14     Thomas High School     Charter            1635              1043130"
      ],
      "text/html": "<div>\n<style scoped>\n    .dataframe tbody tr th:only-of-type {\n        vertical-align: middle;\n    }\n\n    .dataframe tbody tr th {\n        vertical-align: top;\n    }\n\n    .dataframe thead th {\n        text-align: right;\n    }\n</style>\n<table border=\"1\" class=\"dataframe\">\n  <thead>\n    <tr style=\"text-align: right;\">\n      <th></th>\n      <th>school_name</th>\n      <th>School Type</th>\n      <th>Total Students</th>\n      <th>Total School Budget</th>\n    </tr>\n  </thead>\n  <tbody>\n    <tr>\n      <th>0</th>\n      <td>Huang High School</td>\n      <td>District</td>\n      <td>2917</td>\n      <td>1910635</td>\n    </tr>\n    <tr>\n      <th>1</th>\n      <td>Figueroa High School</td>\n      <td>District</td>\n      <td>2949</td>\n      <td>1884411</td>\n    </tr>\n    <tr>\n      <th>2</th>\n      <td>Shelton High School</td>\n      <td>Charter</td>\n      <td>1761</td>\n      <td>1056600</td>\n    </tr>\n    <tr>\n      <th>3</th>\n      <td>Hernandez High School</td>\n      <td>District</td>\n      <td>4635</td>\n      <td>3022020</td>\n    </tr>\n    <tr>\n      <th>4</th>\n      <td>Griffin High School</td>\n      <td>Charter</td>\n      <td>1468</td>\n      <td>917500</td>\n    </tr>\n    <tr>\n      <th>5</th>\n      <td>Wilson High School</td>\n      <td>Charter</td>\n      <td>2283</td>\n      <td>1319574</td>\n    </tr>\n    <tr>\n      <th>6</th>\n      <td>Cabrera High School</td>\n      <td>Charter</td>\n      <td>1858</td>\n      <td>1081356</td>\n    </tr>\n    <tr>\n      <th>7</th>\n      <td>Bailey High School</td>\n      <td>District</td>\n      <td>4976</td>\n      <td>3124928</td>\n    </tr>\n    <tr>\n      <th>8</th>\n      <td>Holden High School</td>\n      <td>Charter</td>\n      <td>427</td>\n      <td>248087</td>\n    </tr>\n    <tr>\n      <th>9</th>\n      <td>Pena High School</td>\n      <td>Charter</td>\n      <td>962</td>\n      <td>585858</td>\n    </tr>\n    <tr>\n      <th>10</th>\n      <td>Wright High School</td>\n      <td>Charter</td>\n      <td>1800</td>\n      <td>1049400</td>\n    </tr>\n    <tr>\n      <th>11</th>\n      <td>Rodriguez High School</td>\n      <td>District</td>\n      <td>3999</td>\n      <td>2547363</td>\n    </tr>\n    <tr>\n      <th>12</th>\n      <td>Johnson High School</td>\n      <td>District</td>\n      <td>4761</td>\n      <td>3094650</td>\n    </tr>\n    <tr>\n      <th>13</th>\n      <td>Ford High School</td>\n      <td>District</td>\n      <td>2739</td>\n      <td>1763916</td>\n    </tr>\n    <tr>\n      <th>14</th>\n      <td>Thomas High School</td>\n      <td>Charter</td>\n      <td>1635</td>\n      <td>1043130</td>\n    </tr>\n  </tbody>\n</table>\n</div>"
     },
     "metadata": {},
     "execution_count": 177
    }
   ],
   "source": [
    "#SUMMARY - school_df\n",
    "\n",
    "#Rename coluuns\n",
    "school_df=school_df.rename(columns={\"size\":\"Total Students\",\"type\":\"School Type\",\"budget\":\"Total School Budget\"})\n",
    "school_df\n",
    "\n",
    "#delete column\n",
    "school_df=school_df.drop(columns=[\"School ID\"])\n",
    "school_df"
   ]
  },
  {
   "cell_type": "code",
   "execution_count": 178,
   "metadata": {},
   "outputs": [
    {
     "output_type": "execute_result",
     "data": {
      "text/plain": [
       "              school_name  Student ID  Average Reading Score  \\\n",
       "0      Bailey High School     20358.5              81.033963   \n",
       "1     Cabrera High School     16941.5              83.975780   \n",
       "2    Figueroa High School      4391.0              81.158020   \n",
       "3        Ford High School     36165.0              80.746258   \n",
       "4     Griffin High School     12995.5              83.816757   \n",
       "5   Hernandez High School      9944.0              80.934412   \n",
       "6      Holden High School     23060.0              83.814988   \n",
       "7       Huang High School      1458.0              81.182722   \n",
       "8     Johnson High School     32415.0              80.966394   \n",
       "9        Pena High School     23754.5              84.044699   \n",
       "10  Rodriguez High School     28035.0              80.744686   \n",
       "11    Shelton High School      6746.0              83.725724   \n",
       "12     Thomas High School     38352.0              83.848930   \n",
       "13     Wilson High School     14871.0              83.989488   \n",
       "14     Wright High School     25135.5              83.955000   \n",
       "\n",
       "    Average Math Score  School ID    size     budget  \n",
       "0            77.048432        7.0  4976.0  3124928.0  \n",
       "1            83.061895        6.0  1858.0  1081356.0  \n",
       "2            76.711767        1.0  2949.0  1884411.0  \n",
       "3            77.102592       13.0  2739.0  1763916.0  \n",
       "4            83.351499        4.0  1468.0   917500.0  \n",
       "5            77.289752        3.0  4635.0  3022020.0  \n",
       "6            83.803279        8.0   427.0   248087.0  \n",
       "7            76.629414        0.0  2917.0  1910635.0  \n",
       "8            77.072464       12.0  4761.0  3094650.0  \n",
       "9            83.839917        9.0   962.0   585858.0  \n",
       "10           76.842711       11.0  3999.0  2547363.0  \n",
       "11           83.359455        2.0  1761.0  1056600.0  \n",
       "12           83.418349       14.0  1635.0  1043130.0  \n",
       "13           83.274201        5.0  2283.0  1319574.0  \n",
       "14           83.682222       10.0  1800.0  1049400.0  "
      ],
      "text/html": "<div>\n<style scoped>\n    .dataframe tbody tr th:only-of-type {\n        vertical-align: middle;\n    }\n\n    .dataframe tbody tr th {\n        vertical-align: top;\n    }\n\n    .dataframe thead th {\n        text-align: right;\n    }\n</style>\n<table border=\"1\" class=\"dataframe\">\n  <thead>\n    <tr style=\"text-align: right;\">\n      <th></th>\n      <th>school_name</th>\n      <th>Student ID</th>\n      <th>Average Reading Score</th>\n      <th>Average Math Score</th>\n      <th>School ID</th>\n      <th>size</th>\n      <th>budget</th>\n    </tr>\n  </thead>\n  <tbody>\n    <tr>\n      <th>0</th>\n      <td>Bailey High School</td>\n      <td>20358.5</td>\n      <td>81.033963</td>\n      <td>77.048432</td>\n      <td>7.0</td>\n      <td>4976.0</td>\n      <td>3124928.0</td>\n    </tr>\n    <tr>\n      <th>1</th>\n      <td>Cabrera High School</td>\n      <td>16941.5</td>\n      <td>83.975780</td>\n      <td>83.061895</td>\n      <td>6.0</td>\n      <td>1858.0</td>\n      <td>1081356.0</td>\n    </tr>\n    <tr>\n      <th>2</th>\n      <td>Figueroa High School</td>\n      <td>4391.0</td>\n      <td>81.158020</td>\n      <td>76.711767</td>\n      <td>1.0</td>\n      <td>2949.0</td>\n      <td>1884411.0</td>\n    </tr>\n    <tr>\n      <th>3</th>\n      <td>Ford High School</td>\n      <td>36165.0</td>\n      <td>80.746258</td>\n      <td>77.102592</td>\n      <td>13.0</td>\n      <td>2739.0</td>\n      <td>1763916.0</td>\n    </tr>\n    <tr>\n      <th>4</th>\n      <td>Griffin High School</td>\n      <td>12995.5</td>\n      <td>83.816757</td>\n      <td>83.351499</td>\n      <td>4.0</td>\n      <td>1468.0</td>\n      <td>917500.0</td>\n    </tr>\n    <tr>\n      <th>5</th>\n      <td>Hernandez High School</td>\n      <td>9944.0</td>\n      <td>80.934412</td>\n      <td>77.289752</td>\n      <td>3.0</td>\n      <td>4635.0</td>\n      <td>3022020.0</td>\n    </tr>\n    <tr>\n      <th>6</th>\n      <td>Holden High School</td>\n      <td>23060.0</td>\n      <td>83.814988</td>\n      <td>83.803279</td>\n      <td>8.0</td>\n      <td>427.0</td>\n      <td>248087.0</td>\n    </tr>\n    <tr>\n      <th>7</th>\n      <td>Huang High School</td>\n      <td>1458.0</td>\n      <td>81.182722</td>\n      <td>76.629414</td>\n      <td>0.0</td>\n      <td>2917.0</td>\n      <td>1910635.0</td>\n    </tr>\n    <tr>\n      <th>8</th>\n      <td>Johnson High School</td>\n      <td>32415.0</td>\n      <td>80.966394</td>\n      <td>77.072464</td>\n      <td>12.0</td>\n      <td>4761.0</td>\n      <td>3094650.0</td>\n    </tr>\n    <tr>\n      <th>9</th>\n      <td>Pena High School</td>\n      <td>23754.5</td>\n      <td>84.044699</td>\n      <td>83.839917</td>\n      <td>9.0</td>\n      <td>962.0</td>\n      <td>585858.0</td>\n    </tr>\n    <tr>\n      <th>10</th>\n      <td>Rodriguez High School</td>\n      <td>28035.0</td>\n      <td>80.744686</td>\n      <td>76.842711</td>\n      <td>11.0</td>\n      <td>3999.0</td>\n      <td>2547363.0</td>\n    </tr>\n    <tr>\n      <th>11</th>\n      <td>Shelton High School</td>\n      <td>6746.0</td>\n      <td>83.725724</td>\n      <td>83.359455</td>\n      <td>2.0</td>\n      <td>1761.0</td>\n      <td>1056600.0</td>\n    </tr>\n    <tr>\n      <th>12</th>\n      <td>Thomas High School</td>\n      <td>38352.0</td>\n      <td>83.848930</td>\n      <td>83.418349</td>\n      <td>14.0</td>\n      <td>1635.0</td>\n      <td>1043130.0</td>\n    </tr>\n    <tr>\n      <th>13</th>\n      <td>Wilson High School</td>\n      <td>14871.0</td>\n      <td>83.989488</td>\n      <td>83.274201</td>\n      <td>5.0</td>\n      <td>2283.0</td>\n      <td>1319574.0</td>\n    </tr>\n    <tr>\n      <th>14</th>\n      <td>Wright High School</td>\n      <td>25135.5</td>\n      <td>83.955000</td>\n      <td>83.682222</td>\n      <td>10.0</td>\n      <td>1800.0</td>\n      <td>1049400.0</td>\n    </tr>\n  </tbody>\n</table>\n</div>"
     },
     "metadata": {},
     "execution_count": 178
    }
   ],
   "source": [
    "summary_p1_mean_df"
   ]
  },
  {
   "cell_type": "code",
   "execution_count": 179,
   "metadata": {},
   "outputs": [
    {
     "output_type": "execute_result",
     "data": {
      "text/plain": [
       "              school_name School Type  Total Students  Total School Budget  \\\n",
       "0       Huang High School    District            2917              1910635   \n",
       "1    Figueroa High School    District            2949              1884411   \n",
       "2     Shelton High School     Charter            1761              1056600   \n",
       "3   Hernandez High School    District            4635              3022020   \n",
       "4     Griffin High School     Charter            1468               917500   \n",
       "5      Wilson High School     Charter            2283              1319574   \n",
       "6     Cabrera High School     Charter            1858              1081356   \n",
       "7      Bailey High School    District            4976              3124928   \n",
       "8      Holden High School     Charter             427               248087   \n",
       "9        Pena High School     Charter             962               585858   \n",
       "10     Wright High School     Charter            1800              1049400   \n",
       "11  Rodriguez High School    District            3999              2547363   \n",
       "12    Johnson High School    District            4761              3094650   \n",
       "13       Ford High School    District            2739              1763916   \n",
       "14     Thomas High School     Charter            1635              1043130   \n",
       "\n",
       "    Average Reading Score  Average Math Score  \n",
       "0               81.182722           76.629414  \n",
       "1               81.158020           76.711767  \n",
       "2               83.725724           83.359455  \n",
       "3               80.934412           77.289752  \n",
       "4               83.816757           83.351499  \n",
       "5               83.989488           83.274201  \n",
       "6               83.975780           83.061895  \n",
       "7               81.033963           77.048432  \n",
       "8               83.814988           83.803279  \n",
       "9               84.044699           83.839917  \n",
       "10              83.955000           83.682222  \n",
       "11              80.744686           76.842711  \n",
       "12              80.966394           77.072464  \n",
       "13              80.746258           77.102592  \n",
       "14              83.848930           83.418349  "
      ],
      "text/html": "<div>\n<style scoped>\n    .dataframe tbody tr th:only-of-type {\n        vertical-align: middle;\n    }\n\n    .dataframe tbody tr th {\n        vertical-align: top;\n    }\n\n    .dataframe thead th {\n        text-align: right;\n    }\n</style>\n<table border=\"1\" class=\"dataframe\">\n  <thead>\n    <tr style=\"text-align: right;\">\n      <th></th>\n      <th>school_name</th>\n      <th>School Type</th>\n      <th>Total Students</th>\n      <th>Total School Budget</th>\n      <th>Average Reading Score</th>\n      <th>Average Math Score</th>\n    </tr>\n  </thead>\n  <tbody>\n    <tr>\n      <th>0</th>\n      <td>Huang High School</td>\n      <td>District</td>\n      <td>2917</td>\n      <td>1910635</td>\n      <td>81.182722</td>\n      <td>76.629414</td>\n    </tr>\n    <tr>\n      <th>1</th>\n      <td>Figueroa High School</td>\n      <td>District</td>\n      <td>2949</td>\n      <td>1884411</td>\n      <td>81.158020</td>\n      <td>76.711767</td>\n    </tr>\n    <tr>\n      <th>2</th>\n      <td>Shelton High School</td>\n      <td>Charter</td>\n      <td>1761</td>\n      <td>1056600</td>\n      <td>83.725724</td>\n      <td>83.359455</td>\n    </tr>\n    <tr>\n      <th>3</th>\n      <td>Hernandez High School</td>\n      <td>District</td>\n      <td>4635</td>\n      <td>3022020</td>\n      <td>80.934412</td>\n      <td>77.289752</td>\n    </tr>\n    <tr>\n      <th>4</th>\n      <td>Griffin High School</td>\n      <td>Charter</td>\n      <td>1468</td>\n      <td>917500</td>\n      <td>83.816757</td>\n      <td>83.351499</td>\n    </tr>\n    <tr>\n      <th>5</th>\n      <td>Wilson High School</td>\n      <td>Charter</td>\n      <td>2283</td>\n      <td>1319574</td>\n      <td>83.989488</td>\n      <td>83.274201</td>\n    </tr>\n    <tr>\n      <th>6</th>\n      <td>Cabrera High School</td>\n      <td>Charter</td>\n      <td>1858</td>\n      <td>1081356</td>\n      <td>83.975780</td>\n      <td>83.061895</td>\n    </tr>\n    <tr>\n      <th>7</th>\n      <td>Bailey High School</td>\n      <td>District</td>\n      <td>4976</td>\n      <td>3124928</td>\n      <td>81.033963</td>\n      <td>77.048432</td>\n    </tr>\n    <tr>\n      <th>8</th>\n      <td>Holden High School</td>\n      <td>Charter</td>\n      <td>427</td>\n      <td>248087</td>\n      <td>83.814988</td>\n      <td>83.803279</td>\n    </tr>\n    <tr>\n      <th>9</th>\n      <td>Pena High School</td>\n      <td>Charter</td>\n      <td>962</td>\n      <td>585858</td>\n      <td>84.044699</td>\n      <td>83.839917</td>\n    </tr>\n    <tr>\n      <th>10</th>\n      <td>Wright High School</td>\n      <td>Charter</td>\n      <td>1800</td>\n      <td>1049400</td>\n      <td>83.955000</td>\n      <td>83.682222</td>\n    </tr>\n    <tr>\n      <th>11</th>\n      <td>Rodriguez High School</td>\n      <td>District</td>\n      <td>3999</td>\n      <td>2547363</td>\n      <td>80.744686</td>\n      <td>76.842711</td>\n    </tr>\n    <tr>\n      <th>12</th>\n      <td>Johnson High School</td>\n      <td>District</td>\n      <td>4761</td>\n      <td>3094650</td>\n      <td>80.966394</td>\n      <td>77.072464</td>\n    </tr>\n    <tr>\n      <th>13</th>\n      <td>Ford High School</td>\n      <td>District</td>\n      <td>2739</td>\n      <td>1763916</td>\n      <td>80.746258</td>\n      <td>77.102592</td>\n    </tr>\n    <tr>\n      <th>14</th>\n      <td>Thomas High School</td>\n      <td>Charter</td>\n      <td>1635</td>\n      <td>1043130</td>\n      <td>83.848930</td>\n      <td>83.418349</td>\n    </tr>\n  </tbody>\n</table>\n</div>"
     },
     "metadata": {},
     "execution_count": 179
    }
   ],
   "source": [
    "###SUMMARY - VERSION 1 , summary_v1_df\n",
    "summary_v1_df=pd.merge(school_df,summary_p1_mean_df, on=\"school_name\" ,how=\"outer\")\n",
    "summary_v1_df\n",
    "\n",
    "#delete columns\n",
    "summary_v1_df=summary_v1_df.drop(columns=[\"Student ID\", \"School ID\", \"size\", \"budget\"])\n",
    "summary_v1_df"
   ]
  },
  {
   "cell_type": "code",
   "execution_count": 180,
   "metadata": {},
   "outputs": [
    {
     "output_type": "execute_result",
     "data": {
      "text/plain": [
       "              school_name School Type  Total Students  Total School Budget  \\\n",
       "0       Huang High School    District            2917              1910635   \n",
       "1    Figueroa High School    District            2949              1884411   \n",
       "2     Shelton High School     Charter            1761              1056600   \n",
       "3   Hernandez High School    District            4635              3022020   \n",
       "4     Griffin High School     Charter            1468               917500   \n",
       "5      Wilson High School     Charter            2283              1319574   \n",
       "6     Cabrera High School     Charter            1858              1081356   \n",
       "7      Bailey High School    District            4976              3124928   \n",
       "8      Holden High School     Charter             427               248087   \n",
       "9        Pena High School     Charter             962               585858   \n",
       "10     Wright High School     Charter            1800              1049400   \n",
       "11  Rodriguez High School    District            3999              2547363   \n",
       "12    Johnson High School    District            4761              3094650   \n",
       "13       Ford High School    District            2739              1763916   \n",
       "14     Thomas High School     Charter            1635              1043130   \n",
       "\n",
       "    Average Reading Score  Average Math Score  bool_math_pass  \\\n",
       "0               81.182722           76.629414            1916   \n",
       "1               81.158020           76.711767            1946   \n",
       "2               83.725724           83.359455            1653   \n",
       "3               80.934412           77.289752            3094   \n",
       "4               83.816757           83.351499            1371   \n",
       "5               83.989488           83.274201            2143   \n",
       "6               83.975780           83.061895            1749   \n",
       "7               81.033963           77.048432            3318   \n",
       "8               83.814988           83.803279             395   \n",
       "9               84.044699           83.839917             910   \n",
       "10              83.955000           83.682222            1680   \n",
       "11              80.744686           76.842711            2654   \n",
       "12              80.966394           77.072464            3145   \n",
       "13              80.746258           77.102592            1871   \n",
       "14              83.848930           83.418349            1525   \n",
       "\n",
       "    bool_reading_pass  \n",
       "0                2372  \n",
       "1                2381  \n",
       "2                1688  \n",
       "3                3748  \n",
       "4                1426  \n",
       "5                2204  \n",
       "6                1803  \n",
       "7                4077  \n",
       "8                 411  \n",
       "9                 923  \n",
       "10               1739  \n",
       "11               3208  \n",
       "12               3867  \n",
       "13               2172  \n",
       "14               1591  "
      ],
      "text/html": "<div>\n<style scoped>\n    .dataframe tbody tr th:only-of-type {\n        vertical-align: middle;\n    }\n\n    .dataframe tbody tr th {\n        vertical-align: top;\n    }\n\n    .dataframe thead th {\n        text-align: right;\n    }\n</style>\n<table border=\"1\" class=\"dataframe\">\n  <thead>\n    <tr style=\"text-align: right;\">\n      <th></th>\n      <th>school_name</th>\n      <th>School Type</th>\n      <th>Total Students</th>\n      <th>Total School Budget</th>\n      <th>Average Reading Score</th>\n      <th>Average Math Score</th>\n      <th>bool_math_pass</th>\n      <th>bool_reading_pass</th>\n    </tr>\n  </thead>\n  <tbody>\n    <tr>\n      <th>0</th>\n      <td>Huang High School</td>\n      <td>District</td>\n      <td>2917</td>\n      <td>1910635</td>\n      <td>81.182722</td>\n      <td>76.629414</td>\n      <td>1916</td>\n      <td>2372</td>\n    </tr>\n    <tr>\n      <th>1</th>\n      <td>Figueroa High School</td>\n      <td>District</td>\n      <td>2949</td>\n      <td>1884411</td>\n      <td>81.158020</td>\n      <td>76.711767</td>\n      <td>1946</td>\n      <td>2381</td>\n    </tr>\n    <tr>\n      <th>2</th>\n      <td>Shelton High School</td>\n      <td>Charter</td>\n      <td>1761</td>\n      <td>1056600</td>\n      <td>83.725724</td>\n      <td>83.359455</td>\n      <td>1653</td>\n      <td>1688</td>\n    </tr>\n    <tr>\n      <th>3</th>\n      <td>Hernandez High School</td>\n      <td>District</td>\n      <td>4635</td>\n      <td>3022020</td>\n      <td>80.934412</td>\n      <td>77.289752</td>\n      <td>3094</td>\n      <td>3748</td>\n    </tr>\n    <tr>\n      <th>4</th>\n      <td>Griffin High School</td>\n      <td>Charter</td>\n      <td>1468</td>\n      <td>917500</td>\n      <td>83.816757</td>\n      <td>83.351499</td>\n      <td>1371</td>\n      <td>1426</td>\n    </tr>\n    <tr>\n      <th>5</th>\n      <td>Wilson High School</td>\n      <td>Charter</td>\n      <td>2283</td>\n      <td>1319574</td>\n      <td>83.989488</td>\n      <td>83.274201</td>\n      <td>2143</td>\n      <td>2204</td>\n    </tr>\n    <tr>\n      <th>6</th>\n      <td>Cabrera High School</td>\n      <td>Charter</td>\n      <td>1858</td>\n      <td>1081356</td>\n      <td>83.975780</td>\n      <td>83.061895</td>\n      <td>1749</td>\n      <td>1803</td>\n    </tr>\n    <tr>\n      <th>7</th>\n      <td>Bailey High School</td>\n      <td>District</td>\n      <td>4976</td>\n      <td>3124928</td>\n      <td>81.033963</td>\n      <td>77.048432</td>\n      <td>3318</td>\n      <td>4077</td>\n    </tr>\n    <tr>\n      <th>8</th>\n      <td>Holden High School</td>\n      <td>Charter</td>\n      <td>427</td>\n      <td>248087</td>\n      <td>83.814988</td>\n      <td>83.803279</td>\n      <td>395</td>\n      <td>411</td>\n    </tr>\n    <tr>\n      <th>9</th>\n      <td>Pena High School</td>\n      <td>Charter</td>\n      <td>962</td>\n      <td>585858</td>\n      <td>84.044699</td>\n      <td>83.839917</td>\n      <td>910</td>\n      <td>923</td>\n    </tr>\n    <tr>\n      <th>10</th>\n      <td>Wright High School</td>\n      <td>Charter</td>\n      <td>1800</td>\n      <td>1049400</td>\n      <td>83.955000</td>\n      <td>83.682222</td>\n      <td>1680</td>\n      <td>1739</td>\n    </tr>\n    <tr>\n      <th>11</th>\n      <td>Rodriguez High School</td>\n      <td>District</td>\n      <td>3999</td>\n      <td>2547363</td>\n      <td>80.744686</td>\n      <td>76.842711</td>\n      <td>2654</td>\n      <td>3208</td>\n    </tr>\n    <tr>\n      <th>12</th>\n      <td>Johnson High School</td>\n      <td>District</td>\n      <td>4761</td>\n      <td>3094650</td>\n      <td>80.966394</td>\n      <td>77.072464</td>\n      <td>3145</td>\n      <td>3867</td>\n    </tr>\n    <tr>\n      <th>13</th>\n      <td>Ford High School</td>\n      <td>District</td>\n      <td>2739</td>\n      <td>1763916</td>\n      <td>80.746258</td>\n      <td>77.102592</td>\n      <td>1871</td>\n      <td>2172</td>\n    </tr>\n    <tr>\n      <th>14</th>\n      <td>Thomas High School</td>\n      <td>Charter</td>\n      <td>1635</td>\n      <td>1043130</td>\n      <td>83.848930</td>\n      <td>83.418349</td>\n      <td>1525</td>\n      <td>1591</td>\n    </tr>\n  </tbody>\n</table>\n</div>"
     },
     "metadata": {},
     "execution_count": 180
    }
   ],
   "source": [
    "summary_v2_df=pd.merge(summary_v1_df,math_reading_groupby_df, on=\"school_name\",how=\"outer\")\n",
    "summary_v2_df"
   ]
  },
  {
   "cell_type": "code",
   "execution_count": 181,
   "metadata": {},
   "outputs": [
    {
     "output_type": "error",
     "ename": "NameError",
     "evalue": "name 'summary_v2' is not defined",
     "traceback": [
      "\u001b[0;31m---------------------------------------------------------------------------\u001b[0m",
      "\u001b[0;31mNameError\u001b[0m                                 Traceback (most recent call last)",
      "\u001b[0;32m<ipython-input-181-41361a8f23b3>\u001b[0m in \u001b[0;36m<module>\u001b[0;34m\u001b[0m\n\u001b[0;32m----> 1\u001b[0;31m \u001b[0msummary_v2\u001b[0m\u001b[0;34m[\u001b[0m\u001b[0;34m\"% Passing Math\"\u001b[0m\u001b[0;34m]\u001b[0m\u001b[0;34m=\u001b[0m\u001b[0msummary_v2\u001b[0m\u001b[0;34m[\u001b[0m\u001b[0;34m\"bool_math_pass\"\u001b[0m\u001b[0;34m]\u001b[0m\u001b[0;34m/\u001b[0m\u001b[0msummary_v2\u001b[0m\u001b[0;34m[\u001b[0m\u001b[0;34m\"Total Students\"\u001b[0m\u001b[0;34m]\u001b[0m\u001b[0;34m\u001b[0m\u001b[0;34m\u001b[0m\u001b[0m\n\u001b[0m\u001b[1;32m      2\u001b[0m \u001b[0msummary_v2\u001b[0m\u001b[0;34m\u001b[0m\u001b[0;34m\u001b[0m\u001b[0m\n",
      "\u001b[0;31mNameError\u001b[0m: name 'summary_v2' is not defined"
     ]
    }
   ],
   "source": [
    "summary_v2[\"% Passing Math\"]=summary_v2[\"bool_math_pass\"]/summary_v2[\"Total Students\"]\n",
    "summary_v2"
   ]
  },
  {
   "cell_type": "code",
   "execution_count": null,
   "metadata": {},
   "outputs": [],
   "source": []
  }
 ],
 "metadata": {
  "kernelspec": {
   "name": "python3",
   "display_name": "Python 3.6.10 64-bit",
   "metadata": {
    "interpreter": {
     "hash": "e7fc2354c13015bdfad1755b4a48a3eeb5cb703f1c2bff07599d6953b8d3ca77"
    }
   }
  },
  "language_info": {
   "codemirror_mode": {
    "name": "ipython",
    "version": 3
   },
   "file_extension": ".py",
   "mimetype": "text/x-python",
   "name": "python",
   "nbconvert_exporter": "python",
   "pygments_lexer": "ipython3",
   "version": "3.6.10-final"
  }
 },
 "nbformat": 4,
 "nbformat_minor": 4
}