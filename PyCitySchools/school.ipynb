{
 "cells": [
  {
   "cell_type": "code",
   "execution_count": 1,
   "metadata": {},
   "outputs": [],
   "source": [
    "#Dependencies\n",
    "import pandas as pd"
   ]
  },
  {
   "cell_type": "code",
   "execution_count": 2,
   "metadata": {},
   "outputs": [
    {
     "output_type": "stream",
     "name": "stdout",
     "text": [
      "../Resources/schools_complete.csv\n"
     ]
    }
   ],
   "source": [
    "#Assign variable to read csv file\n",
    "school_path=\"../Resources/schools_complete.csv\"\n",
    "student_path=\"../Resources/students_complete.csv\"\n",
    "print(school_path)"
   ]
  },
  {
   "cell_type": "code",
   "execution_count": 3,
   "metadata": {},
   "outputs": [],
   "source": [
    "#Create Panda dataframes by reading csv file\n",
    "school_df=pd.read_csv(school_path)\n",
    "student_df=pd.read_csv(student_path)"
   ]
  },
  {
   "cell_type": "code",
   "execution_count": 4,
   "metadata": {},
   "outputs": [
    {
     "output_type": "execute_result",
     "data": {
      "text/plain": [
       "       Student ID       student_name gender grade         school_name  \\\n",
       "0               0       Paul Bradley      M   9th   Huang High School   \n",
       "1               1       Victor Smith      M  12th   Huang High School   \n",
       "2               2    Kevin Rodriguez      M  12th   Huang High School   \n",
       "3               3  Dr. Richard Scott      M  12th   Huang High School   \n",
       "4               4         Bonnie Ray      F   9th   Huang High School   \n",
       "...           ...                ...    ...   ...                 ...   \n",
       "39165       39165       Donna Howard      F  12th  Thomas High School   \n",
       "39166       39166          Dawn Bell      F  10th  Thomas High School   \n",
       "39167       39167     Rebecca Tanner      F   9th  Thomas High School   \n",
       "39168       39168       Desiree Kidd      F  10th  Thomas High School   \n",
       "39169       39169    Carolyn Jackson      F  11th  Thomas High School   \n",
       "\n",
       "       reading_score  math_score  School ID      type  size   budget  \n",
       "0                 66          79          0  District  2917  1910635  \n",
       "1                 94          61          0  District  2917  1910635  \n",
       "2                 90          60          0  District  2917  1910635  \n",
       "3                 67          58          0  District  2917  1910635  \n",
       "4                 97          84          0  District  2917  1910635  \n",
       "...              ...         ...        ...       ...   ...      ...  \n",
       "39165             99          90         14   Charter  1635  1043130  \n",
       "39166             95          70         14   Charter  1635  1043130  \n",
       "39167             73          84         14   Charter  1635  1043130  \n",
       "39168             99          90         14   Charter  1635  1043130  \n",
       "39169             95          75         14   Charter  1635  1043130  \n",
       "\n",
       "[39170 rows x 11 columns]"
      ],
      "text/html": "<div>\n<style scoped>\n    .dataframe tbody tr th:only-of-type {\n        vertical-align: middle;\n    }\n\n    .dataframe tbody tr th {\n        vertical-align: top;\n    }\n\n    .dataframe thead th {\n        text-align: right;\n    }\n</style>\n<table border=\"1\" class=\"dataframe\">\n  <thead>\n    <tr style=\"text-align: right;\">\n      <th></th>\n      <th>Student ID</th>\n      <th>student_name</th>\n      <th>gender</th>\n      <th>grade</th>\n      <th>school_name</th>\n      <th>reading_score</th>\n      <th>math_score</th>\n      <th>School ID</th>\n      <th>type</th>\n      <th>size</th>\n      <th>budget</th>\n    </tr>\n  </thead>\n  <tbody>\n    <tr>\n      <th>0</th>\n      <td>0</td>\n      <td>Paul Bradley</td>\n      <td>M</td>\n      <td>9th</td>\n      <td>Huang High School</td>\n      <td>66</td>\n      <td>79</td>\n      <td>0</td>\n      <td>District</td>\n      <td>2917</td>\n      <td>1910635</td>\n    </tr>\n    <tr>\n      <th>1</th>\n      <td>1</td>\n      <td>Victor Smith</td>\n      <td>M</td>\n      <td>12th</td>\n      <td>Huang High School</td>\n      <td>94</td>\n      <td>61</td>\n      <td>0</td>\n      <td>District</td>\n      <td>2917</td>\n      <td>1910635</td>\n    </tr>\n    <tr>\n      <th>2</th>\n      <td>2</td>\n      <td>Kevin Rodriguez</td>\n      <td>M</td>\n      <td>12th</td>\n      <td>Huang High School</td>\n      <td>90</td>\n      <td>60</td>\n      <td>0</td>\n      <td>District</td>\n      <td>2917</td>\n      <td>1910635</td>\n    </tr>\n    <tr>\n      <th>3</th>\n      <td>3</td>\n      <td>Dr. Richard Scott</td>\n      <td>M</td>\n      <td>12th</td>\n      <td>Huang High School</td>\n      <td>67</td>\n      <td>58</td>\n      <td>0</td>\n      <td>District</td>\n      <td>2917</td>\n      <td>1910635</td>\n    </tr>\n    <tr>\n      <th>4</th>\n      <td>4</td>\n      <td>Bonnie Ray</td>\n      <td>F</td>\n      <td>9th</td>\n      <td>Huang High School</td>\n      <td>97</td>\n      <td>84</td>\n      <td>0</td>\n      <td>District</td>\n      <td>2917</td>\n      <td>1910635</td>\n    </tr>\n    <tr>\n      <th>...</th>\n      <td>...</td>\n      <td>...</td>\n      <td>...</td>\n      <td>...</td>\n      <td>...</td>\n      <td>...</td>\n      <td>...</td>\n      <td>...</td>\n      <td>...</td>\n      <td>...</td>\n      <td>...</td>\n    </tr>\n    <tr>\n      <th>39165</th>\n      <td>39165</td>\n      <td>Donna Howard</td>\n      <td>F</td>\n      <td>12th</td>\n      <td>Thomas High School</td>\n      <td>99</td>\n      <td>90</td>\n      <td>14</td>\n      <td>Charter</td>\n      <td>1635</td>\n      <td>1043130</td>\n    </tr>\n    <tr>\n      <th>39166</th>\n      <td>39166</td>\n      <td>Dawn Bell</td>\n      <td>F</td>\n      <td>10th</td>\n      <td>Thomas High School</td>\n      <td>95</td>\n      <td>70</td>\n      <td>14</td>\n      <td>Charter</td>\n      <td>1635</td>\n      <td>1043130</td>\n    </tr>\n    <tr>\n      <th>39167</th>\n      <td>39167</td>\n      <td>Rebecca Tanner</td>\n      <td>F</td>\n      <td>9th</td>\n      <td>Thomas High School</td>\n      <td>73</td>\n      <td>84</td>\n      <td>14</td>\n      <td>Charter</td>\n      <td>1635</td>\n      <td>1043130</td>\n    </tr>\n    <tr>\n      <th>39168</th>\n      <td>39168</td>\n      <td>Desiree Kidd</td>\n      <td>F</td>\n      <td>10th</td>\n      <td>Thomas High School</td>\n      <td>99</td>\n      <td>90</td>\n      <td>14</td>\n      <td>Charter</td>\n      <td>1635</td>\n      <td>1043130</td>\n    </tr>\n    <tr>\n      <th>39169</th>\n      <td>39169</td>\n      <td>Carolyn Jackson</td>\n      <td>F</td>\n      <td>11th</td>\n      <td>Thomas High School</td>\n      <td>95</td>\n      <td>75</td>\n      <td>14</td>\n      <td>Charter</td>\n      <td>1635</td>\n      <td>1043130</td>\n    </tr>\n  </tbody>\n</table>\n<p>39170 rows × 11 columns</p>\n</div>"
     },
     "metadata": {},
     "execution_count": 4
    }
   ],
   "source": [
    "#Merge 2 tables provided;student info table, school table; complete_df\n",
    "complete_df=pd.merge(student_df, school_df, how=\"left\", on=[\"school_name\",\"school_name\"])\n",
    "complete_df\n"
   ]
  },
  {
   "cell_type": "code",
   "execution_count": 5,
   "metadata": {},
   "outputs": [
    {
     "output_type": "stream",
     "name": "stdout",
     "text": [
      "DISTRICT SUMMARY\n----------------\nTotal Schools: 15\nTotal Students: 39170\nTotal Budget: $24,649,428\nAverage Math Score: 79.0\nAverage Reading Score: 81.9\n"
     ]
    }
   ],
   "source": [
    "#OUTPUTS FOR DISTRICT SUMMARY: Total Schools, Total Students, Total Budget, Average Math Schore, Average Reading Score\n",
    "print(\"DISTRICT SUMMARY\\n----------------\")\n",
    "\n",
    "#Total Number of Schools (via count) \n",
    "total_schools=school_df[\"school_name\"].count()\n",
    "print(f\"Total Schools: {total_schools}\")\n",
    "\n",
    "#Total Number of Students (via sum)\n",
    "total_students=school_df[\"size\"].sum()\n",
    "print(f\"Total Students: {total_students}\")\n",
    "\n",
    "#Total Budget (via sum)\n",
    "total_budget=school_df[\"budget\"].sum()\n",
    "print(f\"Total Budget: ${total_budget:,}\")\n",
    "\n",
    "#Average Maths Score\n",
    "avg_math_score=student_df[\"math_score\"].mean()\n",
    "print(f\"Average Math Score: {avg_math_score:.1f}\")\n",
    "\n",
    "#Average Reading Score\n",
    "avg_reading_score=student_df[\"reading_score\"].mean()\n",
    "print(f\"Average Reading Score: {avg_reading_score:.1f}\")"
   ]
  },
  {
   "cell_type": "code",
   "execution_count": 6,
   "metadata": {},
   "outputs": [
    {
     "output_type": "stream",
     "name": "stdout",
     "text": [
      "DISTRICT SUMMARY cont'd\n----------------\nPercentage Students Passing Maths: 74.98%\nPercentage Students Passing Reading: 85.81%\nPercentage Students Passing Both: 65.17%\n"
     ]
    }
   ],
   "source": [
    "#OUTPUTS FOR DISTRICT SUMMARY: Percent Students Passing Math, Percent Students Passing Reading, Percent Students Passing Both\n",
    "\n",
    "print(\"DISTRICT SUMMARY cont'd\\n----------------\")\n",
    "# TEST to get an idea of min, max, median and avg score: \n",
    "#print(student_df.describe())\n",
    "\n",
    "#Percentage Passing Math (The percentage of students that passed Math)\n",
    "students_pass_math=student_df[student_df[\"math_score\"]>=70].count()[\"student_name\"]\n",
    "percent_pass_math=students_pass_math/total_students*100\n",
    "print(f\"Percentage Students Passing Maths: {percent_pass_math:.2f}%\")\n",
    "\n",
    "#Percentage passing Reading (The percentage of students that passed Reading)\n",
    "students_pass_reading=student_df[student_df[\"reading_score\"]>=70].count()[\"student_name\"]\n",
    "percent_pass_reading=students_pass_reading/total_students*100\n",
    "print(f\"Percentage Students Passing Reading: {percent_pass_reading:.2f}%\")\n",
    "\n",
    "#Percentage passing Math and Reading\n",
    "students_pass_both=(student_df[(student_df[\"math_score\"]>=70) & (student_df[\"reading_score\"]>=70)]).count()[\"student_name\"]\n",
    "percent_pass_both=students_pass_both/total_students*100\n",
    "print(f\"Percentage Students Passing Both: {percent_pass_both:.2f}%\")"
   ]
  },
  {
   "cell_type": "code",
   "execution_count": 7,
   "metadata": {},
   "outputs": [
    {
     "output_type": "stream",
     "name": "stdout",
     "text": [
      "DISTRICT SUMMARY\n"
     ]
    },
    {
     "output_type": "execute_result",
     "data": {
      "text/plain": [
       "   Total Schools  Total Students Total Budget  Average Math Score  \\\n",
       "0             15           39170  $24,649,428           78.985371   \n",
       "\n",
       "   Average Reading Score  % Passing Math  % Passing Reading  % Overall Passing  \n",
       "0               81.87784       74.980853          85.805463          65.172326  "
      ],
      "text/html": "<div>\n<style scoped>\n    .dataframe tbody tr th:only-of-type {\n        vertical-align: middle;\n    }\n\n    .dataframe tbody tr th {\n        vertical-align: top;\n    }\n\n    .dataframe thead th {\n        text-align: right;\n    }\n</style>\n<table border=\"1\" class=\"dataframe\">\n  <thead>\n    <tr style=\"text-align: right;\">\n      <th></th>\n      <th>Total Schools</th>\n      <th>Total Students</th>\n      <th>Total Budget</th>\n      <th>Average Math Score</th>\n      <th>Average Reading Score</th>\n      <th>% Passing Math</th>\n      <th>% Passing Reading</th>\n      <th>% Overall Passing</th>\n    </tr>\n  </thead>\n  <tbody>\n    <tr>\n      <th>0</th>\n      <td>15</td>\n      <td>39170</td>\n      <td>$24,649,428</td>\n      <td>78.985371</td>\n      <td>81.87784</td>\n      <td>74.980853</td>\n      <td>85.805463</td>\n      <td>65.172326</td>\n    </tr>\n  </tbody>\n</table>\n</div>"
     },
     "metadata": {},
     "execution_count": 7
    }
   ],
   "source": [
    "#DISTRICT SUMMARY TABLE: dis_summary_df\n",
    "\n",
    "####Editing presentation for new dataframe dis_summary_df ######\n",
    "dis_summary_df=pd.DataFrame({\"Total Schools\":[total_schools],\"Total Students\": [total_students],\"Total Budget\":[total_budget],\"Average Math Score\":[avg_math_score],\"Average Reading Score\":[avg_reading_score],\"% Passing Math\":[percent_pass_math],\"% Passing Reading\":[percent_pass_reading],\"% Overall Passing\":[percent_pass_both]})\n",
    "#Edit formating for Total Budget column\n",
    "dis_summary_df[\"Total Budget\"]=dis_summary_df[\"Total Budget\"].map(\"${:,}\".format)\n",
    "\n",
    "print(\"DISTRICT SUMMARY\")\n",
    "dis_summary_df"
   ]
  },
  {
   "cell_type": "code",
   "execution_count": 8,
   "metadata": {},
   "outputs": [
    {
     "output_type": "execute_result",
     "data": {
      "text/plain": [
       "       Student ID       student_name gender grade         school_name  \\\n",
       "0               0       Paul Bradley      M   9th   Huang High School   \n",
       "1               1       Victor Smith      M  12th   Huang High School   \n",
       "2               2    Kevin Rodriguez      M  12th   Huang High School   \n",
       "3               3  Dr. Richard Scott      M  12th   Huang High School   \n",
       "4               4         Bonnie Ray      F   9th   Huang High School   \n",
       "...           ...                ...    ...   ...                 ...   \n",
       "39165       39165       Donna Howard      F  12th  Thomas High School   \n",
       "39166       39166          Dawn Bell      F  10th  Thomas High School   \n",
       "39167       39167     Rebecca Tanner      F   9th  Thomas High School   \n",
       "39168       39168       Desiree Kidd      F  10th  Thomas High School   \n",
       "39169       39169    Carolyn Jackson      F  11th  Thomas High School   \n",
       "\n",
       "       reading_score  math_score  School ID      type  size   budget  \n",
       "0                 66          79          0  District  2917  1910635  \n",
       "1                 94          61          0  District  2917  1910635  \n",
       "2                 90          60          0  District  2917  1910635  \n",
       "3                 67          58          0  District  2917  1910635  \n",
       "4                 97          84          0  District  2917  1910635  \n",
       "...              ...         ...        ...       ...   ...      ...  \n",
       "39165             99          90         14   Charter  1635  1043130  \n",
       "39166             95          70         14   Charter  1635  1043130  \n",
       "39167             73          84         14   Charter  1635  1043130  \n",
       "39168             99          90         14   Charter  1635  1043130  \n",
       "39169             95          75         14   Charter  1635  1043130  \n",
       "\n",
       "[39170 rows x 11 columns]"
      ],
      "text/html": "<div>\n<style scoped>\n    .dataframe tbody tr th:only-of-type {\n        vertical-align: middle;\n    }\n\n    .dataframe tbody tr th {\n        vertical-align: top;\n    }\n\n    .dataframe thead th {\n        text-align: right;\n    }\n</style>\n<table border=\"1\" class=\"dataframe\">\n  <thead>\n    <tr style=\"text-align: right;\">\n      <th></th>\n      <th>Student ID</th>\n      <th>student_name</th>\n      <th>gender</th>\n      <th>grade</th>\n      <th>school_name</th>\n      <th>reading_score</th>\n      <th>math_score</th>\n      <th>School ID</th>\n      <th>type</th>\n      <th>size</th>\n      <th>budget</th>\n    </tr>\n  </thead>\n  <tbody>\n    <tr>\n      <th>0</th>\n      <td>0</td>\n      <td>Paul Bradley</td>\n      <td>M</td>\n      <td>9th</td>\n      <td>Huang High School</td>\n      <td>66</td>\n      <td>79</td>\n      <td>0</td>\n      <td>District</td>\n      <td>2917</td>\n      <td>1910635</td>\n    </tr>\n    <tr>\n      <th>1</th>\n      <td>1</td>\n      <td>Victor Smith</td>\n      <td>M</td>\n      <td>12th</td>\n      <td>Huang High School</td>\n      <td>94</td>\n      <td>61</td>\n      <td>0</td>\n      <td>District</td>\n      <td>2917</td>\n      <td>1910635</td>\n    </tr>\n    <tr>\n      <th>2</th>\n      <td>2</td>\n      <td>Kevin Rodriguez</td>\n      <td>M</td>\n      <td>12th</td>\n      <td>Huang High School</td>\n      <td>90</td>\n      <td>60</td>\n      <td>0</td>\n      <td>District</td>\n      <td>2917</td>\n      <td>1910635</td>\n    </tr>\n    <tr>\n      <th>3</th>\n      <td>3</td>\n      <td>Dr. Richard Scott</td>\n      <td>M</td>\n      <td>12th</td>\n      <td>Huang High School</td>\n      <td>67</td>\n      <td>58</td>\n      <td>0</td>\n      <td>District</td>\n      <td>2917</td>\n      <td>1910635</td>\n    </tr>\n    <tr>\n      <th>4</th>\n      <td>4</td>\n      <td>Bonnie Ray</td>\n      <td>F</td>\n      <td>9th</td>\n      <td>Huang High School</td>\n      <td>97</td>\n      <td>84</td>\n      <td>0</td>\n      <td>District</td>\n      <td>2917</td>\n      <td>1910635</td>\n    </tr>\n    <tr>\n      <th>...</th>\n      <td>...</td>\n      <td>...</td>\n      <td>...</td>\n      <td>...</td>\n      <td>...</td>\n      <td>...</td>\n      <td>...</td>\n      <td>...</td>\n      <td>...</td>\n      <td>...</td>\n      <td>...</td>\n    </tr>\n    <tr>\n      <th>39165</th>\n      <td>39165</td>\n      <td>Donna Howard</td>\n      <td>F</td>\n      <td>12th</td>\n      <td>Thomas High School</td>\n      <td>99</td>\n      <td>90</td>\n      <td>14</td>\n      <td>Charter</td>\n      <td>1635</td>\n      <td>1043130</td>\n    </tr>\n    <tr>\n      <th>39166</th>\n      <td>39166</td>\n      <td>Dawn Bell</td>\n      <td>F</td>\n      <td>10th</td>\n      <td>Thomas High School</td>\n      <td>95</td>\n      <td>70</td>\n      <td>14</td>\n      <td>Charter</td>\n      <td>1635</td>\n      <td>1043130</td>\n    </tr>\n    <tr>\n      <th>39167</th>\n      <td>39167</td>\n      <td>Rebecca Tanner</td>\n      <td>F</td>\n      <td>9th</td>\n      <td>Thomas High School</td>\n      <td>73</td>\n      <td>84</td>\n      <td>14</td>\n      <td>Charter</td>\n      <td>1635</td>\n      <td>1043130</td>\n    </tr>\n    <tr>\n      <th>39168</th>\n      <td>39168</td>\n      <td>Desiree Kidd</td>\n      <td>F</td>\n      <td>10th</td>\n      <td>Thomas High School</td>\n      <td>99</td>\n      <td>90</td>\n      <td>14</td>\n      <td>Charter</td>\n      <td>1635</td>\n      <td>1043130</td>\n    </tr>\n    <tr>\n      <th>39169</th>\n      <td>39169</td>\n      <td>Carolyn Jackson</td>\n      <td>F</td>\n      <td>11th</td>\n      <td>Thomas High School</td>\n      <td>95</td>\n      <td>75</td>\n      <td>14</td>\n      <td>Charter</td>\n      <td>1635</td>\n      <td>1043130</td>\n    </tr>\n  </tbody>\n</table>\n<p>39170 rows × 11 columns</p>\n</div>"
     },
     "metadata": {},
     "execution_count": 8
    }
   ],
   "source": [
    "complete_df"
   ]
  },
  {
   "cell_type": "code",
   "execution_count": 9,
   "metadata": {},
   "outputs": [
    {
     "output_type": "execute_result",
     "data": {
      "text/plain": [
       "                      School Type Total Students Total School Budget  \\\n",
       "school_name                                                            \n",
       "Bailey High School       District           4976       $3,124,928.00   \n",
       "Cabrera High School       Charter           1858       $1,081,356.00   \n",
       "Figueroa High School     District           2949       $1,884,411.00   \n",
       "Ford High School         District           2739       $1,763,916.00   \n",
       "Griffin High School       Charter           1468         $917,500.00   \n",
       "Hernandez High School    District           4635       $3,022,020.00   \n",
       "Holden High School        Charter            427         $248,087.00   \n",
       "Huang High School        District           2917       $1,910,635.00   \n",
       "Johnson High School      District           4761       $3,094,650.00   \n",
       "Pena High School          Charter            962         $585,858.00   \n",
       "Rodriguez High School    District           3999       $2,547,363.00   \n",
       "Shelton High School       Charter           1761       $1,056,600.00   \n",
       "Thomas High School        Charter           1635       $1,043,130.00   \n",
       "Wilson High School        Charter           2283       $1,319,574.00   \n",
       "Wright High School        Charter           1800       $1,049,400.00   \n",
       "\n",
       "                      Per Student Budget  Average Math Score  \\\n",
       "school_name                                                    \n",
       "Bailey High School               $628.00           77.048432   \n",
       "Cabrera High School              $582.00           83.061895   \n",
       "Figueroa High School             $639.00           76.711767   \n",
       "Ford High School                 $644.00           77.102592   \n",
       "Griffin High School              $625.00           83.351499   \n",
       "Hernandez High School            $652.00           77.289752   \n",
       "Holden High School               $581.00           83.803279   \n",
       "Huang High School                $655.00           76.629414   \n",
       "Johnson High School              $650.00           77.072464   \n",
       "Pena High School                 $609.00           83.839917   \n",
       "Rodriguez High School            $637.00           76.842711   \n",
       "Shelton High School              $600.00           83.359455   \n",
       "Thomas High School               $638.00           83.418349   \n",
       "Wilson High School               $578.00           83.274201   \n",
       "Wright High School               $583.00           83.682222   \n",
       "\n",
       "                       Average Reading Score  % Passing Math  \\\n",
       "school_name                                                    \n",
       "Bailey High School                 81.033963       66.680064   \n",
       "Cabrera High School                83.975780       94.133477   \n",
       "Figueroa High School               81.158020       65.988471   \n",
       "Ford High School                   80.746258       68.309602   \n",
       "Griffin High School                83.816757       93.392371   \n",
       "Hernandez High School              80.934412       66.752967   \n",
       "Holden High School                 83.814988       92.505855   \n",
       "Huang High School                  81.182722       65.683922   \n",
       "Johnson High School                80.966394       66.057551   \n",
       "Pena High School                   84.044699       94.594595   \n",
       "Rodriguez High School              80.744686       66.366592   \n",
       "Shelton High School                83.725724       93.867121   \n",
       "Thomas High School                 83.848930       93.272171   \n",
       "Wilson High School                 83.989488       93.867718   \n",
       "Wright High School                 83.955000       93.333333   \n",
       "\n",
       "                       % Passing Reading  % Overall Passing  \n",
       "school_name                                                  \n",
       "Bailey High School             81.933280          54.642283  \n",
       "Cabrera High School            97.039828          91.334769  \n",
       "Figueroa High School           80.739234          53.204476  \n",
       "Ford High School               79.299014          54.289887  \n",
       "Griffin High School            97.138965          90.599455  \n",
       "Hernandez High School          80.862999          53.527508  \n",
       "Holden High School             96.252927          89.227166  \n",
       "Huang High School              81.316421          53.513884  \n",
       "Johnson High School            81.222432          53.539172  \n",
       "Pena High School               95.945946          90.540541  \n",
       "Rodriguez High School          80.220055          52.988247  \n",
       "Shelton High School            95.854628          89.892107  \n",
       "Thomas High School             97.308869          90.948012  \n",
       "Wilson High School             96.539641          90.582567  \n",
       "Wright High School             96.611111          90.333333  "
      ],
      "text/html": "<div>\n<style scoped>\n    .dataframe tbody tr th:only-of-type {\n        vertical-align: middle;\n    }\n\n    .dataframe tbody tr th {\n        vertical-align: top;\n    }\n\n    .dataframe thead th {\n        text-align: right;\n    }\n</style>\n<table border=\"1\" class=\"dataframe\">\n  <thead>\n    <tr style=\"text-align: right;\">\n      <th></th>\n      <th>School Type</th>\n      <th>Total Students</th>\n      <th>Total School Budget</th>\n      <th>Per Student Budget</th>\n      <th>Average Math Score</th>\n      <th>Average Reading Score</th>\n      <th>% Passing Math</th>\n      <th>% Passing Reading</th>\n      <th>% Overall Passing</th>\n    </tr>\n    <tr>\n      <th>school_name</th>\n      <th></th>\n      <th></th>\n      <th></th>\n      <th></th>\n      <th></th>\n      <th></th>\n      <th></th>\n      <th></th>\n      <th></th>\n    </tr>\n  </thead>\n  <tbody>\n    <tr>\n      <th>Bailey High School</th>\n      <td>District</td>\n      <td>4976</td>\n      <td>$3,124,928.00</td>\n      <td>$628.00</td>\n      <td>77.048432</td>\n      <td>81.033963</td>\n      <td>66.680064</td>\n      <td>81.933280</td>\n      <td>54.642283</td>\n    </tr>\n    <tr>\n      <th>Cabrera High School</th>\n      <td>Charter</td>\n      <td>1858</td>\n      <td>$1,081,356.00</td>\n      <td>$582.00</td>\n      <td>83.061895</td>\n      <td>83.975780</td>\n      <td>94.133477</td>\n      <td>97.039828</td>\n      <td>91.334769</td>\n    </tr>\n    <tr>\n      <th>Figueroa High School</th>\n      <td>District</td>\n      <td>2949</td>\n      <td>$1,884,411.00</td>\n      <td>$639.00</td>\n      <td>76.711767</td>\n      <td>81.158020</td>\n      <td>65.988471</td>\n      <td>80.739234</td>\n      <td>53.204476</td>\n    </tr>\n    <tr>\n      <th>Ford High School</th>\n      <td>District</td>\n      <td>2739</td>\n      <td>$1,763,916.00</td>\n      <td>$644.00</td>\n      <td>77.102592</td>\n      <td>80.746258</td>\n      <td>68.309602</td>\n      <td>79.299014</td>\n      <td>54.289887</td>\n    </tr>\n    <tr>\n      <th>Griffin High School</th>\n      <td>Charter</td>\n      <td>1468</td>\n      <td>$917,500.00</td>\n      <td>$625.00</td>\n      <td>83.351499</td>\n      <td>83.816757</td>\n      <td>93.392371</td>\n      <td>97.138965</td>\n      <td>90.599455</td>\n    </tr>\n    <tr>\n      <th>Hernandez High School</th>\n      <td>District</td>\n      <td>4635</td>\n      <td>$3,022,020.00</td>\n      <td>$652.00</td>\n      <td>77.289752</td>\n      <td>80.934412</td>\n      <td>66.752967</td>\n      <td>80.862999</td>\n      <td>53.527508</td>\n    </tr>\n    <tr>\n      <th>Holden High School</th>\n      <td>Charter</td>\n      <td>427</td>\n      <td>$248,087.00</td>\n      <td>$581.00</td>\n      <td>83.803279</td>\n      <td>83.814988</td>\n      <td>92.505855</td>\n      <td>96.252927</td>\n      <td>89.227166</td>\n    </tr>\n    <tr>\n      <th>Huang High School</th>\n      <td>District</td>\n      <td>2917</td>\n      <td>$1,910,635.00</td>\n      <td>$655.00</td>\n      <td>76.629414</td>\n      <td>81.182722</td>\n      <td>65.683922</td>\n      <td>81.316421</td>\n      <td>53.513884</td>\n    </tr>\n    <tr>\n      <th>Johnson High School</th>\n      <td>District</td>\n      <td>4761</td>\n      <td>$3,094,650.00</td>\n      <td>$650.00</td>\n      <td>77.072464</td>\n      <td>80.966394</td>\n      <td>66.057551</td>\n      <td>81.222432</td>\n      <td>53.539172</td>\n    </tr>\n    <tr>\n      <th>Pena High School</th>\n      <td>Charter</td>\n      <td>962</td>\n      <td>$585,858.00</td>\n      <td>$609.00</td>\n      <td>83.839917</td>\n      <td>84.044699</td>\n      <td>94.594595</td>\n      <td>95.945946</td>\n      <td>90.540541</td>\n    </tr>\n    <tr>\n      <th>Rodriguez High School</th>\n      <td>District</td>\n      <td>3999</td>\n      <td>$2,547,363.00</td>\n      <td>$637.00</td>\n      <td>76.842711</td>\n      <td>80.744686</td>\n      <td>66.366592</td>\n      <td>80.220055</td>\n      <td>52.988247</td>\n    </tr>\n    <tr>\n      <th>Shelton High School</th>\n      <td>Charter</td>\n      <td>1761</td>\n      <td>$1,056,600.00</td>\n      <td>$600.00</td>\n      <td>83.359455</td>\n      <td>83.725724</td>\n      <td>93.867121</td>\n      <td>95.854628</td>\n      <td>89.892107</td>\n    </tr>\n    <tr>\n      <th>Thomas High School</th>\n      <td>Charter</td>\n      <td>1635</td>\n      <td>$1,043,130.00</td>\n      <td>$638.00</td>\n      <td>83.418349</td>\n      <td>83.848930</td>\n      <td>93.272171</td>\n      <td>97.308869</td>\n      <td>90.948012</td>\n    </tr>\n    <tr>\n      <th>Wilson High School</th>\n      <td>Charter</td>\n      <td>2283</td>\n      <td>$1,319,574.00</td>\n      <td>$578.00</td>\n      <td>83.274201</td>\n      <td>83.989488</td>\n      <td>93.867718</td>\n      <td>96.539641</td>\n      <td>90.582567</td>\n    </tr>\n    <tr>\n      <th>Wright High School</th>\n      <td>Charter</td>\n      <td>1800</td>\n      <td>$1,049,400.00</td>\n      <td>$583.00</td>\n      <td>83.682222</td>\n      <td>83.955000</td>\n      <td>93.333333</td>\n      <td>96.611111</td>\n      <td>90.333333</td>\n    </tr>\n  </tbody>\n</table>\n</div>"
     },
     "metadata": {},
     "execution_count": 9
    }
   ],
   "source": [
    "# School Summary: summary_p3_df\n",
    "\n",
    "#----------------\n",
    "#make a copy of the complete_df and add in a boolean column each for passing math, passing reading, overall passing\n",
    "boolean_df=complete_df.copy()\n",
    "\n",
    "#Add new math boolean column, reading boolean column, both boolean column to the original merged complete_df and set constraints for passing\n",
    "#Note: This is used for attaining the % passing math later on when groupby and .mean is applied. \n",
    "boolean_df[\"% Passing Math\"]=boolean_df[\"math_score\"]>=70\n",
    "boolean_df[\"% Passing Reading\"]=boolean_df[\"reading_score\"]>=70\n",
    "boolean_df[\"% Overall Passing\"]=(boolean_df[\"math_score\"]>=70) & (boolean_df[\"reading_score\"]>=70)\n",
    "boolean_df\n",
    "\n",
    "#---------------\n",
    "#groupby per school: summary_df is the summary of grouped by schools raw data (Ready to output data when combined with .count, .mean etc)\n",
    "school_groups_df=boolean_df.groupby([\"school_name\"])\n",
    "\n",
    "#----------------\n",
    "#make a copy and produce mean table grouped by schools: summary_p1_df\n",
    "# summary_p1_df=school_groups_df.copy()\n",
    "summary_p1_df=school_groups_df.mean()\n",
    "summary_p1_df\n",
    "# #columns returned are : school_name, Student ID, Average Reading Score, Average Math Score, School ID, size, budget, % Passing Math, % Passing Reading, % Overall Passing\n",
    "# #columns missing are: School Type, Per Student Budget\n",
    "\n",
    "# #add in column 'Per Student Budget'\n",
    "summary_p1_df[\"Per Student Budget\"]=summary_p1_df[\"budget\"]/summary_p1_df[\"size\"]\n",
    "summary_p1_df\n",
    "# #columns returned are : school_name, Student ID, Average Reading Score, Average Math Score, School ID, size, budget, % Passing Math, % Passing Reading, % Overall Passing, Per Student Budget\n",
    "# #columns missing are: School Type\n",
    "\n",
    "#----------------\n",
    "#make a copy and group by school name, column 'school type': summary_p2_df\n",
    "###ERROR WITH THIS METHOD\n",
    "summary_p2_df=school_groups_df[\"type\"].unique()\n",
    "summary_p2_df\n",
    "\n",
    "#columns returned are: type\n",
    "#note: type refers to School Type in summary_p2_df\n",
    "#columns missing are: per student budget, % passing math, % passing reading, % overall passing\n",
    "\n",
    "#--------------\n",
    "#Join the 2 dataframes together. Note that the school_name are the indexes for both the grouped dataframes: summary_p3_df\n",
    "summary_p3_df=summary_p1_df.join(summary_p2_df)\n",
    "summary_p3_df\n",
    "\n",
    "#-------------\n",
    "#####Editing columns for presentation ########\n",
    "#Rename coluuns\n",
    "summary_p3_df=summary_p3_df.rename(columns={\"type\":\"School Type\",\"size\":\"Total Students\",\"budget\":\"Total School Budget\",\"math_score\":\"Average Math Score\",\"reading_score\":\"Average Reading Score\"})\n",
    "summary_p3_df\n",
    "#Drop columns\n",
    "summary_p3_df=summary_p3_df.drop(columns={\"Student ID\",\"School ID\"})\n",
    "summary_p3_df\n",
    "#Re-arrange columns\n",
    "summary_p3_df=summary_p3_df[[\"School Type\",\"Total Students\", \"Total School Budget\",\"Per Student Budget\",\"Average Math Score\",\"Average Reading Score\",\"% Passing Math\",\"% Passing Reading\",\"% Overall Passing\"]]\n",
    "summary_p3_df\n",
    "#Remove brackets in School Type column \n",
    "# summary_p3_df[\"School Type\"]=summary_p3_df[\"School Type\"].replace(\"[District]\":\"District\"})\n",
    "# summary_p3_df\n",
    "\n",
    "#Format the Total Students with no decimals\n",
    "summary_p3_df[\"Total Students\"]=summary_p3_df[\"Total Students\"].map(\"{:.0f}\".format)\n",
    "summary_p3_df\n",
    "#Format the Total School Budget column with $ and ,\n",
    "summary_p3_df[\"Total School Budget\"]=summary_p3_df[\"Total School Budget\"].map(\"${:,.2f}\".format)\n",
    "summary_p3_df\n",
    "#Format the Per Student Budget column with $ and 2 decimals\n",
    "summary_p3_df[\"Per Student Budget\"]=summary_p3_df[\"Per Student Budget\"].map(\"${:,.2f}\".format)\n",
    "summary_p3_df\n",
    "#Convert % Passing Math, % Passing Reading, % Overall Passing to percentage values by multiplying it by 100\n",
    "summary_p3_df[\"% Passing Math\"]=summary_p3_df[\"% Passing Math\"]*100\n",
    "summary_p3_df[\"% Passing Reading\"]=summary_p3_df[\"% Passing Reading\"]*100\n",
    "summary_p3_df[\"% Overall Passing\"]=summary_p3_df[\"% Overall Passing\"]*100\n",
    "summary_p3_df\n",
    "\n",
    "#Converting column 'School Type' from list to string\n",
    "summary_p3_df[\"School Type\"]=summary_p3_df[\"School Type\"].apply(\",\".join)\n",
    "summary_p3_df"
   ]
  },
  {
   "cell_type": "code",
   "execution_count": 10,
   "metadata": {},
   "outputs": [
    {
     "output_type": "execute_result",
     "data": {
      "text/plain": [
       "                    School Type Total Students Total School Budget  \\\n",
       "school_name                                                          \n",
       "Cabrera High School     Charter           1858       $1,081,356.00   \n",
       "Thomas High School      Charter           1635       $1,043,130.00   \n",
       "Griffin High School     Charter           1468         $917,500.00   \n",
       "Wilson High School      Charter           2283       $1,319,574.00   \n",
       "Pena High School        Charter            962         $585,858.00   \n",
       "\n",
       "                    Per Student Budget  Average Math Score  \\\n",
       "school_name                                                  \n",
       "Cabrera High School            $582.00           83.061895   \n",
       "Thomas High School             $638.00           83.418349   \n",
       "Griffin High School            $625.00           83.351499   \n",
       "Wilson High School             $578.00           83.274201   \n",
       "Pena High School               $609.00           83.839917   \n",
       "\n",
       "                     Average Reading Score  % Passing Math  % Passing Reading  \\\n",
       "school_name                                                                     \n",
       "Cabrera High School              83.975780       94.133477          97.039828   \n",
       "Thomas High School               83.848930       93.272171          97.308869   \n",
       "Griffin High School              83.816757       93.392371          97.138965   \n",
       "Wilson High School               83.989488       93.867718          96.539641   \n",
       "Pena High School                 84.044699       94.594595          95.945946   \n",
       "\n",
       "                     % Overall Passing  \n",
       "school_name                             \n",
       "Cabrera High School          91.334769  \n",
       "Thomas High School           90.948012  \n",
       "Griffin High School          90.599455  \n",
       "Wilson High School           90.582567  \n",
       "Pena High School             90.540541  "
      ],
      "text/html": "<div>\n<style scoped>\n    .dataframe tbody tr th:only-of-type {\n        vertical-align: middle;\n    }\n\n    .dataframe tbody tr th {\n        vertical-align: top;\n    }\n\n    .dataframe thead th {\n        text-align: right;\n    }\n</style>\n<table border=\"1\" class=\"dataframe\">\n  <thead>\n    <tr style=\"text-align: right;\">\n      <th></th>\n      <th>School Type</th>\n      <th>Total Students</th>\n      <th>Total School Budget</th>\n      <th>Per Student Budget</th>\n      <th>Average Math Score</th>\n      <th>Average Reading Score</th>\n      <th>% Passing Math</th>\n      <th>% Passing Reading</th>\n      <th>% Overall Passing</th>\n    </tr>\n    <tr>\n      <th>school_name</th>\n      <th></th>\n      <th></th>\n      <th></th>\n      <th></th>\n      <th></th>\n      <th></th>\n      <th></th>\n      <th></th>\n      <th></th>\n    </tr>\n  </thead>\n  <tbody>\n    <tr>\n      <th>Cabrera High School</th>\n      <td>Charter</td>\n      <td>1858</td>\n      <td>$1,081,356.00</td>\n      <td>$582.00</td>\n      <td>83.061895</td>\n      <td>83.975780</td>\n      <td>94.133477</td>\n      <td>97.039828</td>\n      <td>91.334769</td>\n    </tr>\n    <tr>\n      <th>Thomas High School</th>\n      <td>Charter</td>\n      <td>1635</td>\n      <td>$1,043,130.00</td>\n      <td>$638.00</td>\n      <td>83.418349</td>\n      <td>83.848930</td>\n      <td>93.272171</td>\n      <td>97.308869</td>\n      <td>90.948012</td>\n    </tr>\n    <tr>\n      <th>Griffin High School</th>\n      <td>Charter</td>\n      <td>1468</td>\n      <td>$917,500.00</td>\n      <td>$625.00</td>\n      <td>83.351499</td>\n      <td>83.816757</td>\n      <td>93.392371</td>\n      <td>97.138965</td>\n      <td>90.599455</td>\n    </tr>\n    <tr>\n      <th>Wilson High School</th>\n      <td>Charter</td>\n      <td>2283</td>\n      <td>$1,319,574.00</td>\n      <td>$578.00</td>\n      <td>83.274201</td>\n      <td>83.989488</td>\n      <td>93.867718</td>\n      <td>96.539641</td>\n      <td>90.582567</td>\n    </tr>\n    <tr>\n      <th>Pena High School</th>\n      <td>Charter</td>\n      <td>962</td>\n      <td>$585,858.00</td>\n      <td>$609.00</td>\n      <td>83.839917</td>\n      <td>84.044699</td>\n      <td>94.594595</td>\n      <td>95.945946</td>\n      <td>90.540541</td>\n    </tr>\n  </tbody>\n</table>\n</div>"
     },
     "metadata": {},
     "execution_count": 10
    }
   ],
   "source": [
    "#Top Performing Schools (By % Overall Passing)\n",
    "\n",
    "#sort and display top 5 performing schools by % Overall Passing\n",
    "top_overall_schools_df=summary_p3_df.sort_values(by=\"% Overall Passing\", ascending=False)\n",
    "top_overall_schools_df.head(5)"
   ]
  },
  {
   "cell_type": "code",
   "execution_count": 11,
   "metadata": {},
   "outputs": [
    {
     "output_type": "execute_result",
     "data": {
      "text/plain": [
       "                      School Type Total Students Total School Budget  \\\n",
       "school_name                                                            \n",
       "Rodriguez High School    District           3999       $2,547,363.00   \n",
       "Figueroa High School     District           2949       $1,884,411.00   \n",
       "Huang High School        District           2917       $1,910,635.00   \n",
       "Hernandez High School    District           4635       $3,022,020.00   \n",
       "Johnson High School      District           4761       $3,094,650.00   \n",
       "\n",
       "                      Per Student Budget  Average Math Score  \\\n",
       "school_name                                                    \n",
       "Rodriguez High School            $637.00           76.842711   \n",
       "Figueroa High School             $639.00           76.711767   \n",
       "Huang High School                $655.00           76.629414   \n",
       "Hernandez High School            $652.00           77.289752   \n",
       "Johnson High School              $650.00           77.072464   \n",
       "\n",
       "                       Average Reading Score  % Passing Math  \\\n",
       "school_name                                                    \n",
       "Rodriguez High School              80.744686       66.366592   \n",
       "Figueroa High School               81.158020       65.988471   \n",
       "Huang High School                  81.182722       65.683922   \n",
       "Hernandez High School              80.934412       66.752967   \n",
       "Johnson High School                80.966394       66.057551   \n",
       "\n",
       "                       % Passing Reading  % Overall Passing  \n",
       "school_name                                                  \n",
       "Rodriguez High School          80.220055          52.988247  \n",
       "Figueroa High School           80.739234          53.204476  \n",
       "Huang High School              81.316421          53.513884  \n",
       "Hernandez High School          80.862999          53.527508  \n",
       "Johnson High School            81.222432          53.539172  "
      ],
      "text/html": "<div>\n<style scoped>\n    .dataframe tbody tr th:only-of-type {\n        vertical-align: middle;\n    }\n\n    .dataframe tbody tr th {\n        vertical-align: top;\n    }\n\n    .dataframe thead th {\n        text-align: right;\n    }\n</style>\n<table border=\"1\" class=\"dataframe\">\n  <thead>\n    <tr style=\"text-align: right;\">\n      <th></th>\n      <th>School Type</th>\n      <th>Total Students</th>\n      <th>Total School Budget</th>\n      <th>Per Student Budget</th>\n      <th>Average Math Score</th>\n      <th>Average Reading Score</th>\n      <th>% Passing Math</th>\n      <th>% Passing Reading</th>\n      <th>% Overall Passing</th>\n    </tr>\n    <tr>\n      <th>school_name</th>\n      <th></th>\n      <th></th>\n      <th></th>\n      <th></th>\n      <th></th>\n      <th></th>\n      <th></th>\n      <th></th>\n      <th></th>\n    </tr>\n  </thead>\n  <tbody>\n    <tr>\n      <th>Rodriguez High School</th>\n      <td>District</td>\n      <td>3999</td>\n      <td>$2,547,363.00</td>\n      <td>$637.00</td>\n      <td>76.842711</td>\n      <td>80.744686</td>\n      <td>66.366592</td>\n      <td>80.220055</td>\n      <td>52.988247</td>\n    </tr>\n    <tr>\n      <th>Figueroa High School</th>\n      <td>District</td>\n      <td>2949</td>\n      <td>$1,884,411.00</td>\n      <td>$639.00</td>\n      <td>76.711767</td>\n      <td>81.158020</td>\n      <td>65.988471</td>\n      <td>80.739234</td>\n      <td>53.204476</td>\n    </tr>\n    <tr>\n      <th>Huang High School</th>\n      <td>District</td>\n      <td>2917</td>\n      <td>$1,910,635.00</td>\n      <td>$655.00</td>\n      <td>76.629414</td>\n      <td>81.182722</td>\n      <td>65.683922</td>\n      <td>81.316421</td>\n      <td>53.513884</td>\n    </tr>\n    <tr>\n      <th>Hernandez High School</th>\n      <td>District</td>\n      <td>4635</td>\n      <td>$3,022,020.00</td>\n      <td>$652.00</td>\n      <td>77.289752</td>\n      <td>80.934412</td>\n      <td>66.752967</td>\n      <td>80.862999</td>\n      <td>53.527508</td>\n    </tr>\n    <tr>\n      <th>Johnson High School</th>\n      <td>District</td>\n      <td>4761</td>\n      <td>$3,094,650.00</td>\n      <td>$650.00</td>\n      <td>77.072464</td>\n      <td>80.966394</td>\n      <td>66.057551</td>\n      <td>81.222432</td>\n      <td>53.539172</td>\n    </tr>\n  </tbody>\n</table>\n</div>"
     },
     "metadata": {},
     "execution_count": 11
    }
   ],
   "source": [
    "#Bottom Performing Schools (By % Overall Passing)\n",
    "\n",
    "#sort and display bottom 5 performing schools by % Overall Passing\n",
    "bottom_overall_schools_df=summary_p3_df.sort_values(by=\"% Overall Passing\", ascending=True)\n",
    "bottom_overall_schools_df.head(5)\n"
   ]
  },
  {
   "cell_type": "code",
   "execution_count": 12,
   "metadata": {},
   "outputs": [
    {
     "output_type": "stream",
     "name": "stdout",
     "text": [
      "                      9th Grade Reading Score  9th Grade Math Score\nschool_name                                                        \nBailey High School                  81.303155             77.083676\nCabrera High School                 83.676136             83.094697\nFigueroa High School                81.198598             76.403037\n                      10th Grade Reading Score  10th Grade Math Score\nschool_name                                                          \nBailey High School                   80.907183              76.996772\nCabrera High School                  84.253219              83.154506\nFigueroa High School                 81.408912              76.539974\n                      11th Grade Reading Score  11th Grade Math Score\nschool_name                                                          \nBailey High School                   80.945643              77.515588\nCabrera High School                  83.788382              82.765560\nFigueroa High School                 80.640339              76.884344\n                      12th Grade Reading Score  12th Grade Math Score\nschool_name                                                          \nBailey High School                   80.912451              76.492218\nCabrera High School                  84.287958              83.277487\nFigueroa High School                 81.384863              77.151369\n"
     ]
    }
   ],
   "source": [
    "#####MATH SCORES BY GRADE: GROUPBY SCHOOL, output dataframes: g9_groupby_avg_df, g10_groupby_avg_df, g11_groupby_avg_df, g12_groupby_avg_df\n",
    "\n",
    "##9th Grade##\n",
    "#Use student_df as the raw data starting point\n",
    "student_g9_df=student_df.copy()\n",
    "\n",
    "#Set condition to filter list to only Grade 9\n",
    "condition=student_g9_df[\"grade\"]==\"9th\"\n",
    "\n",
    "student_g9_df=student_g9_df[condition]\n",
    "student_g9_df\n",
    "\n",
    "#groupby grade\n",
    "student_g9_groupby_df=student_g9_df.groupby([\"school_name\"])\n",
    "#get average based on group by school_name\n",
    "g9_groupby_avg_df=student_g9_groupby_df.mean()\n",
    "g9_groupby_avg_df\n",
    "\n",
    "#clean up data columns and rename columns\n",
    "#Drop columns\n",
    "g9_groupby_avg_df=g9_groupby_avg_df.drop(columns=[\"Student ID\"])\n",
    "#rename columns\n",
    "g9_groupby_avg_df=g9_groupby_avg_df.rename(columns={\"reading_score\":\"9th Grade Reading Score\",\"math_score\":\"9th Grade Math Score\"})\n",
    "print(g9_groupby_avg_df.head(3))\n",
    "#---------------------\n",
    "\n",
    "##10th Grade##\n",
    "#Use student_df as the raw data starting point\n",
    "student_g10_df=student_df.copy()\n",
    "\n",
    "#Set condition to filter list to only Grade 10\n",
    "condition=student_g10_df[\"grade\"]==\"10th\"\n",
    "\n",
    "student_g10_df=student_g10_df[condition]\n",
    "student_g10_df\n",
    "\n",
    "#groupby grade\n",
    "student_g10_groupby_df=student_g10_df.groupby([\"school_name\"])\n",
    "#get average based on group by school_name\n",
    "g10_groupby_avg_df=student_g10_groupby_df.mean()\n",
    "g10_groupby_avg_df\n",
    "\n",
    "#clean up data columns and rename columns\n",
    "#Drop columns\n",
    "g10_groupby_avg_df=g10_groupby_avg_df.drop(columns=[\"Student ID\"])\n",
    "#rename columns\n",
    "g10_groupby_avg_df=g10_groupby_avg_df.rename(columns={\"reading_score\":\"10th Grade Reading Score\",\"math_score\":\"10th Grade Math Score\"})\n",
    "print(g10_groupby_avg_df.head(3))\n",
    "#---------------------\n",
    "\n",
    "##11th Grade##\n",
    "#Use student_df as the raw data starting point\n",
    "student_g11_df=student_df.copy()\n",
    "\n",
    "#Set condition to filter list to only Grade 11\n",
    "condition=student_g11_df[\"grade\"]==\"11th\"\n",
    "\n",
    "student_g11_df=student_g11_df[condition]\n",
    "student_g11_df\n",
    "\n",
    "#groupby grade\n",
    "student_g11_groupby_df=student_g11_df.groupby([\"school_name\"])\n",
    "#get average based on group by school_name\n",
    "g11_groupby_avg_df=student_g11_groupby_df.mean()\n",
    "g11_groupby_avg_df\n",
    "\n",
    "#clean up data columns and rename columns\n",
    "#Drop columns\n",
    "g11_groupby_avg_df=g11_groupby_avg_df.drop(columns=[\"Student ID\"])\n",
    "#rename columns\n",
    "g11_groupby_avg_df=g11_groupby_avg_df.rename(columns={\"reading_score\":\"11th Grade Reading Score\",\"math_score\":\"11th Grade Math Score\"})\n",
    "print(g11_groupby_avg_df.head(3))\n",
    "#---------------------\n",
    "\n",
    "##12th Grade##\n",
    "#Use student_df as the raw data starting point\n",
    "student_g12_df=student_df.copy()\n",
    "\n",
    "#Set condition to filter list to only Grade 12\n",
    "condition=student_g12_df[\"grade\"]==\"12th\"\n",
    "\n",
    "student_g12_df=student_g12_df[condition]\n",
    "student_g12_df\n",
    "\n",
    "#groupby grade\n",
    "student_g12_groupby_df=student_g12_df.groupby([\"school_name\"])\n",
    "#get average based on group by school_name\n",
    "g12_groupby_avg_df=student_g12_groupby_df.mean()\n",
    "g12_groupby_avg_df\n",
    "\n",
    "#clean up data columns and rename columns\n",
    "#Drop columns\n",
    "g12_groupby_avg_df=g12_groupby_avg_df.drop(columns=[\"Student ID\"])\n",
    "#rename columns\n",
    "g12_groupby_avg_df=g12_groupby_avg_df.rename(columns={\"reading_score\":\"12th Grade Reading Score\",\"math_score\":\"12th Grade Math Score\"})\n",
    "print(g12_groupby_avg_df.head(3))\n"
   ]
  },
  {
   "cell_type": "code",
   "execution_count": 13,
   "metadata": {},
   "outputs": [
    {
     "output_type": "stream",
     "name": "stdout",
     "text": [
      "                      9th Grade Reading Score  9th Grade Math Score  \\\nschool_name                                                           \nBailey High School                  81.303155             77.083676   \nCabrera High School                 83.676136             83.094697   \nFigueroa High School                81.198598             76.403037   \n\n                      10th Grade Reading Score  10th Grade Math Score  \\\nschool_name                                                             \nBailey High School                   80.907183              76.996772   \nCabrera High School                  84.253219              83.154506   \nFigueroa High School                 81.408912              76.539974   \n\n                      11th Grade Reading Score  11th Grade Math Score  \\\nschool_name                                                             \nBailey High School                   80.945643              77.515588   \nCabrera High School                  83.788382              82.765560   \nFigueroa High School                 80.640339              76.884344   \n\n                      12th Grade Reading Score  12th Grade Math Score  \nschool_name                                                            \nBailey High School                   80.912451              76.492218  \nCabrera High School                  84.287958              83.277487  \nFigueroa High School                 81.384863              77.151369  \n"
     ]
    }
   ],
   "source": [
    "#MATH AND READING SCORES BY GRADE: MERGING DATAFRAMES, on school_name: g9_groupby_avg_df, g10_groupby_avg_df, g11_groupby_avg_df, g12_groupby_avg_df\n",
    "\n",
    "g9_10_avg_df=pd.merge(g9_groupby_avg_df,g10_groupby_avg_df,on=\"school_name\")\n",
    "g9_10_11_avg_df=pd.merge(g9_10_avg_df,g11_groupby_avg_df,on=\"school_name\")\n",
    "g9_10_11_12_avg_df=pd.merge(g9_10_11_avg_df,g12_groupby_avg_df,on=\"school_name\")\n",
    "##TEST print all averages of Math and Reading for all grades, grouped by school name\n",
    "print(g9_10_11_12_avg_df.head(3))\n",
    "\n"
   ]
  },
  {
   "cell_type": "code",
   "execution_count": 14,
   "metadata": {},
   "outputs": [
    {
     "output_type": "stream",
     "name": "stdout",
     "text": [
      "MATH SCORES BY GRADE \n                              9th       10th       11th       12th\nschool_name                                                      \nBailey High School     77.083676  76.996772  77.515588  76.492218\nCabrera High School    83.094697  83.154506  82.765560  83.277487\nFigueroa High School   76.403037  76.539974  76.884344  77.151369\nFord High School       77.361345  77.672316  76.918058  76.179963\nGriffin High School    82.044010  84.229064  83.842105  83.356164\nHernandez High School  77.438495  77.337408  77.136029  77.186567\nHolden High School     83.787402  83.429825  85.000000  82.855422\nHuang High School      77.027251  75.908735  76.446602  77.225641\nJohnson High School    77.187857  76.691117  77.491653  76.863248\nPena High School       83.625455  83.372000  84.328125  84.121547\nRodriguez High School  76.859966  76.612500  76.395626  77.690748\nShelton High School    83.420755  82.917411  83.383495  83.778976\nThomas High School     83.590022  83.087886  83.498795  83.497041\nWilson High School     83.085578  83.724422  83.195326  83.035794\nWright High School     83.264706  84.010288  83.836782  83.644986\n"
     ]
    }
   ],
   "source": [
    "###MATH SCORE BY GRADE### This is the final table\n",
    "\n",
    "#copy math and reading avg score df\n",
    "math_avg_score_grouped_df=g9_10_11_12_avg_df.copy()\n",
    "\n",
    "#Drop Columns\n",
    "math_avg_score_grouped_df=math_avg_score_grouped_df.drop(columns=[\"9th Grade Reading Score\",\"10th Grade Reading Score\",\"11th Grade Reading Score\",\"12th Grade Reading Score\"])\n",
    "math_avg_score_grouped_df\n",
    "\n",
    "#Rename Columns as per solutions\n",
    "math_avg_score_grouped_df=math_avg_score_grouped_df.rename(columns={\"9th Grade Math Score\":\"9th\",\"10th Grade Math Score\":\"10th\",\"11th Grade Math Score\":\"11th\",\"12th Grade Math Score\":\"12th\"})\n",
    "\n",
    "print(f\"MATH SCORES BY GRADE \\n {math_avg_score_grouped_df}\")"
   ]
  },
  {
   "cell_type": "code",
   "execution_count": 15,
   "metadata": {},
   "outputs": [
    {
     "output_type": "stream",
     "name": "stdout",
     "text": [
      "READING SCORES BY GRADE \n                              9th       10th       11th       12th\nschool_name                                                      \nBailey High School     81.303155  80.907183  80.945643  80.912451\nCabrera High School    83.676136  84.253219  83.788382  84.287958\nFigueroa High School   81.198598  81.408912  80.640339  81.384863\nFord High School       80.632653  81.262712  80.403642  80.662338\nGriffin High School    83.369193  83.706897  84.288089  84.013699\nHernandez High School  80.866860  80.660147  81.396140  80.857143\nHolden High School     83.677165  83.324561  83.815534  84.698795\nHuang High School      81.290284  81.512386  81.417476  80.305983\nJohnson High School    81.260714  80.773431  80.616027  81.227564\nPena High School       83.807273  83.612000  84.335938  84.591160\nRodriguez High School  80.993127  80.629808  80.864811  80.376426\nShelton High School    84.122642  83.441964  84.373786  82.781671\nThomas High School     83.728850  84.254157  83.585542  83.831361\nWilson High School     83.939778  84.021452  83.764608  84.317673\nWright High School     83.833333  83.812757  84.156322  84.073171\n"
     ]
    }
   ],
   "source": [
    "##READING SCORE BY GRADE### This is the final table\n",
    "\n",
    "#copy reading and reading avg score df\n",
    "reading_avg_score_grouped_df=g9_10_11_12_avg_df.copy()\n",
    "\n",
    "#Drop Columns\n",
    "reading_avg_score_grouped_df=reading_avg_score_grouped_df.drop(columns=[\"9th Grade Math Score\",\"10th Grade Math Score\",\"11th Grade Math Score\",\"12th Grade Math Score\"])\n",
    "reading_avg_score_grouped_df\n",
    "\n",
    "#Rename Columns as per solutions\n",
    "reading_avg_score_grouped_df=reading_avg_score_grouped_df.rename(columns={\"9th Grade Reading Score\":\"9th\",\"10th Grade Reading Score\":\"10th\",\"11th Grade Reading Score\":\"11th\",\"12th Grade Reading Score\":\"12th\"})\n",
    "\n",
    "print(f\"READING SCORES BY GRADE \\n {reading_avg_score_grouped_df}\")"
   ]
  },
  {
   "cell_type": "code",
   "execution_count": 16,
   "metadata": {},
   "outputs": [
    {
     "output_type": "execute_result",
     "data": {
      "text/plain": [
       "       Student ID       student_name gender grade         school_name  \\\n",
       "0               0       Paul Bradley      M   9th   Huang High School   \n",
       "1               1       Victor Smith      M  12th   Huang High School   \n",
       "2               2    Kevin Rodriguez      M  12th   Huang High School   \n",
       "3               3  Dr. Richard Scott      M  12th   Huang High School   \n",
       "4               4         Bonnie Ray      F   9th   Huang High School   \n",
       "...           ...                ...    ...   ...                 ...   \n",
       "39165       39165       Donna Howard      F  12th  Thomas High School   \n",
       "39166       39166          Dawn Bell      F  10th  Thomas High School   \n",
       "39167       39167     Rebecca Tanner      F   9th  Thomas High School   \n",
       "39168       39168       Desiree Kidd      F  10th  Thomas High School   \n",
       "39169       39169    Carolyn Jackson      F  11th  Thomas High School   \n",
       "\n",
       "       reading_score  math_score  School ID      type  size   budget  \\\n",
       "0                 66          79          0  District  2917  1910635   \n",
       "1                 94          61          0  District  2917  1910635   \n",
       "2                 90          60          0  District  2917  1910635   \n",
       "3                 67          58          0  District  2917  1910635   \n",
       "4                 97          84          0  District  2917  1910635   \n",
       "...              ...         ...        ...       ...   ...      ...   \n",
       "39165             99          90         14   Charter  1635  1043130   \n",
       "39166             95          70         14   Charter  1635  1043130   \n",
       "39167             73          84         14   Charter  1635  1043130   \n",
       "39168             99          90         14   Charter  1635  1043130   \n",
       "39169             95          75         14   Charter  1635  1043130   \n",
       "\n",
       "       % Passing Math  % Passing Reading  % Overall Passing  \n",
       "0                True              False              False  \n",
       "1               False               True              False  \n",
       "2               False               True              False  \n",
       "3               False              False              False  \n",
       "4                True               True               True  \n",
       "...               ...                ...                ...  \n",
       "39165            True               True               True  \n",
       "39166            True               True               True  \n",
       "39167            True               True               True  \n",
       "39168            True               True               True  \n",
       "39169            True               True               True  \n",
       "\n",
       "[39170 rows x 14 columns]"
      ],
      "text/html": "<div>\n<style scoped>\n    .dataframe tbody tr th:only-of-type {\n        vertical-align: middle;\n    }\n\n    .dataframe tbody tr th {\n        vertical-align: top;\n    }\n\n    .dataframe thead th {\n        text-align: right;\n    }\n</style>\n<table border=\"1\" class=\"dataframe\">\n  <thead>\n    <tr style=\"text-align: right;\">\n      <th></th>\n      <th>Student ID</th>\n      <th>student_name</th>\n      <th>gender</th>\n      <th>grade</th>\n      <th>school_name</th>\n      <th>reading_score</th>\n      <th>math_score</th>\n      <th>School ID</th>\n      <th>type</th>\n      <th>size</th>\n      <th>budget</th>\n      <th>% Passing Math</th>\n      <th>% Passing Reading</th>\n      <th>% Overall Passing</th>\n    </tr>\n  </thead>\n  <tbody>\n    <tr>\n      <th>0</th>\n      <td>0</td>\n      <td>Paul Bradley</td>\n      <td>M</td>\n      <td>9th</td>\n      <td>Huang High School</td>\n      <td>66</td>\n      <td>79</td>\n      <td>0</td>\n      <td>District</td>\n      <td>2917</td>\n      <td>1910635</td>\n      <td>True</td>\n      <td>False</td>\n      <td>False</td>\n    </tr>\n    <tr>\n      <th>1</th>\n      <td>1</td>\n      <td>Victor Smith</td>\n      <td>M</td>\n      <td>12th</td>\n      <td>Huang High School</td>\n      <td>94</td>\n      <td>61</td>\n      <td>0</td>\n      <td>District</td>\n      <td>2917</td>\n      <td>1910635</td>\n      <td>False</td>\n      <td>True</td>\n      <td>False</td>\n    </tr>\n    <tr>\n      <th>2</th>\n      <td>2</td>\n      <td>Kevin Rodriguez</td>\n      <td>M</td>\n      <td>12th</td>\n      <td>Huang High School</td>\n      <td>90</td>\n      <td>60</td>\n      <td>0</td>\n      <td>District</td>\n      <td>2917</td>\n      <td>1910635</td>\n      <td>False</td>\n      <td>True</td>\n      <td>False</td>\n    </tr>\n    <tr>\n      <th>3</th>\n      <td>3</td>\n      <td>Dr. Richard Scott</td>\n      <td>M</td>\n      <td>12th</td>\n      <td>Huang High School</td>\n      <td>67</td>\n      <td>58</td>\n      <td>0</td>\n      <td>District</td>\n      <td>2917</td>\n      <td>1910635</td>\n      <td>False</td>\n      <td>False</td>\n      <td>False</td>\n    </tr>\n    <tr>\n      <th>4</th>\n      <td>4</td>\n      <td>Bonnie Ray</td>\n      <td>F</td>\n      <td>9th</td>\n      <td>Huang High School</td>\n      <td>97</td>\n      <td>84</td>\n      <td>0</td>\n      <td>District</td>\n      <td>2917</td>\n      <td>1910635</td>\n      <td>True</td>\n      <td>True</td>\n      <td>True</td>\n    </tr>\n    <tr>\n      <th>...</th>\n      <td>...</td>\n      <td>...</td>\n      <td>...</td>\n      <td>...</td>\n      <td>...</td>\n      <td>...</td>\n      <td>...</td>\n      <td>...</td>\n      <td>...</td>\n      <td>...</td>\n      <td>...</td>\n      <td>...</td>\n      <td>...</td>\n      <td>...</td>\n    </tr>\n    <tr>\n      <th>39165</th>\n      <td>39165</td>\n      <td>Donna Howard</td>\n      <td>F</td>\n      <td>12th</td>\n      <td>Thomas High School</td>\n      <td>99</td>\n      <td>90</td>\n      <td>14</td>\n      <td>Charter</td>\n      <td>1635</td>\n      <td>1043130</td>\n      <td>True</td>\n      <td>True</td>\n      <td>True</td>\n    </tr>\n    <tr>\n      <th>39166</th>\n      <td>39166</td>\n      <td>Dawn Bell</td>\n      <td>F</td>\n      <td>10th</td>\n      <td>Thomas High School</td>\n      <td>95</td>\n      <td>70</td>\n      <td>14</td>\n      <td>Charter</td>\n      <td>1635</td>\n      <td>1043130</td>\n      <td>True</td>\n      <td>True</td>\n      <td>True</td>\n    </tr>\n    <tr>\n      <th>39167</th>\n      <td>39167</td>\n      <td>Rebecca Tanner</td>\n      <td>F</td>\n      <td>9th</td>\n      <td>Thomas High School</td>\n      <td>73</td>\n      <td>84</td>\n      <td>14</td>\n      <td>Charter</td>\n      <td>1635</td>\n      <td>1043130</td>\n      <td>True</td>\n      <td>True</td>\n      <td>True</td>\n    </tr>\n    <tr>\n      <th>39168</th>\n      <td>39168</td>\n      <td>Desiree Kidd</td>\n      <td>F</td>\n      <td>10th</td>\n      <td>Thomas High School</td>\n      <td>99</td>\n      <td>90</td>\n      <td>14</td>\n      <td>Charter</td>\n      <td>1635</td>\n      <td>1043130</td>\n      <td>True</td>\n      <td>True</td>\n      <td>True</td>\n    </tr>\n    <tr>\n      <th>39169</th>\n      <td>39169</td>\n      <td>Carolyn Jackson</td>\n      <td>F</td>\n      <td>11th</td>\n      <td>Thomas High School</td>\n      <td>95</td>\n      <td>75</td>\n      <td>14</td>\n      <td>Charter</td>\n      <td>1635</td>\n      <td>1043130</td>\n      <td>True</td>\n      <td>True</td>\n      <td>True</td>\n    </tr>\n  </tbody>\n</table>\n<p>39170 rows × 14 columns</p>\n</div>"
     },
     "metadata": {},
     "execution_count": 16
    }
   ],
   "source": [
    "#This was created in the previous rows but will be used for the subsequent rows for sections: Scores by School Spending, Scores by School Size, Scores by School Type\n",
    "boolean_df"
   ]
  },
  {
   "cell_type": "code",
   "execution_count": 17,
   "metadata": {},
   "outputs": [
    {
     "output_type": "execute_result",
     "data": {
      "text/plain": [
       "                      Average Math Score  Average Reading Score  \\\n",
       "Spending Range Group                                              \n",
       "<$584                          83.363065              83.964039   \n",
       "$585-629                       79.982873              82.312643   \n",
       "$630-644                       77.821056              81.301007   \n",
       "$645-675                       77.049297              81.005604   \n",
       "\n",
       "                      % Passing Math  % Passing Reading  % Overall Passing  \n",
       "Spending Range Group                                                        \n",
       "<$584                      93.702889          96.686558          90.640704  \n",
       "$585-629                   79.109851          88.513145          70.939239  \n",
       "$630-644                   70.623565          82.600247          58.841194  \n",
       "$645-675                   66.230813          81.109397          53.528791  "
      ],
      "text/html": "<div>\n<style scoped>\n    .dataframe tbody tr th:only-of-type {\n        vertical-align: middle;\n    }\n\n    .dataframe tbody tr th {\n        vertical-align: top;\n    }\n\n    .dataframe thead th {\n        text-align: right;\n    }\n</style>\n<table border=\"1\" class=\"dataframe\">\n  <thead>\n    <tr style=\"text-align: right;\">\n      <th></th>\n      <th>Average Math Score</th>\n      <th>Average Reading Score</th>\n      <th>% Passing Math</th>\n      <th>% Passing Reading</th>\n      <th>% Overall Passing</th>\n    </tr>\n    <tr>\n      <th>Spending Range Group</th>\n      <th></th>\n      <th></th>\n      <th></th>\n      <th></th>\n      <th></th>\n    </tr>\n  </thead>\n  <tbody>\n    <tr>\n      <th>&lt;$584</th>\n      <td>83.363065</td>\n      <td>83.964039</td>\n      <td>93.702889</td>\n      <td>96.686558</td>\n      <td>90.640704</td>\n    </tr>\n    <tr>\n      <th>$585-629</th>\n      <td>79.982873</td>\n      <td>82.312643</td>\n      <td>79.109851</td>\n      <td>88.513145</td>\n      <td>70.939239</td>\n    </tr>\n    <tr>\n      <th>$630-644</th>\n      <td>77.821056</td>\n      <td>81.301007</td>\n      <td>70.623565</td>\n      <td>82.600247</td>\n      <td>58.841194</td>\n    </tr>\n    <tr>\n      <th>$645-675</th>\n      <td>77.049297</td>\n      <td>81.005604</td>\n      <td>66.230813</td>\n      <td>81.109397</td>\n      <td>53.528791</td>\n    </tr>\n  </tbody>\n</table>\n</div>"
     },
     "metadata": {},
     "execution_count": 17
    }
   ],
   "source": [
    "#Scores by School Spending\n",
    "\n",
    "#Take copy of the raw data with added boolean columns, and column names are all in order and named as per solution table.\n",
    "avg_complete_df=boolean_df.copy()\n",
    "\n",
    "#------------------------------------\n",
    "#Adding on new column with calculated budget per student\n",
    "avg_complete_df[\"budget per student\"]=avg_complete_df[\"budget\"]/avg_complete_df[\"size\"]\n",
    "\n",
    "#Binning Spending Ranges per Student\n",
    "bins=[0,584,629,644,675]\n",
    "group_names=[\"<$584\",\"$585-629\",\"$630-644\",\"$645-675\"]\n",
    "\n",
    "avg_complete_df[\"Spending Range Group\"]=pd.cut(avg_complete_df[\"budget per student\"], bins, labels=group_names, include_lowest=True)\n",
    "#Groupby the Spending Range Group\n",
    "avg_complete_df=avg_complete_df.groupby([\"Spending Range Group\"])\n",
    "avg_complete_df=avg_complete_df.mean()\n",
    "#--------\n",
    "#Change % Passing subjects from decimal to percentage values\n",
    "avg_complete_df[\"% Passing Math\"]=avg_complete_df[\"% Passing Math\"]*100\n",
    "avg_complete_df[\"% Passing Reading\"]=avg_complete_df[\"% Passing Reading\"]*100\n",
    "avg_complete_df[\"% Overall Passing\"]=avg_complete_df[\"% Overall Passing\"]*100\n",
    "#--------\n",
    "#####Editing for final size df#####\n",
    "#Rename columns\n",
    "avg_complete_df=avg_complete_df.rename(columns={\"math_score\":\"Average Math Score\",\"reading_score\":\"Average Reading Score\"})\n",
    "#Drop columns\n",
    "avg_complete_df=avg_complete_df.drop(columns={\"Student ID\",\"School ID\",\"size\",\"budget\",\"budget per student\"})\n",
    "#Reorder columns\n",
    "avg_complete_df=avg_complete_df[[\"Average Math Score\",\"Average Reading Score\",\"% Passing Math\",\"% Passing Reading\", \"% Overall Passing\"]]\n",
    "\n",
    "avg_complete_df"
   ]
  },
  {
   "cell_type": "code",
   "execution_count": 18,
   "metadata": {},
   "outputs": [
    {
     "output_type": "execute_result",
     "data": {
      "text/plain": [
       "             Average Math Score  Average Reading Score  % Passing Math  \\\n",
       "School Size                                                              \n",
       "<1000                 83.828654              83.974082       93.952484   \n",
       "1000-2000             83.372682              83.867989       93.616522   \n",
       "2000-5000             77.477597              81.198674       68.652380   \n",
       "\n",
       "             % Passing Reading  % Overall Passing  \n",
       "School Size                                        \n",
       "<1000                96.040317          90.136789  \n",
       "1000-2000            96.773058          90.624267  \n",
       "2000-5000            82.125158          56.574046  "
      ],
      "text/html": "<div>\n<style scoped>\n    .dataframe tbody tr th:only-of-type {\n        vertical-align: middle;\n    }\n\n    .dataframe tbody tr th {\n        vertical-align: top;\n    }\n\n    .dataframe thead th {\n        text-align: right;\n    }\n</style>\n<table border=\"1\" class=\"dataframe\">\n  <thead>\n    <tr style=\"text-align: right;\">\n      <th></th>\n      <th>Average Math Score</th>\n      <th>Average Reading Score</th>\n      <th>% Passing Math</th>\n      <th>% Passing Reading</th>\n      <th>% Overall Passing</th>\n    </tr>\n    <tr>\n      <th>School Size</th>\n      <th></th>\n      <th></th>\n      <th></th>\n      <th></th>\n      <th></th>\n    </tr>\n  </thead>\n  <tbody>\n    <tr>\n      <th>&lt;1000</th>\n      <td>83.828654</td>\n      <td>83.974082</td>\n      <td>93.952484</td>\n      <td>96.040317</td>\n      <td>90.136789</td>\n    </tr>\n    <tr>\n      <th>1000-2000</th>\n      <td>83.372682</td>\n      <td>83.867989</td>\n      <td>93.616522</td>\n      <td>96.773058</td>\n      <td>90.624267</td>\n    </tr>\n    <tr>\n      <th>2000-5000</th>\n      <td>77.477597</td>\n      <td>81.198674</td>\n      <td>68.652380</td>\n      <td>82.125158</td>\n      <td>56.574046</td>\n    </tr>\n  </tbody>\n</table>\n</div>"
     },
     "metadata": {},
     "execution_count": 18
    }
   ],
   "source": [
    "#Scores by School Size\n",
    "\n",
    "#Take copy of raw complete df with bool columns added\n",
    "size_complete_df=boolean_df.copy()\n",
    "\n",
    "#-------\n",
    "#Binning school sizes (based on number of students)\n",
    "bins=[0,1000,2000,5000]\n",
    "group_names=[\"<1000\",\"1000-2000\",\"2000-5000\"]\n",
    "\n",
    "size_complete_df[\"School Size\"]=pd.cut(size_complete_df[\"size\"], bins, labels=group_names, include_lowest=False)\n",
    "\n",
    "#Groupby the School Size Category\n",
    "size_complete_df=size_complete_df.groupby([\"School Size\"])\n",
    "#size_complete_df=size_complete_df.mean()\n",
    "size_complete_df=size_complete_df.mean()\n",
    "#--------\n",
    "#Change % Passing subjects from decimal to percentage values\n",
    "size_complete_df[\"% Passing Math\"]=size_complete_df[\"% Passing Math\"]*100\n",
    "size_complete_df[\"% Passing Reading\"]=size_complete_df[\"% Passing Reading\"]*100\n",
    "size_complete_df[\"% Overall Passing\"]=size_complete_df[\"% Overall Passing\"]*100\n",
    "#--------\n",
    "#####Editing for final size df#####\n",
    "#Rename columns\n",
    "size_edited_df=size_complete_df.rename(columns={\"math_score\":\"Average Math Score\",\"reading_score\":\"Average Reading Score\"})\n",
    "size_edited_df\n",
    "#Drop columns\n",
    "size_edited_df=size_edited_df.drop(columns={\"Student ID\",\"School ID\",\"size\",\"budget\"})\n",
    "#Reorder columns\n",
    "size_edited_df=size_edited_df[[\"Average Math Score\",\"Average Reading Score\",\"% Passing Math\",\"% Passing Reading\", \"% Overall Passing\"]]\n",
    "\n",
    "size_edited_df"
   ]
  },
  {
   "cell_type": "code",
   "execution_count": 19,
   "metadata": {},
   "outputs": [
    {
     "output_type": "execute_result",
     "data": {
      "text/plain": [
       "          Average Math Score  Average Reading Score  % Passing Math  \\\n",
       "type                                                                  \n",
       "Charter            83.406183              83.902821       93.701821   \n",
       "District           76.987026              80.962485       66.518387   \n",
       "\n",
       "          % Passing Reading  % Overall Passing  \n",
       "type                                            \n",
       "Charter           96.645891          90.560932  \n",
       "District          80.905249          53.695878  "
      ],
      "text/html": "<div>\n<style scoped>\n    .dataframe tbody tr th:only-of-type {\n        vertical-align: middle;\n    }\n\n    .dataframe tbody tr th {\n        vertical-align: top;\n    }\n\n    .dataframe thead th {\n        text-align: right;\n    }\n</style>\n<table border=\"1\" class=\"dataframe\">\n  <thead>\n    <tr style=\"text-align: right;\">\n      <th></th>\n      <th>Average Math Score</th>\n      <th>Average Reading Score</th>\n      <th>% Passing Math</th>\n      <th>% Passing Reading</th>\n      <th>% Overall Passing</th>\n    </tr>\n    <tr>\n      <th>type</th>\n      <th></th>\n      <th></th>\n      <th></th>\n      <th></th>\n      <th></th>\n    </tr>\n  </thead>\n  <tbody>\n    <tr>\n      <th>Charter</th>\n      <td>83.406183</td>\n      <td>83.902821</td>\n      <td>93.701821</td>\n      <td>96.645891</td>\n      <td>90.560932</td>\n    </tr>\n    <tr>\n      <th>District</th>\n      <td>76.987026</td>\n      <td>80.962485</td>\n      <td>66.518387</td>\n      <td>80.905249</td>\n      <td>53.695878</td>\n    </tr>\n  </tbody>\n</table>\n</div>"
     },
     "metadata": {},
     "execution_count": 19
    }
   ],
   "source": [
    "#Scores by School Type\n",
    "\n",
    "#Take copy of raw complete df with bool columns added\n",
    "type_complete_df=boolean_df.copy()\n",
    "\n",
    "#-------\n",
    "#Groupby the School Type Category\n",
    "type_complete_df=type_complete_df.groupby([\"type\"])\n",
    "#size_complete_df=size_complete_df.mean()\n",
    "type_complete_df=type_complete_df.mean()\n",
    "#--------\n",
    "#Change % Passing subjects from decimal to percentage values\n",
    "type_complete_df[\"% Passing Math\"]=type_complete_df[\"% Passing Math\"]*100\n",
    "type_complete_df[\"% Passing Reading\"]=type_complete_df[\"% Passing Reading\"]*100\n",
    "type_complete_df[\"% Overall Passing\"]=type_complete_df[\"% Overall Passing\"]*100\n",
    "#--------\n",
    "#####Editing for final size df#####\n",
    "#Rename columns\n",
    "type_edited_df=type_complete_df.rename(columns={\"math_score\":\"Average Math Score\",\"reading_score\":\"Average Reading Score\"})\n",
    "#Drop columns\n",
    "type_edited_df=type_edited_df.drop(columns={\"Student ID\",\"School ID\",\"size\",\"budget\"})\n",
    "#Reorder columns\n",
    "type_edited_df=type_edited_df[[\"Average Math Score\",\"Average Reading Score\",\"% Passing Math\",\"% Passing Reading\", \"% Overall Passing\"]]\n",
    "\n",
    "type_edited_df"
   ]
  },
  {
   "cell_type": "code",
   "execution_count": null,
   "metadata": {},
   "outputs": [],
   "source": []
  }
 ],
 "metadata": {
  "kernelspec": {
   "name": "python3",
   "display_name": "Python 3.6.10 64-bit",
   "metadata": {
    "interpreter": {
     "hash": "e7fc2354c13015bdfad1755b4a48a3eeb5cb703f1c2bff07599d6953b8d3ca77"
    }
   }
  },
  "language_info": {
   "codemirror_mode": {
    "name": "ipython",
    "version": 3
   },
   "file_extension": ".py",
   "mimetype": "text/x-python",
   "name": "python",
   "nbconvert_exporter": "python",
   "pygments_lexer": "ipython3",
   "version": "3.6.10-final"
  }
 },
 "nbformat": 4,
 "nbformat_minor": 4
}